{
  "nbformat": 4,
  "nbformat_minor": 0,
  "metadata": {
    "colab": {
      "name": "Untitled0.ipynb",
      "provenance": [],
      "authorship_tag": "ABX9TyOPRrI0fJf9gw0Oli5AAqe4",
      "include_colab_link": true
    },
    "kernelspec": {
      "name": "python3",
      "display_name": "Python 3"
    },
    "language_info": {
      "name": "python"
    }
  },
  "cells": [
    {
      "cell_type": "markdown",
      "metadata": {
        "id": "view-in-github",
        "colab_type": "text"
      },
      "source": [
        "<a href=\"https://colab.research.google.com/github/Tuo96960/3511-Fall-2022/blob/main/AshtynWeek1TuesdayWork.ipynb\" target=\"_parent\"><img src=\"https://colab.research.google.com/assets/colab-badge.svg\" alt=\"Open In Colab\"/></a>"
      ]
    },
    {
      "cell_type": "markdown",
      "source": [
        "# Week 1 Tuesday in class work"
      ],
      "metadata": {
        "id": "2kefGQXgwpPI"
      }
    },
    {
      "cell_type": "markdown",
      "source": [
        "Write a code that concatenates the two lists below index-wise. Create a new list that contains as it 0th index the concatenation of list1 and list2's 0th index, its 1st index as the concatenation of list1 and list2's 1st index and so on."
      ],
      "metadata": {
        "id": "Dqak3AjzvX-f"
      }
    },
    {
      "cell_type": "code",
      "execution_count": null,
      "metadata": {
        "id": "oDC8xpCYvJy0"
      },
      "outputs": [],
      "source": [
        "list1 = ['wh','Y','gon','ca']\n",
        "list2 = ['o','a','na','ll']\n",
        "\n",
        "new_list = []\n",
        "r = range(4)\n",
        "\n",
        "for n in r:\n",
        "    beg = list1[n]\n",
        "    end = list2[n]\n",
        "    word = beg+end\n",
        "    new_list.append(word)\n",
        "\n",
        "print(new_list)"
      ]
    },
    {
      "cell_type": "markdown",
      "source": [
        "Write a program to iterate the first 10 numbers (0 to 9) and in each iteration, print the sum of the current and previous number."
      ],
      "metadata": {
        "id": "I9wO1sXmvTIt"
      }
    },
    {
      "cell_type": "code",
      "source": [
        "sum = 0\n",
        "previous_num = 0\n",
        "r = range(10)\n",
        "print(\"printing current and previous number sum in a range(10)\")\n",
        "\n",
        "for n in r:\n",
        "    sum = n + previous_num\n",
        "    print(\"current number:\", n)\n",
        "    if n>0:\n",
        "        print(\"previous number:\", n-1)\n",
        "    else:\n",
        "        print(\"previous number:\", n)\n",
        "    print(\"sum:\", sum)\n",
        "    previous_num = n"
      ],
      "metadata": {
        "id": "CY3GHgEav0n0"
      },
      "execution_count": null,
      "outputs": []
    },
    {
      "cell_type": "markdown",
      "source": [
        "Define a function called is_odd that takes an integer as its argument and tells the user if it is even, odd, or zero."
      ],
      "metadata": {
        "id": "aeTBp45vv3OW"
      }
    },
    {
      "cell_type": "code",
      "source": [
        "def main():\n",
        "    n = int(input())\n",
        "    is_odd(n)\n",
        "\n",
        "def is_odd(n):\n",
        "    if n==0:\n",
        "        print(\"integer is 0\")\n",
        "    elif n%2 == 0:\n",
        "        print(\"Even\")\n",
        "    else:\n",
        "        print(\"Odd\")\n",
        "\n",
        "main()"
      ],
      "metadata": {
        "id": "qvo7Ww0sv8op"
      },
      "execution_count": null,
      "outputs": []
    },
    {
      "cell_type": "markdown",
      "source": [
        "Unpack the tuple tuple1. Expected output: tuple1 = (0, 5, 10, 15)\\"
      ],
      "metadata": {
        "id": "dVuRJPrDv_h3"
      }
    },
    {
      "cell_type": "code",
      "source": [
        "tuple1 = (0, 5, 10, 15)\n",
        "r = range(4)\n",
        "\n",
        "for n in r:\n",
        "    print(tuple1[n])"
      ],
      "metadata": {
        "id": "L-YQp_3uwCnD"
      },
      "execution_count": null,
      "outputs": []
    }
  ]
}