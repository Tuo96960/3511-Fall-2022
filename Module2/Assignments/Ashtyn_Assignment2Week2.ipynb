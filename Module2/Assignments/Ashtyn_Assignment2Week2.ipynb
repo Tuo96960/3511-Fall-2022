{
  "nbformat": 4,
  "nbformat_minor": 0,
  "metadata": {
    "colab": {
      "provenance": [],
      "collapsed_sections": []
    },
    "kernelspec": {
      "name": "python3",
      "display_name": "Python 3"
    },
    "language_info": {
      "name": "python"
    }
  },
  "cells": [
    {
      "cell_type": "markdown",
      "source": [
        "#Assignment 2"
      ],
      "metadata": {
        "id": "Npwc_L4JGycT"
      }
    },
    {
      "cell_type": "markdown",
      "source": [
        "Ignoring air resistance completely, write down the equations of motion for the cannonball "
      ],
      "metadata": {
        "id": "KYiHMxXUG5Yh"
      }
    },
    {
      "cell_type": "code",
      "execution_count": null,
      "metadata": {
        "id": "aZMxqus7XRjk"
      },
      "outputs": [],
      "source": [
        "import math\n",
        "import numpy as np\n",
        "from scipy import integrate\n",
        "import matplotlib.pyplot as plt\n"
      ]
    },
    {
      "cell_type": "code",
      "source": [
        "t0 = 0.0 #s\n",
        "tf = 3.5 #s\n",
        "n = 100\n",
        "t_array = np.linspace(t0,tf,n)\n",
        "\n",
        "v = 300.0 #m/s\n",
        "theta = 50.0 #degrees\n",
        "vx0 = (v * math.cos(theta))\n",
        "vy0 = -(v * math.sin(theta))\n",
        "\n",
        "x0 = np.array([0.0,vx0]) #[m, m/s]\n",
        "y0 = np.array([0.0,vy0]) #[m, m/s]\n",
        "\n",
        "# diameter = 15.0 cm\n",
        "# density = 7.8 g/cm^3\n",
        "\n",
        "# Equation to find Delta y is Delta_Y = V0y*t + half*g*t\n",
        "# Equation to find Delta x is Detla_X = V0x*t\n",
        "\n",
        "g = -9.8 #m/s\n",
        "\n",
        "def proj_vac(t, a):\n",
        "  x, y = a\n",
        "  dx_dt = vx0 * t\n",
        "  dy_dt = vy0 + (g * t)\n",
        "  return dx_dt, dy_dt  \n",
        "\n",
        "  #def proj_vac(def proj_vac(t, a):\n",
        "  #x, y = a\n",
        "  #fx = x0[0] + (x0[1])\n",
        "  #fy = y0[0] + (half * g * t_array[0])\n",
        "  #return fx, fy\n"
      ],
      "metadata": {
        "id": "nYLco9atXamg"
      },
      "execution_count": null,
      "outputs": []
    },
    {
      "cell_type": "markdown",
      "source": [
        "Using Scipy (RK4(5) method) solve numerically \n",
        "x\n",
        "(\n",
        "t\n",
        ")\n",
        " and \n",
        "y\n",
        "(\n",
        "t\n",
        ")\n",
        " for "
      ],
      "metadata": {
        "id": "bfvuC42dHCXa"
      }
    },
    {
      "cell_type": "code",
      "source": [
        "proj_RK45 = integrate.solve_ivp(proj_vac, (t0,tf), (0,0), method='RK45', t_eval=t_array)"
      ],
      "metadata": {
        "id": "ZVnYQJScY-M7"
      },
      "execution_count": null,
      "outputs": []
    },
    {
      "cell_type": "markdown",
      "source": [
        "Plot the ball's trajectory (vertical vs. horizontal positions) and find it's horizontal range"
      ],
      "metadata": {
        "id": "zoaqPBx_HFIS"
      }
    },
    {
      "cell_type": "code",
      "source": [
        "fig, v = plt.subplots()\n",
        "\n",
        "v.set_title(\"Projectile in a Vaccum\")\n",
        "v.set_xlabel(\"X Values\")\n",
        "v.set_ylabel(\"Y Values\")\n",
        "v.plot(proj_RK45.y[0], proj_RK45.y[1])\n",
        "\n",
        "plt.show()"
      ],
      "metadata": {
        "colab": {
          "base_uri": "https://localhost:8080/",
          "height": 295
        },
        "id": "eItfDTUUZPZ7",
        "outputId": "58afcdfc-5773-442c-bddc-65e3d3497e72"
      },
      "execution_count": null,
      "outputs": [
        {
          "output_type": "display_data",
          "data": {
            "text/plain": [
              "<Figure size 432x288 with 1 Axes>"
            ],
            "image/png": "[encoded data removed]"
          },
          "metadata": {
            "needs_background": "light"
          }
        }
      ]
    },
    {
      "cell_type": "markdown",
      "source": [
        "##Part - B"
      ],
      "metadata": {
        "id": "M0YKReoiLVoZ"
      }
    },
    {
      "cell_type": "markdown",
      "source": [
        "Write your own Runge-Kutta order 4 function and use it to solve Part a) [Meaning do not use Scipy for this part]. How does your Runge-Kutta 4th order evaluation compare to Scipy's RK4(5) method?"
      ],
      "metadata": {
        "id": "YG2CjR2ULc5N"
      }
    },
    {
      "cell_type": "code",
      "source": [
        "# I was having a particullarly difficult time with this assignment in general and ended up, unfortunatley, running out of time to really work this out. I kept getting errors about wrong shapes and was ahving a hard time visualizing what should be happening in this function.\n",
        "\n",
        "# def rungekutta_45(f,t,x0, args=()):\n",
        "#     n = len(t)\n",
        "#     x = np.zeros((n,len(y0)))\n",
        "#     x[0] = x0  \n",
        "#     for i in range (0,n-1):      \n",
        "#         dt = t[i+1]-t[i] \n",
        "#         h = int(dt/2)  \n",
        "#         dt = int(dt)     \n",
        "#         k1 = f(t[i],x[i],*args); \n",
        "#         k2 = f(t[i]+h, x[i] + h * k1, *args)\n",
        "#         k3 = f(t[i]+h, x[i] + h * k2, *args)\n",
        "#         k4 = f(t[i]+dt, x[i]+dt * k3, *args)\n",
        "#         x[i+1] = x[i] +dt*k2\n",
        "                \n",
        "#     return x\n",
        "\n",
        "run = rungekutta_45(proj_vac, (0,3.5), (0,0))\n",
        "\n",
        "\n",
        "\n",
        "fig, r = plt.subplots()\n",
        "r.set_title(\"Projectile in a Vaccum\")\n",
        "r.set_xlabel(\"time (s)\")\n",
        "r.set_ylabel(\"trajectory\")\n",
        "r.plot(proj_RK45.t, proj_RK45.y[0])\n",
        "plt.show()"
      ],
      "metadata": {
        "colab": {
          "base_uri": "https://localhost:8080/",
          "height": 358
        },
        "id": "TWW_bSoxa2dt",
        "outputId": "96066409-813e-4e86-d9ee-d03d29ab8eb6"
      },
      "execution_count": 142,
      "outputs": [
        {
          "output_type": "error",
          "ename": "ValueError",
          "evalue": "ignored",
          "traceback": [
            "\u001b[0;31m---------------------------------------------------------------------------\u001b[0m",
            "\u001b[0;31mValueError\u001b[0m                                Traceback (most recent call last)",
            "\u001b[0;32m<ipython-input-142-009cebe794a8>\u001b[0m in \u001b[0;36m<module>\u001b[0;34m\u001b[0m\n\u001b[1;32m     15\u001b[0m     \u001b[0;32mreturn\u001b[0m \u001b[0mx\u001b[0m\u001b[0;34m\u001b[0m\u001b[0;34m\u001b[0m\u001b[0m\n\u001b[1;32m     16\u001b[0m \u001b[0;34m\u001b[0m\u001b[0m\n\u001b[0;32m---> 17\u001b[0;31m \u001b[0mrun\u001b[0m \u001b[0;34m=\u001b[0m \u001b[0mrungekutta_45\u001b[0m\u001b[0;34m(\u001b[0m\u001b[0mproj_vac\u001b[0m\u001b[0;34m,\u001b[0m \u001b[0;34m(\u001b[0m\u001b[0;36m0\u001b[0m\u001b[0;34m,\u001b[0m\u001b[0;36m3.5\u001b[0m\u001b[0;34m)\u001b[0m\u001b[0;34m,\u001b[0m \u001b[0;34m(\u001b[0m\u001b[0;36m0\u001b[0m\u001b[0;34m,\u001b[0m\u001b[0;36m0\u001b[0m\u001b[0;34m)\u001b[0m\u001b[0;34m)\u001b[0m\u001b[0;34m\u001b[0m\u001b[0;34m\u001b[0m\u001b[0m\n\u001b[0m\u001b[1;32m     18\u001b[0m \u001b[0;34m\u001b[0m\u001b[0m\n\u001b[1;32m     19\u001b[0m \u001b[0;34m\u001b[0m\u001b[0m\n",
            "\u001b[0;32m<ipython-input-142-009cebe794a8>\u001b[0m in \u001b[0;36mrungekutta_45\u001b[0;34m(f, t, x0, args)\u001b[0m\n\u001b[1;32m     10\u001b[0m         \u001b[0mk2\u001b[0m \u001b[0;34m=\u001b[0m \u001b[0mf\u001b[0m\u001b[0;34m(\u001b[0m\u001b[0mt\u001b[0m\u001b[0;34m[\u001b[0m\u001b[0mi\u001b[0m\u001b[0;34m]\u001b[0m\u001b[0;34m+\u001b[0m\u001b[0mh\u001b[0m\u001b[0;34m,\u001b[0m \u001b[0mx\u001b[0m\u001b[0;34m[\u001b[0m\u001b[0mi\u001b[0m\u001b[0;34m]\u001b[0m \u001b[0;34m+\u001b[0m \u001b[0mh\u001b[0m \u001b[0;34m*\u001b[0m \u001b[0mk1\u001b[0m\u001b[0;34m,\u001b[0m \u001b[0;34m*\u001b[0m\u001b[0margs\u001b[0m\u001b[0;34m)\u001b[0m\u001b[0;34m\u001b[0m\u001b[0;34m\u001b[0m\u001b[0m\n\u001b[1;32m     11\u001b[0m         \u001b[0mk3\u001b[0m \u001b[0;34m=\u001b[0m \u001b[0mf\u001b[0m\u001b[0;34m(\u001b[0m\u001b[0mt\u001b[0m\u001b[0;34m[\u001b[0m\u001b[0mi\u001b[0m\u001b[0;34m]\u001b[0m\u001b[0;34m+\u001b[0m\u001b[0mh\u001b[0m\u001b[0;34m,\u001b[0m \u001b[0mx\u001b[0m\u001b[0;34m[\u001b[0m\u001b[0mi\u001b[0m\u001b[0;34m]\u001b[0m \u001b[0;34m+\u001b[0m \u001b[0mh\u001b[0m \u001b[0;34m*\u001b[0m \u001b[0mk2\u001b[0m\u001b[0;34m,\u001b[0m \u001b[0;34m*\u001b[0m\u001b[0margs\u001b[0m\u001b[0;34m)\u001b[0m\u001b[0;34m\u001b[0m\u001b[0;34m\u001b[0m\u001b[0m\n\u001b[0;32m---> 12\u001b[0;31m         \u001b[0mk4\u001b[0m \u001b[0;34m=\u001b[0m \u001b[0mf\u001b[0m\u001b[0;34m(\u001b[0m\u001b[0mt\u001b[0m\u001b[0;34m[\u001b[0m\u001b[0mi\u001b[0m\u001b[0;34m]\u001b[0m\u001b[0;34m+\u001b[0m\u001b[0mdt\u001b[0m\u001b[0;34m,\u001b[0m \u001b[0mx\u001b[0m\u001b[0;34m[\u001b[0m\u001b[0mi\u001b[0m\u001b[0;34m]\u001b[0m\u001b[0;34m+\u001b[0m\u001b[0mdt\u001b[0m \u001b[0;34m*\u001b[0m \u001b[0mk3\u001b[0m\u001b[0;34m,\u001b[0m \u001b[0;34m*\u001b[0m\u001b[0margs\u001b[0m\u001b[0;34m)\u001b[0m\u001b[0;34m\u001b[0m\u001b[0;34m\u001b[0m\u001b[0m\n\u001b[0m\u001b[1;32m     13\u001b[0m         \u001b[0mx\u001b[0m\u001b[0;34m[\u001b[0m\u001b[0mi\u001b[0m\u001b[0;34m+\u001b[0m\u001b[0;36m1\u001b[0m\u001b[0;34m]\u001b[0m \u001b[0;34m=\u001b[0m \u001b[0mx\u001b[0m\u001b[0;34m[\u001b[0m\u001b[0mi\u001b[0m\u001b[0;34m]\u001b[0m \u001b[0;34m+\u001b[0m\u001b[0mdt\u001b[0m\u001b[0;34m*\u001b[0m\u001b[0mk2\u001b[0m\u001b[0;34m\u001b[0m\u001b[0;34m\u001b[0m\u001b[0m\n\u001b[1;32m     14\u001b[0m \u001b[0;34m\u001b[0m\u001b[0m\n",
            "\u001b[0;31mValueError\u001b[0m: operands could not be broadcast together with shapes (2,) (6,) "
          ]
        }
      ]
    },
    {
      "cell_type": "markdown",
      "source": [
        "## Part - C"
      ],
      "metadata": {
        "id": "lR9PAPuXMRtq"
      }
    },
    {
      "cell_type": "markdown",
      "source": [
        "Now include air resistance, but ignore the variation of atmospheric pressure [that is treat \n",
        "c\n",
        "(\n",
        "y\n",
        ")\n",
        " as a constant that does not change with position, where \n",
        "c\n",
        "=\n",
        "γ\n",
        "D\n",
        "2\n",
        "].\n",
        "\n",
        "Write down the equations of motion (use the markup feature in Jupyter notbook and latex)"
      ],
      "metadata": {
        "id": "2spGgCCdLhx8"
      }
    },
    {
      "cell_type": "code",
      "source": [
        "# drag is Fd = Cd(density * v^2 * Area)/2 \n",
        "#drag coefficient for sphere is 0.5\n",
        "\n",
        "\n",
        "g = 9.8\n",
        "density = 7.8 #g/cm^3\n",
        "diameter = 15.0 #cm\n",
        "r = diameter/2.0\n",
        "pi = 3.14159\n",
        "a = 4.0 * pi * r**2.0\n",
        "cd = 0.5\n",
        "#dy = (cd(density * (vy0**2) * a))/2 = mg\n",
        "volume = 4.0*pi*(r**2.0)\n",
        "m = density * volume\n",
        "a_0 = 2*(m*g)/(cd*density*a)\n",
        "# v_0 = np.array(v_0)\n",
        "a1 = np.sqrt(a_0)\n",
        "\n",
        "def proj_drag(t, b):\n",
        "  x, y = b\n",
        "  dx_dt = vx0 - (a1 * t)\n",
        "  dy_dt = vy0 - (a1 * t)\n",
        "  # dx_dt = vx0 * t\n",
        "  # dy_dt = vy0 + (g * t)\n",
        "  return dx_dt, dy_dt\n"
      ],
      "metadata": {
        "id": "zLMBuGVhLnfQ"
      },
      "execution_count": 134,
      "outputs": []
    },
    {
      "cell_type": "markdown",
      "source": [
        "Use Scipy (RK4(5) method) to solve numerically \n",
        "x\n",
        "(\n",
        "t\n",
        ")\n",
        " and \n",
        "y\n",
        "(\n",
        "t\n",
        ")\n",
        " for 0 <= t <= 3.5 s"
      ],
      "metadata": {
        "id": "pXtGyrAELoEt"
      }
    },
    {
      "cell_type": "code",
      "source": [
        "proj_RK45_drag = integrate.solve_ivp(proj_drag, (t0,tf), (0,0), method='RK45', t_eval = t_array)"
      ],
      "metadata": {
        "id": "9rlBD73ZLuoa"
      },
      "execution_count": 135,
      "outputs": []
    },
    {
      "cell_type": "markdown",
      "source": [
        "Plot the ball's trajecory and find it's horizontal range"
      ],
      "metadata": {
        "id": "WJalMF7hLxJh"
      }
    },
    {
      "cell_type": "code",
      "source": [
        "fig, d = plt.subplots()\n",
        "\n",
        "d.set_title(\"Projectile with Drag\")\n",
        "d.set_xlabel(\"X Values\")\n",
        "d.set_ylabel(\"Y Values\")\n",
        "d.plot(proj_RK45_drag.y[0],proj_RK45_drag.y[1])\n",
        "\n",
        "plt.show()"
      ],
      "metadata": {
        "id": "Of40o50ELxtD",
        "colab": {
          "base_uri": "https://localhost:8080/",
          "height": 295
        },
        "outputId": "7088a01b-3653-4946-f5ad-34075992c4a0"
      },
      "execution_count": 136,
      "outputs": [
        {
          "output_type": "display_data",
          "data": {
            "text/plain": [
              "<Figure size 432x288 with 1 Axes>"
            ],
            "image/png": "[encoded data removed]"
          },
          "metadata": {
            "needs_background": "light"
          }
        }
      ]
    },
    {
      "cell_type": "markdown",
      "source": [
        "## Part- D"
      ],
      "metadata": {
        "id": "w5UUrsSNLyCS"
      }
    },
    {
      "cell_type": "markdown",
      "source": [
        "Now include the drag term with the atmospheric variation included [meaning \n",
        "c\n",
        "(\n",
        "y\n",
        ")\n",
        "=\n",
        "γ\n",
        "D\n",
        "2\n",
        "e\n",
        "x\n",
        "p\n",
        "(\n",
        "−\n",
        "y\n",
        "/\n",
        "λ\n",
        ")\n",
        "]\n",
        "\n",
        "Write down the equations of motion (use the markup feature in Jupyter notbook and latex)"
      ],
      "metadata": {
        "id": "6cKhz0ehL0Cv"
      }
    },
    {
      "cell_type": "code",
      "source": [
        "cd_y = 0.25 * ((density**2.0)**(-y0[0]/10000))\n",
        "cd_x = 0.25 * ((density**2.0)**(-x0[0]/10000))\n",
        "\n",
        "v_atmy = (2.0*(m*(g)))/(cd_y * density * a)\n",
        "v_atmx = (2.0*(m*(g)))/(cd_x * density * a)\n",
        "v_atmy1 = np.sqrt(v_atmy)\n",
        "v_atmx1 = np.sqrt(v_atmx)\n",
        "\n",
        "def proj_atm (t,c):\n",
        "  x, y = c\n",
        "  dx_dt = vx0 - (v_atmx1 * t)\n",
        "  dy_dt = vy0 - (v_atmy1 * t)\n",
        "  return dx_dt, dy_dt"
      ],
      "metadata": {
        "id": "5aC3yFTCL3_b"
      },
      "execution_count": 127,
      "outputs": []
    },
    {
      "cell_type": "markdown",
      "source": [
        "Use Scipy (RK4(5) method) to solve numerically \n",
        "x\n",
        "(\n",
        "t\n",
        ")\n",
        " and \n",
        "y\n",
        "(\n",
        "t\n",
        ")\n",
        " for 0 <= t <= 3.5 s"
      ],
      "metadata": {
        "id": "NPnDxXfyL-rD"
      }
    },
    {
      "cell_type": "code",
      "source": [
        "proj_RK45_atm = integrate.solve_ivp(proj_atm, (t0,tf), (0,0), method='RK45',t_eval = t_array)"
      ],
      "metadata": {
        "id": "Wa9B2aJFMBw-"
      },
      "execution_count": 128,
      "outputs": []
    },
    {
      "cell_type": "markdown",
      "source": [
        "Plot the ball's trajectory and find it's horizontal range"
      ],
      "metadata": {
        "id": "p9GETUlzMEXj"
      }
    },
    {
      "cell_type": "code",
      "source": [
        "fig, a = plt.subplots()\n",
        "\n",
        "a.set_title(\"Projetile with Atmospheric Variation\")\n",
        "a.set_xlabel(\"X Values\")\n",
        "a.set_ylabel(\"Y Values\")\n",
        "a.plot(proj_RK45_atm.y[0],proj_RK45_atm.y[1])\n",
        "\n",
        "plt.show()"
      ],
      "metadata": {
        "id": "E0AmmmxsME9P",
        "colab": {
          "base_uri": "https://localhost:8080/",
          "height": 295
        },
        "outputId": "bd28a03a-b54d-44da-e154-33542b5a7a00"
      },
      "execution_count": 129,
      "outputs": [
        {
          "output_type": "display_data",
          "data": {
            "text/plain": [
              "<Figure size 432x288 with 1 Axes>"
            ],
            "image/png": "[encoded data removed]"
          },
          "metadata": {
            "needs_background": "light"
          }
        }
      ]
    },
    {
      "cell_type": "markdown",
      "source": [
        "## Part - E"
      ],
      "metadata": {
        "id": "U5JVp06uMFOn"
      }
    },
    {
      "cell_type": "markdown",
      "source": [
        "Plot the trajectories from parts a), c), and d) on the same plot."
      ],
      "metadata": {
        "id": "3pz21JBQMI_7"
      }
    },
    {
      "cell_type": "code",
      "source": [
        "fig, all = plt.subplots()\n",
        "\n",
        "all.set_title(\"All Trajectories\")\n",
        "all.set_xlabel(\"X Values\")\n",
        "all.set_ylabel(\"Y Values\")\n",
        "line1 = all.plot(proj_RK45.y[0],proj_RK45.y[1]) \n",
        "line2 = all.plot(proj_RK45_drag.y[0],proj_RK45_drag.y[1]) \n",
        "line3 = all.plot(proj_RK45_atm.y[0],proj_RK45_atm.y[1]) \n",
        "all.legend(['No air resistance', 'With constant air resistance', 'With varying air resistance'])\n",
        "\n",
        "plt.show()"
      ],
      "metadata": {
        "id": "1D5PcBQJMJtF",
        "colab": {
          "base_uri": "https://localhost:8080/",
          "height": 295
        },
        "outputId": "815787c2-4941-4e5d-cdb5-7abbbd9dd368"
      },
      "execution_count": 141,
      "outputs": [
        {
          "output_type": "display_data",
          "data": {
            "text/plain": [
              "<Figure size 432x288 with 1 Axes>"
            ],
            "image/png": "[encoded data removed]"
          },
          "metadata": {
            "needs_background": "light"
          }
        }
      ]
    },
    {
      "cell_type": "markdown",
      "source": [
        "What impacts the motion more: turning on air resistance (i.e with \n",
        "c\n",
        "(\n",
        "0\n",
        ")\n",
        ") or turning on the variation with atmosphere (i.e. \n",
        "c\n",
        "(\n",
        "y\n",
        ")\n",
        ") ?"
      ],
      "metadata": {
        "id": "dZwI9gOMMMZP"
      }
    },
    {
      "cell_type": "markdown",
      "source": [
        "Answer: The constant resistance seemed to make a slightly bigger difference, but it is likely becuase my math is wrong that it is so dissimilar."
      ],
      "metadata": {
        "id": "pZkdR-twI0Ux"
      }
    }
  ]
}