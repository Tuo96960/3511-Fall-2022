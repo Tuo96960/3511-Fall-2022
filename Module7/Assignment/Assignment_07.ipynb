{
  "cells": [
    {
      "cell_type": "markdown",
      "metadata": {
        "id": "GM4OvM4A0yGF"
      },
      "source": [
        "# Assignment 07: Due 10/10\n",
        "\n",
        "In this assignment we will look at some real data from the CMS experiment at the LHC. The LHC makes a lot of its data publically available here: http://opendata.cern.ch. The information about the data set we will be working with at can be found here: http://opendata.cern.ch/record/545"
      ]
    },
    {
      "cell_type": "code",
      "source": [
        "import pandas as pd\n",
        "import numpy as np\n",
        "import matplotlib.pyplot as plt\n",
        "import scipy.optimize as op"
      ],
      "metadata": {
        "id": "-1dVS82zLbfy"
      },
      "execution_count": 1,
      "outputs": []
    },
    {
      "cell_type": "markdown",
      "metadata": {
        "id": "po99PLpu0yGI"
      },
      "source": [
        "## Imports \n",
        "\n",
        "For this assignemnt you will need the following imports"
      ]
    },
    {
      "cell_type": "code",
      "execution_count": 2,
      "metadata": {
        "id": "ldE4UB_u0yGJ"
      },
      "outputs": [],
      "source": [
        "ep = 'https://raw.githubusercontent.com/Tuo96960/3511-Fall-2022/main/Module7/Assignment/data/Ep_data.txt'\n",
        "wm = 'https://raw.githubusercontent.com/Tuo96960/3511-Fall-2022/main/Module7/Assignment/data/Wmass_data.txt'\n",
        "zrun = 'https://raw.githubusercontent.com/Tuo96960/3511-Fall-2022/main/Module7/Assignment/data/Zee_Run2011A.csv'\n",
        "decay = 'https://raw.githubusercontent.com/Tuo96960/3511-Fall-2022/main/Module7/Assignment/data/decay_data.txt'\n",
        "pr = 'https://raw.githubusercontent.com/Tuo96960/3511-Fall-2022/main/Module7/Assignment/data/proton_radius_data.txt'"
      ]
    },
    {
      "cell_type": "markdown",
      "metadata": {
        "id": "MiagQiLQ0yGK"
      },
      "source": [
        "# Problem 1)\n",
        "\n",
        "Create a Pandas DataFrame object from the data file *Z_ee_Run2011A.csv*, located in the *data* dircetroy, and use the *info* function to list the information from the DataFrame."
      ]
    },
    {
      "cell_type": "code",
      "execution_count": 3,
      "metadata": {
        "id": "RH3KDy7Y0yGL",
        "colab": {
          "base_uri": "https://localhost:8080/"
        },
        "outputId": "4f0a80a3-7246-4c1b-e31b-28d4183c54c1"
      },
      "outputs": [
        {
          "output_type": "execute_result",
          "data": {
            "text/plain": [
              "<bound method DataFrame.info of           Run       Event      pt1      eta1      phi1  Q1 type1  \\\n",
              "0      163286   109060857  37.5667  2.289180  2.052600  -1    EE   \n",
              "1      163286   109275715  36.2901 -0.837253 -1.585920   1    EB   \n",
              "2      163286   109075352  25.9705 -0.697420  1.635990  -1    EB   \n",
              "3      163286   109169766  41.0075  1.461920 -0.532464   1    EB   \n",
              "4      163286   108947653  39.8985 -0.592666 -2.394720   1    EB   \n",
              "...       ...         ...      ...       ...       ...  ..   ...   \n",
              "18880  165993  1245864355  67.9728  0.591181  2.824340  -1    EB   \n",
              "18881  165993  1245110568  42.8005 -2.291330  0.779165   1    EE   \n",
              "18882  165993  1245123133  25.4359  0.137592  2.641270   1    EB   \n",
              "18883  165993  1245207259  51.1762  0.778649  2.683120  -1    EB   \n",
              "18884  165993  1245337805  28.6185  0.788226  1.231830  -1    EB   \n",
              "\n",
              "       sigmaEtaEta1   HoverE1  isoTrack1  ...      pt2      eta2      phi2  \\\n",
              "0          0.025125  0.008973    0.00000  ...  45.4315  1.470640 -1.163050   \n",
              "1          0.007829  0.043751    0.00000  ...  60.5754 -0.489570  1.049600   \n",
              "2          0.009715  0.040728    6.28701  ...  45.2954 -2.040090  3.118750   \n",
              "3          0.008753  0.000000    0.00000  ...  45.9013  1.156060  2.478580   \n",
              "4          0.015261  0.000000    2.54347  ...  34.8931 -2.244440  0.610610   \n",
              "...             ...       ...        ...  ...      ...       ...       ...   \n",
              "18880      0.009989  0.000000    0.00000  ...  32.7795  0.566588  0.203395   \n",
              "18881      0.023484  0.037901    0.00000  ...  49.8503 -1.640510 -2.741140   \n",
              "18882      0.010615  0.000000    0.00000  ...  50.9959  1.518880 -0.962316   \n",
              "18883      0.009085  0.000000    4.71019  ...  30.0143 -0.386661 -0.451479   \n",
              "18884      0.013537  0.022000    9.47769  ...  43.3507  2.032720 -1.883510   \n",
              "\n",
              "       Q2  type2  sigmaEtaEta2   HoverE2  isoTrack2   isoEcal2   isoHcal2  \n",
              "0       1     EB      0.000753  0.000000   0.000000   1.019030   0.000000  \n",
              "1      -1     EB      0.011246  0.000000   0.718473   1.846060   0.000000  \n",
              "2       1     EE      0.025972  0.028008  15.217000   4.533720   3.836990  \n",
              "3      -1     EB      0.008590  0.000000   0.000000   2.438830   0.567555  \n",
              "4      -1     EE      0.029025  0.000000  12.422900   0.453359   0.909608  \n",
              "...    ..    ...           ...       ...        ...        ...        ...  \n",
              "18880   1     EB      0.008893  0.000000   0.000000   2.057180   0.000000  \n",
              "18881  -1     EE      0.010058  0.007301   1.281670   2.016500   1.873110  \n",
              "18882  -1     EE      0.017345  0.012618   1.204430   2.216630   1.233750  \n",
              "18883  -1     EB      0.011314  0.106511  25.312100  12.257500  11.483000  \n",
              "18884  -1     EE      0.022317  0.074542  13.149300   4.539260   3.495550  \n",
              "\n",
              "[18885 rows x 22 columns]>"
            ]
          },
          "metadata": {},
          "execution_count": 3
        }
      ],
      "source": [
        "zr = pd.read_csv(zrun)\n",
        "zr.info\n",
        "#zr"
      ]
    },
    {
      "cell_type": "markdown",
      "metadata": {
        "id": "xuEZ39uO0yGM"
      },
      "source": [
        "# Problem 2)\n",
        "\n",
        "Create a new DataFrame column, which lists the value of the reconstructed invariant mass, $m_{inv}$, from the $Z\\rightarrow ee$ decay. The invariant mass is given by\n",
        "\n",
        "$m_{inv} = \\sqrt{2 p_{T1} p_{T2} \\left(cosh\\left(\\eta_1 - \\eta_2\\right) - cos\\left(\\phi_1 -\\phi_2\\right) \\right)}$\n",
        "\n",
        "Make a histogram of the invariant mass. Your histogram should look like the one below:\n",
        "\n"
      ]
    },
    {
      "cell_type": "code",
      "execution_count": 4,
      "metadata": {
        "id": "nRmnfq2F0yGM",
        "colab": {
          "base_uri": "https://localhost:8080/",
          "height": 488
        },
        "outputId": "e9b5cace-ab74-4eed-e402-4d9698da0c64"
      },
      "outputs": [
        {
          "output_type": "execute_result",
          "data": {
            "text/plain": [
              "          Run  invariant_mass       Event      pt1      eta1      phi1  Q1  \\\n",
              "0      163286       89.589562   109060857  37.5667  2.289180  2.052600  -1   \n",
              "1      163286       92.252290   109275715  36.2901 -0.837253 -1.585920   1   \n",
              "2      163286       67.859158   109075352  25.9705 -0.697420  1.635990  -1   \n",
              "3      163286       87.604923   109169766  41.0075  1.461920 -0.532464   1   \n",
              "4      163286      101.426755   108947653  39.8985 -0.592666 -2.394720   1   \n",
              "...       ...             ...         ...      ...       ...       ...  ..   \n",
              "18880  165993       91.232354  1245864355  67.9728  0.591181  2.824340  -1   \n",
              "18881  165993       95.750631  1245110568  42.8005 -2.291330  0.779165   1   \n",
              "18882  165993       88.378684  1245123133  25.4359  0.137592  2.641270   1   \n",
              "18883  165993       92.069605  1245207259  51.1762  0.778649  2.683120  -1   \n",
              "18884  165993       84.523801  1245337805  28.6185  0.788226  1.231830  -1   \n",
              "\n",
              "      type1  sigmaEtaEta1   HoverE1  ...      pt2      eta2      phi2  Q2  \\\n",
              "0        EE      0.025125  0.008973  ...  45.4315  1.470640 -1.163050   1   \n",
              "1        EB      0.007829  0.043751  ...  60.5754 -0.489570  1.049600  -1   \n",
              "2        EB      0.009715  0.040728  ...  45.2954 -2.040090  3.118750   1   \n",
              "3        EB      0.008753  0.000000  ...  45.9013  1.156060  2.478580  -1   \n",
              "4        EB      0.015261  0.000000  ...  34.8931 -2.244440  0.610610  -1   \n",
              "...     ...           ...       ...  ...      ...       ...       ...  ..   \n",
              "18880    EB      0.009989  0.000000  ...  32.7795  0.566588  0.203395   1   \n",
              "18881    EE      0.023484  0.037901  ...  49.8503 -1.640510 -2.741140  -1   \n",
              "18882    EB      0.010615  0.000000  ...  50.9959  1.518880 -0.962316  -1   \n",
              "18883    EB      0.009085  0.000000  ...  30.0143 -0.386661 -0.451479  -1   \n",
              "18884    EB      0.013537  0.022000  ...  43.3507  2.032720 -1.883510  -1   \n",
              "\n",
              "       type2  sigmaEtaEta2   HoverE2  isoTrack2   isoEcal2   isoHcal2  \n",
              "0         EB      0.000753  0.000000   0.000000   1.019030   0.000000  \n",
              "1         EB      0.011246  0.000000   0.718473   1.846060   0.000000  \n",
              "2         EE      0.025972  0.028008  15.217000   4.533720   3.836990  \n",
              "3         EB      0.008590  0.000000   0.000000   2.438830   0.567555  \n",
              "4         EE      0.029025  0.000000  12.422900   0.453359   0.909608  \n",
              "...      ...           ...       ...        ...        ...        ...  \n",
              "18880     EB      0.008893  0.000000   0.000000   2.057180   0.000000  \n",
              "18881     EE      0.010058  0.007301   1.281670   2.016500   1.873110  \n",
              "18882     EE      0.017345  0.012618   1.204430   2.216630   1.233750  \n",
              "18883     EB      0.011314  0.106511  25.312100  12.257500  11.483000  \n",
              "18884     EE      0.022317  0.074542  13.149300   4.539260   3.495550  \n",
              "\n",
              "[18885 rows x 23 columns]"
            ],
            "text/html": [
              "\n",
              "  <div id=\"df-779fa867-be34-4862-93cd-a63b949ebd27\">\n",
              "    <div class=\"colab-df-container\">\n",
              "      <div>\n",
              "<style scoped>\n",
              "    .dataframe tbody tr th:only-of-type {\n",
              "        vertical-align: middle;\n",
              "    }\n",
              "\n",
              "    .dataframe tbody tr th {\n",
              "        vertical-align: top;\n",
              "    }\n",
              "\n",
              "    .dataframe thead th {\n",
              "        text-align: right;\n",
              "    }\n",
              "</style>\n",
              "<table border=\"1\" class=\"dataframe\">\n",
              "  <thead>\n",
              "    <tr style=\"text-align: right;\">\n",
              "      <th></th>\n",
              "      <th>Run</th>\n",
              "      <th>invariant_mass</th>\n",
              "      <th>Event</th>\n",
              "      <th>pt1</th>\n",
              "      <th>eta1</th>\n",
              "      <th>phi1</th>\n",
              "      <th>Q1</th>\n",
              "      <th>type1</th>\n",
              "      <th>sigmaEtaEta1</th>\n",
              "      <th>HoverE1</th>\n",
              "      <th>...</th>\n",
              "      <th>pt2</th>\n",
              "      <th>eta2</th>\n",
              "      <th>phi2</th>\n",
              "      <th>Q2</th>\n",
              "      <th>type2</th>\n",
              "      <th>sigmaEtaEta2</th>\n",
              "      <th>HoverE2</th>\n",
              "      <th>isoTrack2</th>\n",
              "      <th>isoEcal2</th>\n",
              "      <th>isoHcal2</th>\n",
              "    </tr>\n",
              "  </thead>\n",
              "  <tbody>\n",
              "    <tr>\n",
              "      <th>0</th>\n",
              "      <td>163286</td>\n",
              "      <td>89.589562</td>\n",
              "      <td>109060857</td>\n",
              "      <td>37.5667</td>\n",
              "      <td>2.289180</td>\n",
              "      <td>2.052600</td>\n",
              "      <td>-1</td>\n",
              "      <td>EE</td>\n",
              "      <td>0.025125</td>\n",
              "      <td>0.008973</td>\n",
              "      <td>...</td>\n",
              "      <td>45.4315</td>\n",
              "      <td>1.470640</td>\n",
              "      <td>-1.163050</td>\n",
              "      <td>1</td>\n",
              "      <td>EB</td>\n",
              "      <td>0.000753</td>\n",
              "      <td>0.000000</td>\n",
              "      <td>0.000000</td>\n",
              "      <td>1.019030</td>\n",
              "      <td>0.000000</td>\n",
              "    </tr>\n",
              "    <tr>\n",
              "      <th>1</th>\n",
              "      <td>163286</td>\n",
              "      <td>92.252290</td>\n",
              "      <td>109275715</td>\n",
              "      <td>36.2901</td>\n",
              "      <td>-0.837253</td>\n",
              "      <td>-1.585920</td>\n",
              "      <td>1</td>\n",
              "      <td>EB</td>\n",
              "      <td>0.007829</td>\n",
              "      <td>0.043751</td>\n",
              "      <td>...</td>\n",
              "      <td>60.5754</td>\n",
              "      <td>-0.489570</td>\n",
              "      <td>1.049600</td>\n",
              "      <td>-1</td>\n",
              "      <td>EB</td>\n",
              "      <td>0.011246</td>\n",
              "      <td>0.000000</td>\n",
              "      <td>0.718473</td>\n",
              "      <td>1.846060</td>\n",
              "      <td>0.000000</td>\n",
              "    </tr>\n",
              "    <tr>\n",
              "      <th>2</th>\n",
              "      <td>163286</td>\n",
              "      <td>67.859158</td>\n",
              "      <td>109075352</td>\n",
              "      <td>25.9705</td>\n",
              "      <td>-0.697420</td>\n",
              "      <td>1.635990</td>\n",
              "      <td>-1</td>\n",
              "      <td>EB</td>\n",
              "      <td>0.009715</td>\n",
              "      <td>0.040728</td>\n",
              "      <td>...</td>\n",
              "      <td>45.2954</td>\n",
              "      <td>-2.040090</td>\n",
              "      <td>3.118750</td>\n",
              "      <td>1</td>\n",
              "      <td>EE</td>\n",
              "      <td>0.025972</td>\n",
              "      <td>0.028008</td>\n",
              "      <td>15.217000</td>\n",
              "      <td>4.533720</td>\n",
              "      <td>3.836990</td>\n",
              "    </tr>\n",
              "    <tr>\n",
              "      <th>3</th>\n",
              "      <td>163286</td>\n",
              "      <td>87.604923</td>\n",
              "      <td>109169766</td>\n",
              "      <td>41.0075</td>\n",
              "      <td>1.461920</td>\n",
              "      <td>-0.532464</td>\n",
              "      <td>1</td>\n",
              "      <td>EB</td>\n",
              "      <td>0.008753</td>\n",
              "      <td>0.000000</td>\n",
              "      <td>...</td>\n",
              "      <td>45.9013</td>\n",
              "      <td>1.156060</td>\n",
              "      <td>2.478580</td>\n",
              "      <td>-1</td>\n",
              "      <td>EB</td>\n",
              "      <td>0.008590</td>\n",
              "      <td>0.000000</td>\n",
              "      <td>0.000000</td>\n",
              "      <td>2.438830</td>\n",
              "      <td>0.567555</td>\n",
              "    </tr>\n",
              "    <tr>\n",
              "      <th>4</th>\n",
              "      <td>163286</td>\n",
              "      <td>101.426755</td>\n",
              "      <td>108947653</td>\n",
              "      <td>39.8985</td>\n",
              "      <td>-0.592666</td>\n",
              "      <td>-2.394720</td>\n",
              "      <td>1</td>\n",
              "      <td>EB</td>\n",
              "      <td>0.015261</td>\n",
              "      <td>0.000000</td>\n",
              "      <td>...</td>\n",
              "      <td>34.8931</td>\n",
              "      <td>-2.244440</td>\n",
              "      <td>0.610610</td>\n",
              "      <td>-1</td>\n",
              "      <td>EE</td>\n",
              "      <td>0.029025</td>\n",
              "      <td>0.000000</td>\n",
              "      <td>12.422900</td>\n",
              "      <td>0.453359</td>\n",
              "      <td>0.909608</td>\n",
              "    </tr>\n",
              "    <tr>\n",
              "      <th>...</th>\n",
              "      <td>...</td>\n",
              "      <td>...</td>\n",
              "      <td>...</td>\n",
              "      <td>...</td>\n",
              "      <td>...</td>\n",
              "      <td>...</td>\n",
              "      <td>...</td>\n",
              "      <td>...</td>\n",
              "      <td>...</td>\n",
              "      <td>...</td>\n",
              "      <td>...</td>\n",
              "      <td>...</td>\n",
              "      <td>...</td>\n",
              "      <td>...</td>\n",
              "      <td>...</td>\n",
              "      <td>...</td>\n",
              "      <td>...</td>\n",
              "      <td>...</td>\n",
              "      <td>...</td>\n",
              "      <td>...</td>\n",
              "      <td>...</td>\n",
              "    </tr>\n",
              "    <tr>\n",
              "      <th>18880</th>\n",
              "      <td>165993</td>\n",
              "      <td>91.232354</td>\n",
              "      <td>1245864355</td>\n",
              "      <td>67.9728</td>\n",
              "      <td>0.591181</td>\n",
              "      <td>2.824340</td>\n",
              "      <td>-1</td>\n",
              "      <td>EB</td>\n",
              "      <td>0.009989</td>\n",
              "      <td>0.000000</td>\n",
              "      <td>...</td>\n",
              "      <td>32.7795</td>\n",
              "      <td>0.566588</td>\n",
              "      <td>0.203395</td>\n",
              "      <td>1</td>\n",
              "      <td>EB</td>\n",
              "      <td>0.008893</td>\n",
              "      <td>0.000000</td>\n",
              "      <td>0.000000</td>\n",
              "      <td>2.057180</td>\n",
              "      <td>0.000000</td>\n",
              "    </tr>\n",
              "    <tr>\n",
              "      <th>18881</th>\n",
              "      <td>165993</td>\n",
              "      <td>95.750631</td>\n",
              "      <td>1245110568</td>\n",
              "      <td>42.8005</td>\n",
              "      <td>-2.291330</td>\n",
              "      <td>0.779165</td>\n",
              "      <td>1</td>\n",
              "      <td>EE</td>\n",
              "      <td>0.023484</td>\n",
              "      <td>0.037901</td>\n",
              "      <td>...</td>\n",
              "      <td>49.8503</td>\n",
              "      <td>-1.640510</td>\n",
              "      <td>-2.741140</td>\n",
              "      <td>-1</td>\n",
              "      <td>EE</td>\n",
              "      <td>0.010058</td>\n",
              "      <td>0.007301</td>\n",
              "      <td>1.281670</td>\n",
              "      <td>2.016500</td>\n",
              "      <td>1.873110</td>\n",
              "    </tr>\n",
              "    <tr>\n",
              "      <th>18882</th>\n",
              "      <td>165993</td>\n",
              "      <td>88.378684</td>\n",
              "      <td>1245123133</td>\n",
              "      <td>25.4359</td>\n",
              "      <td>0.137592</td>\n",
              "      <td>2.641270</td>\n",
              "      <td>1</td>\n",
              "      <td>EB</td>\n",
              "      <td>0.010615</td>\n",
              "      <td>0.000000</td>\n",
              "      <td>...</td>\n",
              "      <td>50.9959</td>\n",
              "      <td>1.518880</td>\n",
              "      <td>-0.962316</td>\n",
              "      <td>-1</td>\n",
              "      <td>EE</td>\n",
              "      <td>0.017345</td>\n",
              "      <td>0.012618</td>\n",
              "      <td>1.204430</td>\n",
              "      <td>2.216630</td>\n",
              "      <td>1.233750</td>\n",
              "    </tr>\n",
              "    <tr>\n",
              "      <th>18883</th>\n",
              "      <td>165993</td>\n",
              "      <td>92.069605</td>\n",
              "      <td>1245207259</td>\n",
              "      <td>51.1762</td>\n",
              "      <td>0.778649</td>\n",
              "      <td>2.683120</td>\n",
              "      <td>-1</td>\n",
              "      <td>EB</td>\n",
              "      <td>0.009085</td>\n",
              "      <td>0.000000</td>\n",
              "      <td>...</td>\n",
              "      <td>30.0143</td>\n",
              "      <td>-0.386661</td>\n",
              "      <td>-0.451479</td>\n",
              "      <td>-1</td>\n",
              "      <td>EB</td>\n",
              "      <td>0.011314</td>\n",
              "      <td>0.106511</td>\n",
              "      <td>25.312100</td>\n",
              "      <td>12.257500</td>\n",
              "      <td>11.483000</td>\n",
              "    </tr>\n",
              "    <tr>\n",
              "      <th>18884</th>\n",
              "      <td>165993</td>\n",
              "      <td>84.523801</td>\n",
              "      <td>1245337805</td>\n",
              "      <td>28.6185</td>\n",
              "      <td>0.788226</td>\n",
              "      <td>1.231830</td>\n",
              "      <td>-1</td>\n",
              "      <td>EB</td>\n",
              "      <td>0.013537</td>\n",
              "      <td>0.022000</td>\n",
              "      <td>...</td>\n",
              "      <td>43.3507</td>\n",
              "      <td>2.032720</td>\n",
              "      <td>-1.883510</td>\n",
              "      <td>-1</td>\n",
              "      <td>EE</td>\n",
              "      <td>0.022317</td>\n",
              "      <td>0.074542</td>\n",
              "      <td>13.149300</td>\n",
              "      <td>4.539260</td>\n",
              "      <td>3.495550</td>\n",
              "    </tr>\n",
              "  </tbody>\n",
              "</table>\n",
              "<p>18885 rows × 23 columns</p>\n",
              "</div>\n",
              "      <button class=\"colab-df-convert\" onclick=\"convertToInteractive('df-779fa867-be34-4862-93cd-a63b949ebd27')\"\n",
              "              title=\"Convert this dataframe to an interactive table.\"\n",
              "              style=\"display:none;\">\n",
              "        \n",
              "  <svg xmlns=\"http://www.w3.org/2000/svg\" height=\"24px\"viewBox=\"0 0 24 24\"\n",
              "       width=\"24px\">\n",
              "    <path d=\"M0 0h24v24H0V0z\" fill=\"none\"/>\n",
              "    <path d=\"M18.56 5.44l.94 2.06.94-2.06 2.06-.94-2.06-.94-.94-2.06-.94 2.06-2.06.94zm-11 1L8.5 8.5l.94-2.06 2.06-.94-2.06-.94L8.5 2.5l-.94 2.06-2.06.94zm10 10l.94 2.06.94-2.06 2.06-.94-2.06-.94-.94-2.06-.94 2.06-2.06.94z\"/><path d=\"M17.41 7.96l-1.37-1.37c-.4-.4-.92-.59-1.43-.59-.52 0-1.04.2-1.43.59L10.3 9.45l-7.72 7.72c-.78.78-.78 2.05 0 2.83L4 21.41c.39.39.9.59 1.41.59.51 0 1.02-.2 1.41-.59l7.78-7.78 2.81-2.81c.8-.78.8-2.07 0-2.86zM5.41 20L4 18.59l7.72-7.72 1.47 1.35L5.41 20z\"/>\n",
              "  </svg>\n",
              "      </button>\n",
              "      \n",
              "  <style>\n",
              "    .colab-df-container {\n",
              "      display:flex;\n",
              "      flex-wrap:wrap;\n",
              "      gap: 12px;\n",
              "    }\n",
              "\n",
              "    .colab-df-convert {\n",
              "      background-color: #E8F0FE;\n",
              "      border: none;\n",
              "      border-radius: 50%;\n",
              "      cursor: pointer;\n",
              "      display: none;\n",
              "      fill: #1967D2;\n",
              "      height: 32px;\n",
              "      padding: 0 0 0 0;\n",
              "      width: 32px;\n",
              "    }\n",
              "\n",
              "    .colab-df-convert:hover {\n",
              "      background-color: #E2EBFA;\n",
              "      box-shadow: 0px 1px 2px rgba(60, 64, 67, 0.3), 0px 1px 3px 1px rgba(60, 64, 67, 0.15);\n",
              "      fill: #174EA6;\n",
              "    }\n",
              "\n",
              "    [theme=dark] .colab-df-convert {\n",
              "      background-color: #3B4455;\n",
              "      fill: #D2E3FC;\n",
              "    }\n",
              "\n",
              "    [theme=dark] .colab-df-convert:hover {\n",
              "      background-color: #434B5C;\n",
              "      box-shadow: 0px 1px 3px 1px rgba(0, 0, 0, 0.15);\n",
              "      filter: drop-shadow(0px 1px 2px rgba(0, 0, 0, 0.3));\n",
              "      fill: #FFFFFF;\n",
              "    }\n",
              "  </style>\n",
              "\n",
              "      <script>\n",
              "        const buttonEl =\n",
              "          document.querySelector('#df-779fa867-be34-4862-93cd-a63b949ebd27 button.colab-df-convert');\n",
              "        buttonEl.style.display =\n",
              "          google.colab.kernel.accessAllowed ? 'block' : 'none';\n",
              "\n",
              "        async function convertToInteractive(key) {\n",
              "          const element = document.querySelector('#df-779fa867-be34-4862-93cd-a63b949ebd27');\n",
              "          const dataTable =\n",
              "            await google.colab.kernel.invokeFunction('convertToInteractive',\n",
              "                                                     [key], {});\n",
              "          if (!dataTable) return;\n",
              "\n",
              "          const docLinkHtml = 'Like what you see? Visit the ' +\n",
              "            '<a target=\"_blank\" href=https://colab.research.google.com/notebooks/data_table.ipynb>data table notebook</a>'\n",
              "            + ' to learn more about interactive tables.';\n",
              "          element.innerHTML = '';\n",
              "          dataTable['output_type'] = 'display_data';\n",
              "          await google.colab.output.renderOutput(dataTable, element);\n",
              "          const docLink = document.createElement('div');\n",
              "          docLink.innerHTML = docLinkHtml;\n",
              "          element.appendChild(docLink);\n",
              "        }\n",
              "      </script>\n",
              "    </div>\n",
              "  </div>\n",
              "  "
            ]
          },
          "metadata": {},
          "execution_count": 4
        }
      ],
      "source": [
        "m_inv = np.sqrt(2 * zr['pt1'] * zr['pt2'] *((np.cosh(zr['eta1'] - zr['eta2']))-np.cos(zr['phi1'] - zr['phi2'])))\n",
        "#print(m_inv)\n",
        "zr.insert(1, 'invariant_mass', m_inv, allow_duplicates=False)\n",
        "zr"
      ]
    },
    {
      "cell_type": "code",
      "execution_count": 5,
      "metadata": {
        "id": "eL1oVRf60yGN",
        "colab": {
          "base_uri": "https://localhost:8080/",
          "height": 886
        },
        "outputId": "7eee576e-40be-4fc2-8828-2fbde10cc7e9"
      },
      "outputs": [
        {
          "output_type": "execute_result",
          "data": {
            "text/plain": [
              "(array([ 78.,  64.,  80.,  88.,  68.,  87.,  72.,  87., 102.,  94., 112.,\n",
              "         88.,  86.,  97.,  91., 114., 129., 104., 109., 109., 101., 133.,\n",
              "        124., 114., 142., 129., 117., 152., 144., 135., 158., 150., 160.,\n",
              "        165., 172., 183., 198., 197., 220., 242., 231., 278., 331., 342.,\n",
              "        423., 423., 523., 558., 672., 711., 712., 794., 825., 748., 658.,\n",
              "        556., 444., 364., 305., 242., 214., 174., 182., 135., 130., 126.,\n",
              "        136., 131., 107.,  84., 107., 105.,  93.,  88., 101.,  83.,  84.,\n",
              "         82.,  74.,  87.,  82.,  72.,  97.,  67.,  76.,  82.,  77.,  88.,\n",
              "         87.,  68.,  60.,  67.,  64.,  65.,  49.,  67.,  71.,  54.,  64.,\n",
              "         70.]), array([ 60.00164676,  60.60148002,  61.20131328,  61.80114654,\n",
              "         62.4009798 ,  63.00081306,  63.60064632,  64.20047958,\n",
              "         64.80031284,  65.4001461 ,  65.99997936,  66.59981262,\n",
              "         67.19964588,  67.79947914,  68.3993124 ,  68.99914566,\n",
              "         69.59897892,  70.19881218,  70.79864544,  71.3984787 ,\n",
              "         71.99831196,  72.59814522,  73.19797848,  73.79781174,\n",
              "         74.397645  ,  74.99747826,  75.59731152,  76.19714478,\n",
              "         76.79697804,  77.3968113 ,  77.99664456,  78.59647782,\n",
              "         79.19631108,  79.79614434,  80.3959776 ,  80.99581086,\n",
              "         81.59564413,  82.19547739,  82.79531065,  83.39514391,\n",
              "         83.99497717,  84.59481043,  85.19464369,  85.79447695,\n",
              "         86.39431021,  86.99414347,  87.59397673,  88.19380999,\n",
              "         88.79364325,  89.39347651,  89.99330977,  90.59314303,\n",
              "         91.19297629,  91.79280955,  92.39264281,  92.99247607,\n",
              "         93.59230933,  94.19214259,  94.79197585,  95.39180911,\n",
              "         95.99164237,  96.59147563,  97.19130889,  97.79114215,\n",
              "         98.39097541,  98.99080867,  99.59064193, 100.19047519,\n",
              "        100.79030845, 101.39014171, 101.98997497, 102.58980823,\n",
              "        103.18964149, 103.78947475, 104.38930801, 104.98914127,\n",
              "        105.58897453, 106.18880779, 106.78864105, 107.38847431,\n",
              "        107.98830758, 108.58814084, 109.1879741 , 109.78780736,\n",
              "        110.38764062, 110.98747388, 111.58730714, 112.1871404 ,\n",
              "        112.78697366, 113.38680692, 113.98664018, 114.58647344,\n",
              "        115.1863067 , 115.78613996, 116.38597322, 116.98580648,\n",
              "        117.58563974, 118.185473  , 118.78530626, 119.38513952,\n",
              "        119.98497278]), <a list of 100 Patch objects>)"
            ]
          },
          "metadata": {},
          "execution_count": 5
        },
        {
          "output_type": "display_data",
          "data": {
            "text/plain": [
              "<Figure size 432x288 with 1 Axes>"
            ],
            "image/png": "[encoded data removed]"
          },
          "metadata": {
            "needs_background": "light"
          }
        }
      ],
      "source": [
        "fig = plt.figure()\n",
        "z = fig.add_axes([0.1,0.1,0.8,0.8])\n",
        "z.hist(zr['invariant_mass'], bins = 100, color=('gray'), ec='black')\n",
        "#z.grid()"
      ]
    },
    {
      "cell_type": "markdown",
      "metadata": {
        "id": "f4xk7y7v0yGN"
      },
      "source": [
        "# Problem 3)\n",
        "\n",
        "The Relativistic Breit-Wigner distribution is expected to describe the , which is given as\n",
        "\n",
        "Wikepedia: https://en.wikipedia.org/wiki/Relativistic_Breit%E2%80%93Wigner_distribution\n",
        "\n",
        "$f(E) = \\frac{k}{(E^2 -M^2)^2 + M^2\\Gamma^2}$, where\n",
        "\n",
        " * $\\gamma$ = $\\sqrt{M^2(M^2+\\Gamma^2)}$\n",
        " * $k = \\frac{2\\sqrt{2}M\\Gamma\\gamma}{\\pi\\sqrt{M^2+\\gamma}}$\n",
        " \n",
        " Where $E$ is the energy, $M$ is the mass value where the function will peak. \n",
        " Fit the invariant mass distribution with the function:\n",
        " \n",
        " $aE + b + cf(E)$,\n",
        " \n",
        " where $a, b, $ and $c$ are fit parameters to be deterimined by your fit that describe a linear background, and $f(E)$ is the Relativistic Breit-Wigner function described above. To do this you should make a function that takes as agruments: $\\Gamma, M, a, b, c$. Where $\\Gamma$ and $M$ are contained in the Breit-Wigner function ($f(E)$). Our fit will determine the values $\\Gamma, M, a, b, c$. The value of $M = m_{inv}$ and should be near where the distribution peaks.   \n",
        " \n",
        "**Fit the distribution over the range $70 \\le M_Z \\le 110 \\;GeV/c^2 $ and calculate the reduced $\\chi^2$. You can use either the *curve_fit* function form Scipy.**\n",
        "\n",
        "**Q:** How does your invariant mass value compare to the accepted value ($M_Z = 91.1876 GeV/c^2$) of the $Z$ boson mass (you can look it up on Wikipedia)?\n",
        " \n",
        "**Q:** Calculate the reduced $\\chi^2$ and p-value of your fit. \n",
        "\n",
        "You plot for this problem should look like:\n"
      ]
    },
    {
      "cell_type": "code",
      "execution_count": 7,
      "metadata": {
        "id": "oG-fnTsR0yGP",
        "colab": {
          "base_uri": "https://localhost:8080/",
          "height": 219
        },
        "outputId": "b51631ca-9d4c-4679-957b-9505e9bc2826"
      },
      "outputs": [
        {
          "output_type": "error",
          "ename": "TypeError",
          "evalue": "ignored",
          "traceback": [
            "\u001b[0;31m---------------------------------------------------------------------------\u001b[0m",
            "\u001b[0;31mTypeError\u001b[0m                                 Traceback (most recent call last)",
            "\u001b[0;32m<ipython-input-7-5cce21ce9245>\u001b[0m in \u001b[0;36m<module>\u001b[0;34m\u001b[0m\n\u001b[1;32m     18\u001b[0m \u001b[0mfit\u001b[0m \u001b[0;34m=\u001b[0m \u001b[0;36m110\u001b[0m\u001b[0;34m-\u001b[0m\u001b[0;36m70\u001b[0m\u001b[0;34m\u001b[0m\u001b[0;34m\u001b[0m\u001b[0m\n\u001b[1;32m     19\u001b[0m \u001b[0;34m\u001b[0m\u001b[0m\n\u001b[0;32m---> 20\u001b[0;31m \u001b[0mop\u001b[0m\u001b[0;34m.\u001b[0m\u001b[0mcurve_fit\u001b[0m\u001b[0;34m(\u001b[0m\u001b[0mbw\u001b[0m\u001b[0;34m(\u001b[0m\u001b[0mzr\u001b[0m\u001b[0;34m[\u001b[0m\u001b[0;34m'invariant_mass'\u001b[0m\u001b[0;34m]\u001b[0m\u001b[0;34m)\u001b[0m\u001b[0;34m,\u001b[0m \u001b[0mE\u001b[0m\u001b[0;34m,\u001b[0m \u001b[0mM\u001b[0m\u001b[0;34m,\u001b[0m \u001b[0mp0\u001b[0m\u001b[0;34m=\u001b[0m\u001b[0mfit\u001b[0m \u001b[0;34m)\u001b[0m\u001b[0;34m\u001b[0m\u001b[0;34m\u001b[0m\u001b[0m\n\u001b[0m\u001b[1;32m     21\u001b[0m \u001b[0;34m\u001b[0m\u001b[0m\n",
            "\u001b[0;31mTypeError\u001b[0m: bw() missing 4 required positional arguments: 'M', 'a', 'b', and 'c'"
          ]
        }
      ],
      "source": [
        "def bw(Γ, M, a, b, c):\n",
        "  gamma = np.sqrt((M**2)*((M**2) + Γ**2))\n",
        "\n",
        "  knum = 2 * np.sqrt(2) * M * Γ * γ\n",
        "  kden = np.pi * np.sqrt((M**2) + γ)\n",
        "  k = knum/kden\n",
        "\n",
        "  den = (E**2 - M**2)**2 + ((M**2)*(Γ**2))\n",
        "  fE = k/den\n",
        "\n",
        "  final = (a * E) + b + (c * fE)\n",
        "  return final\n",
        "\n",
        "\n",
        "# fig = plt.figure()\n",
        "# plt.hist(bw())\n",
        "\n",
        "fit = 110-70\n",
        "\n",
        "op.curve_fit(bw(zr['invariant_mass']), E, M, p0=fit )\n",
        "\n"
      ]
    },
    {
      "cell_type": "code",
      "execution_count": 10,
      "metadata": {
        "id": "-JlGRuQV0yGQ"
      },
      "outputs": [],
      "source": [
        "# fig = plt.figure()\n",
        "# fit = fig.add_axes([0.1,0.1,0.8,0.8])\n",
        "# fit.hist()\n",
        "# fit.set_title('Breit-Wigner distribution')"
      ]
    },
    {
      "cell_type": "markdown",
      "metadata": {
        "id": "WfViTSj-0yGQ"
      },
      "source": [
        "# Problem 4)\n",
        "\n",
        "On the same graph, make histograms of the $\\eta_1$ and $\\eta_2$ distributions. Be sure to include a legend so the two distributions can be distinquised.\n",
        "\n",
        "Your plot should look like:\n",
        "<div>\n",
        "<img src=\"attachment:P4.png\" width=\"400\"/>\n",
        "</div>"
      ]
    },
    {
      "cell_type": "code",
      "source": [
        "#Find eta1 and eta2 distributions\n",
        "\n",
        "# eta1_dist = \n",
        "# eta2_dist = \n"
      ],
      "metadata": {
        "id": "aM0KYpIh5dj5"
      },
      "execution_count": 14,
      "outputs": []
    },
    {
      "cell_type": "code",
      "execution_count": 15,
      "metadata": {
        "id": "B2_YR0nn0yGR"
      },
      "outputs": [],
      "source": [
        "\n",
        "# et = plt.figure()\n",
        "# et = et.add_axes([0.1,0.1,0.8,0.8])\n",
        "# et.set_title('Eta Distributions')\n",
        "# et.hist(eta2_dist, bins=100, alpha= 0.5, label='Eta 1')\n",
        "# et.hist(eta1_dist, bins=100, alpha= 0.5, label='Eta 2')\n",
        "# et.legend()"
      ]
    },
    {
      "cell_type": "markdown",
      "metadata": {
        "id": "0HnyWdGg0yGR"
      },
      "source": [
        "# Problem 5)\n",
        "\n",
        "From the distribution above, we clearly see two distinct distributions in the histogram. We can explain this due to the decay being detected in two different detectors, the electromagnetic barrel calorimeter (EB) and the endcap electromagnetic calorimeter (EE). This distinction is made in the column labeled *type1* and *type2*, which tells us which detector particle 1 and particle 2 are detected in. \n",
        "\n",
        "Create two DataFrames *barrel* and *endcap*, where *barrel* keeps all of the information in the original DataFrame where both particles were detected in the EB, and *endcap* keeps all of the information in the original DataFrame where both particles were detected in the EE.\n",
        "\n",
        "Make two sub plots where in sub plot one you histogram the $\\eta1$ distribution for the particles in the EB and EE. Then in sub plot two histogram the $\\eta2$ distribution for particles detected in the EE and EB. Be sure to include a legend that distiquishes EB from EE events.\n",
        "\n",
        "Your plot should look like this:\n"
      ]
    },
    {
      "cell_type": "code",
      "execution_count": 11,
      "metadata": {
        "id": "00uf9vSB0yGS"
      },
      "outputs": [],
      "source": [
        "barrel = zr.copy(deep=True)\n",
        "endcap = zr.copy(deep=True)\n",
        "#barrel.insert(1, 'invariant_mass', m_inv, allow_duplicates=False)\n",
        "#endcap.insert(1, 'invariant_mass', m_inv, allow_duplicates=False)\n",
        "\n",
        "br = barrel[barrel['type1'] == 'EB'] \n",
        "br = br[br['type2'] == 'EB']\n",
        "\n",
        "ec = endcap[endcap['type1'] == 'EE']\n",
        "ec = ec[ec['type2']== 'EE']\n",
        "#print(ec)\n"
      ]
    },
    {
      "cell_type": "markdown",
      "metadata": {
        "id": "WJlaF1Do0yGT"
      },
      "source": [
        "# Problem 6\n",
        "\n",
        "With particles being detected in two different detectors, the resolution of the detectors could differ. This could reslt in measureing the boson mass better in one detector than the other.\n",
        "\n",
        "Using your *barrel* and *endcap* DataFrames from above, on the same graph make a histogram of the invariant mass measured in the barrel and endcap detectors.  \n",
        "\n",
        "Your plot should look like this:\n",
        "<div>\n",
        "<img src=\"attachment:P6.png\" width=\"400\"/>\n",
        "</div>\n",
        "\n",
        "**Q**: Which region (Barrel or Endcap) gives the better measurement? "
      ]
    },
    {
      "cell_type": "code",
      "execution_count": null,
      "metadata": {
        "id": "3gxJKp1C0yGT",
        "colab": {
          "base_uri": "https://localhost:8080/",
          "height": 343
        },
        "outputId": "a6712aeb-bb8f-422b-d626-ba9fad763754"
      },
      "outputs": [
        {
          "output_type": "stream",
          "name": "stdout",
          "text": [
            "\n",
            " Around the 90 value gives the better measurement, especially in Barrel\n"
          ]
        },
        {
          "output_type": "display_data",
          "data": {
            "text/plain": [
              "<Figure size 432x288 with 1 Axes>"
            ],
            "image/png": "[encoded data removed]"
          },
          "metadata": {
            "needs_background": "light"
          }
        }
      ],
      "source": [
        "\n",
        "be = plt.figure()\n",
        "be = be.add_axes([0.1,0.1,0.8,0.8])\n",
        "be.set_title('Barrel and Endcap M(inv) Measurements')\n",
        "be.hist(br['invariant_mass'],bins=100, alpha= 0.5, label=r'Barrel')\n",
        "be.hist(ec['invariant_mass'], bins=100, alpha= 0.5, label=r'Endcap')\n",
        "be.set_xlabel('Invariant Mass')\n",
        "be.legend()\n",
        "\n",
        "\n",
        "\n",
        "print('\\n Around the 90 value gives the better measurement, especially in Barrel')"
      ]
    },
    {
      "cell_type": "markdown",
      "metadata": {
        "id": "MeFh5rjw0yGT"
      },
      "source": [
        "# Problem 7\n",
        "\n",
        "Seeing that the $Z$ mass distribution is different depending on if it was measured in the endcap or barrel detectors and that there is a gap (inefficency) in the pseudorapidity near $|\\eta| = 1.5$, let's fit the barrel and endcap regions seperatly. \n",
        "\n",
        "Add a new columns to our DataFrame called M_barrel and M_endcap, where \n",
        "* M_barrel is an array that takes all values of invariant mass column defined in Problem 2 whose $\\eta$ values satisfy $|\\eta_1| < 1.1$ **and** $|\\eta_2| < 1.1$  \n",
        "* M_endcap is an array that takes all values of invariant mass column defined in Problem 2 whose $\\eta$ values satisfy $|\\eta_1| > 1.7$ **and** $|\\eta_2| > 1.7$\n",
        "\n",
        "This is sometimes reffered to as cutting on a quantity, in this case $\\eta_1$ and $\\eta_2$.\n",
        "\n",
        "Plot the histograms of both of these quantities on the same graph. It should look like this:\n"
      ]
    },
    {
      "cell_type": "code",
      "execution_count": null,
      "metadata": {
        "id": "CpJMRD5a0yGT",
        "colab": {
          "base_uri": "https://localhost:8080/",
          "height": 325
        },
        "outputId": "2be9a7b2-c723-4f31-d787-02158f799cf6"
      },
      "outputs": [
        {
          "output_type": "execute_result",
          "data": {
            "text/plain": [
              "Text(0.5, 1.0, 'M_barrel and M_endcap Measurements')"
            ]
          },
          "metadata": {},
          "execution_count": 25
        },
        {
          "output_type": "display_data",
          "data": {
            "text/plain": [
              "<Figure size 432x288 with 1 Axes>"
            ],
            "image/png": "[encoded data removed]"
          },
          "metadata": {
            "needs_background": "light"
          }
        }
      ],
      "source": [
        "mbarrel = barrel.copy(deep=True)\n",
        "mbarrel['eta1'] = np.absolute(mbarrel['eta1'])\n",
        "mbarrel['eta2'] = np.absolute(mbarrel['eta2'])\n",
        "\n",
        "mendcap = endcap.copy(deep=True)\n",
        "mendcap['eta1'] = np.absolute(mendcap['eta1'])\n",
        "mendcap['eta2'] = np.absolute(mendcap['eta2'])\n",
        "\n",
        "m_barrel = []\n",
        "m_endcap = []\n",
        "\n",
        "\n",
        "mbarrel1 = mbarrel[mbarrel['eta1'] < 1.1]\n",
        "mbarrel2 = mbarrel1[mbarrel1['eta2'] < 1.1]\n",
        "\n",
        "mendcap1 = mendcap[mendcap['eta1'] > 1.7]\n",
        "mendcap2 = mendcap1[mendcap1['eta2'] > 1.7]\n",
        "#print(mendcap2)\n",
        "\n",
        "\n",
        "# zr.insert(2, 'm_barrel', mbarrel2['invariant_mass'], allow_duplicates=False)\n",
        "# zr.insert(3, 'm_endcap', mendcap2['invariant_mass'], allow_duplicates=False)\n",
        "\n",
        "b = plt.figure()\n",
        "b = b.add_axes([0.1,0.1,0.8,0.8])\n",
        "b.hist(zr['m_barrel'], bins =100, alpha= 0.5, label=r'Barrel')\n",
        "b.hist(zr['m_endcap'], bins=100, alpha= 0.5, label=r'Endcap')\n",
        "b.set_xlabel('Invariant Mass')\n",
        "b.legend()\n",
        "b.set_title('M_barrel and M_endcap Measurements')"
      ]
    },
    {
      "cell_type": "markdown",
      "metadata": {
        "id": "_Ty7be8F0yGT"
      },
      "source": [
        "# Problem 8\n",
        "\n",
        "Fit the M_barrel histogram with the relativistic Breit-Wigner function you defined earlier and calculate the reduced $\\chi^2$ and p-value for the fit. Draw a plot of the M_barrel histogram with your fit result (e.g. like in Problem 3).\n",
        "\n",
        "**Q**: Does your fit provide better or worst description of the data compared to what you found in Problem 3?"
      ]
    },
    {
      "cell_type": "code",
      "execution_count": 12,
      "metadata": {
        "id": "rucxQs_u0yGV"
      },
      "outputs": [],
      "source": [
        "# b = op.curve_fit(bw(zr['m_barrel']), E, p0= fit)\n",
        "\n",
        "# mb = plt.figure()\n",
        "# mb = mb.add_axes([0.1,0.1,0.8,0.8])\n",
        "# mb.hist(zr['m_barrel'], bins =100, alpha= 0.5)\n",
        "# mb.set_title('M_barrel Histogram')\n",
        "\n",
        "# print('\\n ')"
      ]
    },
    {
      "cell_type": "markdown",
      "metadata": {
        "id": "Sowet1-_0yGV"
      },
      "source": [
        "# Problem 9\n",
        "\n",
        "Fit the M_endcap histogram with the relativistic Breit-Wigner function you defined earlier and calculate the reduced $\\chi^2$ and p-value for the fit. Draw a plot of the M_endcap histogram with your fit result (e.g. like in Problem 3).\n",
        "\n",
        "**Q**: Does your fit provide better or worst description of the data compared to what you found in Problem 3?"
      ]
    },
    {
      "cell_type": "code",
      "execution_count": 13,
      "metadata": {
        "id": "wPSWysJf0yGW"
      },
      "outputs": [],
      "source": [
        "# e = op.curve_fit(bw(zr['m_barrel']), E, p0= fit)\n",
        "\n",
        "# me = plt.figure()\n",
        "# me = me.add_axes([0.1,0.1,0.8,0.8])\n",
        "# me.hist(zr['m_endcap'], bins =100)\n",
        "# me.set_title('M_barrel Histogram')\n",
        "\n",
        "# print('\\n ')"
      ]
    },
    {
      "cell_type": "markdown",
      "metadata": {
        "id": "668syfMB0yGW"
      },
      "source": [
        "# Problem 10\n",
        "\n",
        "From your DataFrame (from Problem 2), drop all columns except for pt1, eta1, phi1, pt2, eta2, phi2, and M. \n",
        "Using this DataFrame, use the Pandas *corr* function to produce a correlataion table. What quantites have the strongest correlation (that are not 1)?"
      ]
    },
    {
      "cell_type": "code",
      "execution_count": null,
      "metadata": {
        "id": "4DUa8I_C0yGW",
        "colab": {
          "base_uri": "https://localhost:8080/",
          "height": 300
        },
        "outputId": "ea7769bf-f18d-4a54-afbf-8fec5b337988"
      },
      "outputs": [
        {
          "output_type": "stream",
          "name": "stdout",
          "text": [
            "\n",
            " The strongest correlation seems to be in the top left\n"
          ]
        },
        {
          "output_type": "display_data",
          "data": {
            "text/plain": [
              "<Figure size 432x288 with 1 Axes>"
            ],
            "image/png": "[encoded data removed]"
          },
          "metadata": {
            "needs_background": "light"
          }
        }
      ],
      "source": [
        "df = zr.copy(deep=True)\n",
        "\n",
        "df.drop(['Run', 'isoTrack1', 'isoEcal1', 'isoHcal1', 'sigmaEtaEta2', 'HoverE2', 'isoTrack2', 'isoEcal2', 'isoHcal2', 'm_barrel', 'm_endcap', 'Event', 'Q1', 'type1', 'type2', 'sigmaEtaEta1', 'HoverE1', 'Q2'],axis=1,inplace=True)\n",
        "\n",
        "#df\n",
        "\n",
        "fig = plt.figure()\n",
        "plt.imshow(df.corr())\n",
        "\n",
        "print('\\n The strongest correlation seems to be in the top left')"
      ]
    }
  ],
  "metadata": {
    "kernelspec": {
      "display_name": "Python 3 (ipykernel)",
      "language": "python",
      "name": "python3"
    },
    "language_info": {
      "codemirror_mode": {
        "name": "ipython",
        "version": 3
      },
      "file_extension": ".py",
      "mimetype": "text/x-python",
      "name": "python",
      "nbconvert_exporter": "python",
      "pygments_lexer": "ipython3",
      "version": "3.9.12"
    },
    "colab": {
      "provenance": [],
      "collapsed_sections": []
    }
  },
  "nbformat": 4,
  "nbformat_minor": 0
}