{
  "nbformat": 4,
  "nbformat_minor": 0,
  "metadata": {
    "colab": {
      "provenance": [],
      "collapsed_sections": []
    },
    "kernelspec": {
      "name": "python3",
      "display_name": "Python 3"
    },
    "language_info": {
      "name": "python"
    }
  },
  "cells": [
    {
      "cell_type": "code",
      "execution_count": null,
      "metadata": {
        "id": "izpclXc5mmVP"
      },
      "outputs": [],
      "source": [
        "import pandas as pd\n",
        "import numpy as np\n",
        "import matplotlib.pyplot as plt\n",
        "import scipy as sp\n",
        "from scipy import optimize\n",
        "from scipy.optimize import curve_fit\n",
        "import scipy.special as sf\n",
        "\n",
        "#%matplotlib notebook"
      ]
    },
    {
      "cell_type": "code",
      "source": [
        "Zmumu_Run2011A = 'https://raw.githubusercontent.com/Tuo96960/3511-Fall-2022/main/Module7/Lecture/Data/Zmumu_Run2011A.csv'\n",
        "\n",
        "df = pd.read_csv(Zmumu_Run2011A)"
      ],
      "metadata": {
        "id": "95XMNpeKm9Tv"
      },
      "execution_count": null,
      "outputs": []
    },
    {
      "cell_type": "code",
      "source": [
        "df.isnull().sum"
      ],
      "metadata": {
        "colab": {
          "base_uri": "https://localhost:8080/"
        },
        "id": "waaJpe7Aol6L",
        "outputId": "64c19993-ff91-4d4b-86fb-754b496a9781"
      },
      "execution_count": null,
      "outputs": [
        {
          "output_type": "execute_result",
          "data": {
            "text/plain": [
              "<bound method NDFrame._add_numeric_operations.<locals>.sum of          Run  Event    pt1   eta1   phi1     Q1   dxy1   iso1    pt2   eta2  \\\n",
              "0      False  False  False  False  False  False  False  False  False  False   \n",
              "1      False  False  False  False  False  False  False  False  False  False   \n",
              "2      False  False  False  False  False  False  False  False  False  False   \n",
              "3      False  False  False  False  False  False  False  False  False  False   \n",
              "4      False  False  False  False  False  False  False  False  False  False   \n",
              "...      ...    ...    ...    ...    ...    ...    ...    ...    ...    ...   \n",
              "10578  False  False  False  False  False  False  False  False  False  False   \n",
              "10579  False  False  False  False  False  False  False  False  False  False   \n",
              "10580  False  False  False  False  False  False  False  False  False  False   \n",
              "10581  False  False  False  False  False  False  False  False  False  False   \n",
              "10582  False  False  False  False  False  False  False  False  False  False   \n",
              "\n",
              "        phi2     Q2   dxy2   iso2  \n",
              "0      False  False  False  False  \n",
              "1      False  False  False  False  \n",
              "2      False  False  False  False  \n",
              "3      False  False  False  False  \n",
              "4      False  False  False  False  \n",
              "...      ...    ...    ...    ...  \n",
              "10578  False  False  False  False  \n",
              "10579  False  False  False  False  \n",
              "10580  False  False  False  False  \n",
              "10581  False  False  False  False  \n",
              "10582  False  False  False  False  \n",
              "\n",
              "[10583 rows x 14 columns]>"
            ]
          },
          "metadata": {},
          "execution_count": 3
        }
      ]
    },
    {
      "cell_type": "code",
      "source": [
        "df.hist()\n",
        "plt.tight_layout();"
      ],
      "metadata": {
        "colab": {
          "base_uri": "https://localhost:8080/",
          "height": 297
        },
        "id": "xuXSmm4Vplt-",
        "outputId": "528fa0de-a266-4107-e610-d0f847139922"
      },
      "execution_count": null,
      "outputs": [
        {
          "output_type": "display_data",
          "data": {
            "text/plain": [
              "<Figure size 432x288 with 16 Axes>"
            ],
            "image/png": "[encoded data removed]"
          },
          "metadata": {
            "needs_background": "light"
          }
        }
      ]
    },
    {
      "cell_type": "code",
      "source": [
        "#creating new dataframe collumn\n",
        "new = np.sqrt(2 * df.pt1 * df.pt2 * (np.cosh(df.eta1 - df.eta2) - np.cos(df.phi1 - df.phi2) ))\n",
        "df['M'] = new\n",
        "\n",
        "df.info()"
      ],
      "metadata": {
        "colab": {
          "base_uri": "https://localhost:8080/"
        },
        "id": "jG0f-MzsqEDA",
        "outputId": "77b6eac2-0e84-4d71-a081-5be4e1259473"
      },
      "execution_count": null,
      "outputs": [
        {
          "output_type": "stream",
          "name": "stdout",
          "text": [
            "<class 'pandas.core.frame.DataFrame'>\n",
            "RangeIndex: 10583 entries, 0 to 10582\n",
            "Data columns (total 15 columns):\n",
            " #   Column  Non-Null Count  Dtype  \n",
            "---  ------  --------------  -----  \n",
            " 0   Run     10583 non-null  int64  \n",
            " 1   Event   10583 non-null  int64  \n",
            " 2   pt1     10583 non-null  float64\n",
            " 3   eta1    10583 non-null  float64\n",
            " 4   phi1    10583 non-null  float64\n",
            " 5   Q1      10583 non-null  int64  \n",
            " 6   dxy1    10583 non-null  float64\n",
            " 7   iso1    10583 non-null  float64\n",
            " 8   pt2     10583 non-null  float64\n",
            " 9   eta2    10583 non-null  float64\n",
            " 10  phi2    10583 non-null  float64\n",
            " 11  Q2      10583 non-null  int64  \n",
            " 12  dxy2    10583 non-null  float64\n",
            " 13  iso2    10583 non-null  float64\n",
            " 14  M       10583 non-null  float64\n",
            "dtypes: float64(11), int64(4)\n",
            "memory usage: 1.2 MB\n"
          ]
        }
      ]
    },
    {
      "cell_type": "code",
      "source": [
        "fig = plt.figure('Z Decay')\n",
        "plt.hist(new, bins=250, alpha=0.7, label=r'$z\\rightarrow \\mu\\mu$')\n",
        "plt.legend()"
      ],
      "metadata": {
        "colab": {
          "base_uri": "https://localhost:8080/",
          "height": 283
        },
        "id": "nbre8lJNsQ8Z",
        "outputId": "c93c5b96-6c12-4edd-de10-74b6b1e7f4d1"
      },
      "execution_count": null,
      "outputs": [
        {
          "output_type": "execute_result",
          "data": {
            "text/plain": [
              "<matplotlib.legend.Legend at 0x7f7d555130d0>"
            ]
          },
          "metadata": {},
          "execution_count": 6
        },
        {
          "output_type": "display_data",
          "data": {
            "text/plain": [
              "<Figure size 432x288 with 1 Axes>"
            ],
            "image/png": "[encoded data removed]"
          },
          "metadata": {
            "needs_background": "light"
          }
        }
      ]
    },
    {
      "cell_type": "code",
      "source": [
        "def breitwigner_rel(M, gamma, M_Z, a, b, c):\n",
        "  little_gamma = np.sqrt((M_Z**2)*((M_Z**2) + gamma))\n",
        "  k = (2*np.sqrt(2)*M_Z*gamma*little_gamma)/(np.pi*np.sqrt(M_Z**2 + little_gamma))\n",
        "  f = k/((M**2 - M_Z**2)**2 + (M_Z**2) *(gamma**2))\n",
        "  return a*M + b + c*f"
      ],
      "metadata": {
        "id": "K-ZIfcDptFVx"
      },
      "execution_count": null,
      "outputs": []
    },
    {
      "cell_type": "code",
      "source": [
        "lowerlimit = 70.0\n",
        "upperlimit = 110.0\n",
        "bins = 150\n",
        "\n",
        "fig = plt.figure()\n",
        "histogram_mu = plt.hist(new, bins=bins, range=(lowerlimit,upperlimit))\n",
        "#print(histogram_mu[1][0:])\n",
        "\n",
        "y_mu = histogram_mu[0]\n",
        "x_mu = 0.5*(histogram_mu[1][0:-1] +histogram_mu[1][1:])\n",
        "#print(x_mu)\n",
        "y_mu_error = np.sqrt(y_mu)\n"
      ],
      "metadata": {
        "colab": {
          "base_uri": "https://localhost:8080/",
          "height": 265
        },
        "id": "xQKD0Amr5dib",
        "outputId": "79479160-1cc2-4401-95cb-19ab232587e6"
      },
      "execution_count": null,
      "outputs": [
        {
          "output_type": "display_data",
          "data": {
            "text/plain": [
              "<Figure size 432x288 with 1 Axes>"
            ],
            "image/png": "[encoded data removed]"
          },
          "metadata": {
            "needs_background": "light"
          }
        }
      ]
    },
    {
      "cell_type": "code",
      "source": [
        "initials = [2.5, 91, -2, 200, 13000]\n",
        "best_mu, covariance_mu = curve_fit(breitwigner_rel, x_mu, y_mu, p0=initials, absolute_sigma=True)\n",
        "print(best_mu)\n",
        "\n",
        "plt.plot(x_mu, breitwigner_rel(x_mu, *best_mu), 'r-')"
      ],
      "metadata": {
        "colab": {
          "base_uri": "https://localhost:8080/",
          "height": 319
        },
        "id": "-HFxVoq960KR",
        "outputId": "74c4a2bf-5dcd-44b8-d311-96d8fe73439b"
      },
      "execution_count": null,
      "outputs": [
        {
          "output_type": "stream",
          "name": "stdout",
          "text": [
            "[ 4.09922787e+00  9.09013151e+01 -4.73031368e-01  4.55070776e+01\n",
            "  2.63794553e+03]\n"
          ]
        },
        {
          "output_type": "execute_result",
          "data": {
            "text/plain": [
              "[<matplotlib.lines.Line2D at 0x7f7d5552af10>]"
            ]
          },
          "metadata": {},
          "execution_count": 21
        },
        {
          "output_type": "display_data",
          "data": {
            "text/plain": [
              "<Figure size 432x288 with 1 Axes>"
            ],
            "image/png": "[encoded data removed]"
          },
          "metadata": {
            "needs_background": "light"
          }
        }
      ]
    },
    {
      "cell_type": "code",
      "source": [
        "fit = 5\n",
        "chisq = np.sum( (y_mu - breitwigner_rel(x_mu, *best_mu) )**2 / (y_mu_error)**2)\n",
        "dof = len(y_mu) - len(best_mu)\n",
        "print('reduced chi2: ', chisq/dof)\n",
        "\n",
        "pvalue = sf.gammaincc(dof/2.0, chisq/2.0)\n",
        "print(pvalue)"
      ],
      "metadata": {
        "colab": {
          "base_uri": "https://localhost:8080/"
        },
        "id": "9ivVbchk9y_e",
        "outputId": "952f7a68-9453-4b51-845d-dada2db02ccb"
      },
      "execution_count": null,
      "outputs": [
        {
          "output_type": "stream",
          "name": "stdout",
          "text": [
            "reduced chi2:  1.9579469055163075\n",
            "4.6785663710302834e-11\n"
          ]
        }
      ]
    },
    {
      "cell_type": "code",
      "source": [
        "df.info()"
      ],
      "metadata": {
        "colab": {
          "base_uri": "https://localhost:8080/"
        },
        "id": "L4-r4uJa_iUp",
        "outputId": "ce11289b-3ff8-4e07-9bef-dc526a348092"
      },
      "execution_count": null,
      "outputs": [
        {
          "output_type": "stream",
          "name": "stdout",
          "text": [
            "<class 'pandas.core.frame.DataFrame'>\n",
            "RangeIndex: 10583 entries, 0 to 10582\n",
            "Data columns (total 15 columns):\n",
            " #   Column  Non-Null Count  Dtype  \n",
            "---  ------  --------------  -----  \n",
            " 0   Run     10583 non-null  int64  \n",
            " 1   Event   10583 non-null  int64  \n",
            " 2   pt1     10583 non-null  float64\n",
            " 3   eta1    10583 non-null  float64\n",
            " 4   phi1    10583 non-null  float64\n",
            " 5   Q1      10583 non-null  int64  \n",
            " 6   dxy1    10583 non-null  float64\n",
            " 7   iso1    10583 non-null  float64\n",
            " 8   pt2     10583 non-null  float64\n",
            " 9   eta2    10583 non-null  float64\n",
            " 10  phi2    10583 non-null  float64\n",
            " 11  Q2      10583 non-null  int64  \n",
            " 12  dxy2    10583 non-null  float64\n",
            " 13  iso2    10583 non-null  float64\n",
            " 14  M       10583 non-null  float64\n",
            "dtypes: float64(11), int64(4)\n",
            "memory usage: 1.2 MB\n"
          ]
        }
      ]
    },
    {
      "cell_type": "code",
      "source": [
        "fig = plt.figure('eta')\n",
        "plt.hist(df.eta1, bins = 100, alpha = 0.5, label=r'$\\eta_1$')\n",
        "plt.hist(df.eta2, bins = 100, alpha = 0.5, label =r'$\\eta_2$')\n",
        "plt.legend()"
      ],
      "metadata": {
        "colab": {
          "base_uri": "https://localhost:8080/",
          "height": 283
        },
        "id": "6_VTOyuT_ktK",
        "outputId": "ce20d181-1e89-431d-f84d-78e0576a01bf"
      },
      "execution_count": null,
      "outputs": [
        {
          "output_type": "execute_result",
          "data": {
            "text/plain": [
              "<matplotlib.legend.Legend at 0x7f7d583eec10>"
            ]
          },
          "metadata": {},
          "execution_count": 30
        },
        {
          "output_type": "display_data",
          "data": {
            "text/plain": [
              "<Figure size 432x288 with 1 Axes>"
            ],
            "image/png": "[encoded data removed]"
          },
          "metadata": {
            "needs_background": "light"
          }
        }
      ]
    }
  ]
}