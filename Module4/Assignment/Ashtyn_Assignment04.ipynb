{
  "cells": [
    {
      "cell_type": "markdown",
      "id": "b63a3b25",
      "metadata": {
        "id": "b63a3b25"
      },
      "source": [
        "# Assignment 04 Due: Wednesday 9/21"
      ]
    },
    {
      "cell_type": "markdown",
      "id": "4c74864a",
      "metadata": {
        "id": "4c74864a"
      },
      "source": [
        "## Problem 1\n",
        "\n",
        "For this assignment we will look at the normal distribution function's PDF and how we can use it to calculate probabilities. Import the numpy, scipy.stats, scipy.integrate, and matplotlib.pyplot libraries."
      ]
    },
    {
      "cell_type": "code",
      "execution_count": null,
      "id": "549e8eb2",
      "metadata": {
        "id": "549e8eb2"
      },
      "outputs": [],
      "source": [
        "import numpy as np\n",
        "import scipy.stats as st\n",
        "import scipy.integrate as i\n",
        "import matplotlib.pyplot as plt"
      ]
    },
    {
      "cell_type": "markdown",
      "id": "2bb1cd32",
      "metadata": {
        "id": "2bb1cd32"
      },
      "source": [
        "# Problem 2\n",
        "\n",
        "Use the scipy library to plot the pdf of a normal distribution that has a mean of 10, sigma of 0.5 and spans the range 5 to 15.\n",
        "> scipy.stats.norm.pdf(x, loc, scale)\n",
        "\n",
        "function to plot the pdf of the normal distribution. Here x should be a numpy array of 1000 points from 5 to 15. The prameter loc and scale that the function takes as input is the mean and sigma values of the normal distribution. You plot should look like what is shown below. \n",
        "\n",
        "<div>\n",
        "<img src=\"attachment:P2.png\" width=\"400\"/>\n",
        "</div>"
      ]
    },
    {
      "cell_type": "code",
      "execution_count": null,
      "id": "6ddf1316",
      "metadata": {
        "id": "6ddf1316"
      },
      "outputs": [],
      "source": [
        "x = np.linspace(5, 15, 1000)\n",
        "loc = 10\n",
        "scale = 0.5\n",
        "n = st.norm.pdf(x, loc, scale)"
      ]
    },
    {
      "cell_type": "code",
      "execution_count": null,
      "id": "248123dd",
      "metadata": {
        "id": "248123dd",
        "colab": {
          "base_uri": "https://localhost:8080/",
          "height": 325
        },
        "outputId": "d6d03cad-2a0f-41fb-e5ea-199a57ee7a7a"
      },
      "outputs": [
        {
          "output_type": "execute_result",
          "data": {
            "text/plain": [
              "Text(0.5, 1.0, 'Normal Distribution')"
            ]
          },
          "metadata": {},
          "execution_count": 3
        },
        {
          "output_type": "display_data",
          "data": {
            "text/plain": [
              "<Figure size 432x288 with 1 Axes>"
            ],
            "image/png": "[encoded data removed]"
          },
          "metadata": {
            "needs_background": "light"
          }
        }
      ],
      "source": [
        "\n",
        "fig = plt.figure()\n",
        "nd = fig.add_axes([0.1,0.1,0.8,0.8])\n",
        "nd.plot(x, n)\n",
        "nd.set_xlabel('x')\n",
        "nd.set_title('Normal Distribution')"
      ]
    },
    {
      "cell_type": "markdown",
      "id": "0c292a4e",
      "metadata": {
        "id": "0c292a4e"
      },
      "source": [
        "# Problem 3\n",
        "\n",
        "We can calculate the probability that our value lies in a particular range. For the normal distribution the number of sigmas that you are away from the mean are directly related to the probability of finding our value in that range. \n",
        "\n",
        "For example if our value x lies in the range $\\mu - \\sigma \\le x \\le \\mu +\\sigma$, where $\\mu$ is the mean value of the distribution (10 in this assignment), then the probability of our value x lying in that range is $68.2\\%$. \n",
        "\n",
        "The probability that x lies in the range $\\mu - 2\\sigma \\le x \\le \\mu + 2\\sigma$ is $95.4\\%$. As our range becomes wider, so the the probability that it contains our value x. This can be seen from the plot below (taken from [wikipedia](https://en.wikipedia.org/wiki/Normal_distribution#/media/File:Standard_deviation_diagram_micro.svg)). \n",
        "\n",
        "\n",
        "We will first use the cumulative distribution function (CDF) from scipy to verify these probabilities.\n",
        "\n",
        "Using\n",
        ">scipy.stats.norm.cdf(x,loc,scale)\n",
        "\n",
        "where the inputs are:\n",
        "* x tells the cdf to add all values upto and below x\n",
        "* loc is the mean value of the normal distribution\n",
        "* scale is the sigma of the normal distribution\n",
        "\n",
        "Use the scipy cdf function to evaluate the probability in the following ranges:\n",
        "* mean $-\\sigma < x <$ mean $+ \\sigma$\n",
        "* mean $-2\\sigma < x <$ mean $+ 2\\sigma$\n",
        "* mean $-3\\sigma < x <$ mean $+ 3\\sigma$"
      ]
    },
    {
      "cell_type": "code",
      "execution_count": null,
      "id": "d3687da6",
      "metadata": {
        "id": "d3687da6",
        "colab": {
          "base_uri": "https://localhost:8080/"
        },
        "outputId": "66fb4f28-4e0c-4649-9eab-464cd2404379"
      },
      "outputs": [
        {
          "output_type": "stream",
          "name": "stdout",
          "text": [
            "68.26894921370858 %\n",
            "95.44997361036415 %\n",
            "99.73002039367398 %\n"
          ]
        }
      ],
      "source": [
        "μ = 10\n",
        "σ = 0.5\n",
        "\n",
        "x1a = μ - σ\n",
        "x1b = μ + σ\n",
        "\n",
        "x2a = μ - (2*σ)\n",
        "x2b = μ + (2*σ)\n",
        "\n",
        "x3a = μ - (3*σ)\n",
        "x3b = μ + (3*σ)\n",
        "\n",
        "p1 = (st.norm.cdf(x1b,μ,σ) - st.norm.cdf(x1a,μ,σ)) * 100\n",
        "p2 = (st.norm.cdf(x2b,μ,σ) - st.norm.cdf(x2a,μ,σ)) * 100\n",
        "p3 = (st.norm.cdf(x3b,μ,σ) - st.norm.cdf(x3a,μ,σ)) * 100\n",
        "\n",
        "print(p1,'%')\n",
        "print(p2,'%')\n",
        "print(p3,'%')"
      ]
    },
    {
      "cell_type": "markdown",
      "id": "0e1eeab1",
      "metadata": {
        "id": "0e1eeab1"
      },
      "source": [
        "# Problem 4\n",
        "\n",
        "Define a function that takes an array x, and numbers a and b, which correspond to the mean and sigma of a normal distibution, and returns the evaluation of\n",
        "\n",
        "$$\\frac{1}{b\\sqrt{2\\pi}}\\exp\\left[{-\\frac{1}{2}\\left(\\frac{(x-a)}{b}\\right)^2}\\right] $$"
      ]
    },
    {
      "cell_type": "code",
      "execution_count": 6,
      "id": "4dc63991",
      "metadata": {
        "id": "4dc63991"
      },
      "outputs": [],
      "source": [
        "pi = 3.141592653589793238\n",
        "\n",
        "def eval(x, a, b):\n",
        "  eq = (1/(b*np.sqrt(2*pi)))*np.exp((-1/2)*((x-a)/b)**2)\n",
        "  return eq"
      ]
    },
    {
      "cell_type": "markdown",
      "id": "bdcce4f9",
      "metadata": {
        "id": "bdcce4f9"
      },
      "source": [
        "# Problem 5\n",
        "\n",
        "Make a numpy array called xx that contains 1000 points over the range 5 to 15. Use your gaus function from the previous problem that takes the arguments xx, mean, and sigma. Here the mean = 10 and sigma = 0.5, same as in Problem 2. Call this array yy.\n",
        "\n",
        "Then plot yy vs. xx as markers, and compare it to the PDF curve you found in Problem 2 by plotting both on the same canvas. See below for what you plot should look like.\n",
        "\n",
        "<div>\n",
        "<img src=\"attachment:P5.png\" width=\"400\"/>\n",
        "</div>\n"
      ]
    },
    {
      "cell_type": "code",
      "execution_count": 8,
      "id": "9571beea",
      "metadata": {
        "id": "9571beea"
      },
      "outputs": [],
      "source": [
        "xx = np.linspace(5, 15, 1000) #(x)\n",
        "μ = 10 #(a)\n",
        "σ = 0.5 #(b)\n",
        "pi = 3.141592653589793238\n",
        "yy = eval(xx, μ, σ)"
      ]
    },
    {
      "cell_type": "code",
      "execution_count": 19,
      "id": "b0d06a29",
      "metadata": {
        "id": "b0d06a29",
        "colab": {
          "base_uri": "https://localhost:8080/",
          "height": 325
        },
        "outputId": "2968cc43-47be-4bf4-95da-e40bf541a9b6"
      },
      "outputs": [
        {
          "output_type": "execute_result",
          "data": {
            "text/plain": [
              "Text(0.5, 1.0, 'Comparison')"
            ]
          },
          "metadata": {},
          "execution_count": 19
        },
        {
          "output_type": "display_data",
          "data": {
            "text/plain": [
              "<Figure size 432x288 with 1 Axes>"
            ],
            "image/png": "[encoded data removed]"
          },
          "metadata": {
            "needs_background": "light"
          }
        }
      ],
      "source": [
        "fig = plt.figure()\n",
        "c = fig.add_axes([0.1,0.1,0.8,0.8])\n",
        "c.scatter(xx, yy, label='My Function', color='black')\n",
        "c.plot(x, n, label='Scipy Function', color='red')\n",
        "c.set_xlabel('x')\n",
        "c.legend()\n",
        "#different graph\n",
        "c.set_title('Comparison')"
      ]
    },
    {
      "cell_type": "markdown",
      "id": "c2034915",
      "metadata": {
        "id": "c2034915"
      },
      "source": [
        "# Problem 6\n",
        "\n",
        "Because the CDF is just the integral of the PDF, we should be able to integrate our gaus function over a particular range and obtain the same probabilities we found in Problem 3.\n",
        "\n",
        "Use the \n",
        ">scipy.integrate.quad(function, a, b, args=(mean, sigma))\n",
        "\n",
        "where function should be our gaus function, a is the lower limit of our integral, b is the upper limit of the integral, and args are the arguments taken by our gaus function. In our case this is the mean = 10, and sigma = 0.5. This will give you an array with two elements. The first is the integral value (e.g. our probability) and the second is the numerical error of the integration. Remember numerical integrations are approximations so there is an error associated with the calculation.\n",
        "\n",
        "Using scipy.integrate.quad integrate your gaus function of the three ranges specified in Problem 3.\n",
        "\n",
        "**Do you end up with the same probabilities?**"
      ]
    },
    {
      "cell_type": "code",
      "execution_count": 20,
      "id": "51467408",
      "metadata": {
        "id": "51467408"
      },
      "outputs": [],
      "source": [
        "x1a = μ - σ\n",
        "x1b = μ + σ\n",
        "\n",
        "x2a = μ - (2*σ)\n",
        "x2b = μ + (2*σ)\n",
        "\n",
        "x3a = μ - (3*σ)\n",
        "x3b = μ + (3*σ)"
      ]
    },
    {
      "cell_type": "code",
      "execution_count": 27,
      "id": "06c41f95",
      "metadata": {
        "id": "06c41f95",
        "colab": {
          "base_uri": "https://localhost:8080/"
        },
        "outputId": "8e380619-1ad0-421a-f2f0-33ecd1c5b5ce"
      },
      "outputs": [
        {
          "output_type": "stream",
          "name": "stdout",
          "text": [
            "68.2689492137086 %\n",
            "95.44997361036413 %\n",
            "99.730020393674 %\n"
          ]
        }
      ],
      "source": [
        "c = ((i.quad(eval, x1a, x1b, args=(μ, σ))))\n",
        "c1 = c[0] * 100 \n",
        "print(c1, '%')\n",
        "\n",
        "c = ((i.quad(eval, x2a, x2b, args=(μ, σ))))\n",
        "c2 = c[0] * 100 \n",
        "print(c2, '%')\n",
        "\n",
        "c = ((i.quad(eval, x3a, x3b, args=(μ, σ))))\n",
        "c3 = c[0] * 100 \n",
        "print(c3, '%')"
      ]
    },
    {
      "cell_type": "markdown",
      "source": [
        "My answers were very close to problem 3, with all of the first few decimal points being the same"
      ],
      "metadata": {
        "id": "j9TY7Us2LFt7"
      },
      "id": "j9TY7Us2LFt7"
    }
  ],
  "metadata": {
    "kernelspec": {
      "display_name": "Python 3 (ipykernel)",
      "language": "python",
      "name": "python3"
    },
    "language_info": {
      "codemirror_mode": {
        "name": "ipython",
        "version": 3
      },
      "file_extension": ".py",
      "mimetype": "text/x-python",
      "name": "python",
      "nbconvert_exporter": "python",
      "pygments_lexer": "ipython3",
      "version": "3.9.12"
    },
    "colab": {
      "provenance": [],
      "collapsed_sections": []
    }
  },
  "nbformat": 4,
  "nbformat_minor": 5
}