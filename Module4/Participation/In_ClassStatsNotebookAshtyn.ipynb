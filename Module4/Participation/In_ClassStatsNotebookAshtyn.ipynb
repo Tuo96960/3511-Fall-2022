{
  "nbformat": 4,
  "nbformat_minor": 0,
  "metadata": {
    "colab": {
      "provenance": [],
      "collapsed_sections": []
    },
    "kernelspec": {
      "name": "python3",
      "display_name": "Python 3"
    },
    "language_info": {
      "name": "python"
    }
  },
  "cells": [
    {
      "cell_type": "code",
      "source": [
        "import numpy as np\n",
        "import scipy.stats as st\n",
        "import matplotlib.pyplot as plt\n"
      ],
      "metadata": {
        "id": "bjkAU_IAMjAi"
      },
      "execution_count": 2,
      "outputs": []
    },
    {
      "cell_type": "markdown",
      "source": [
        "If you roll a 6-sided dice 10 times, what is the probability of having the number 4 show up 6 times? Hint: use\n",
        "\n",
        "st.binom.pmf()"
      ],
      "metadata": {
        "id": "YGp2tktKMruB"
      }
    },
    {
      "cell_type": "code",
      "source": [
        "x = 6\n",
        "n = 10\n",
        "p = 1/6\n",
        "st.binom.pmf(x,n,p)"
      ],
      "metadata": {
        "colab": {
          "base_uri": "https://localhost:8080/"
        },
        "id": "FbxZ9DqhMsbB",
        "outputId": "1995f3fd-cf1a-473f-809a-482c5d9ad470"
      },
      "execution_count": 7,
      "outputs": [
        {
          "output_type": "execute_result",
          "data": {
            "text/plain": [
              "0.0021706350340395257"
            ]
          },
          "metadata": {},
          "execution_count": 7
        }
      ]
    },
    {
      "cell_type": "markdown",
      "source": [
        "Bonus See if you can histogram the PMF distribution using\n",
        "\n",
        "scipy.stats.binom.rvs()"
      ],
      "metadata": {
        "id": "GrTpw8kOMuli"
      }
    },
    {
      "cell_type": "code",
      "execution_count": 12,
      "metadata": {
        "colab": {
          "base_uri": "https://localhost:8080/",
          "height": 292
        },
        "id": "K7iwKI21MfbD",
        "outputId": "1edb1bca-4a6a-4fc2-ca63-e89920d94ccb"
      },
      "outputs": [
        {
          "output_type": "display_data",
          "data": {
            "text/plain": [
              "<Figure size 432x288 with 1 Axes>"
            ],
            "image/png": "[encoded data removed]"
          },
          "metadata": {
            "needs_background": "light"
          }
        }
      ],
      "source": [
        "#  np.random.seed(0)\n",
        "x = 10\n",
        "p = 1/6\n",
        "trials = 100\n",
        "rand = st.binom.rvs(x,p,size = trials)\n",
        "\n",
        "fig = plt.figure('Random Variable Distribution')\n",
        "h = fig.add_axes([0.1,0.1,0.8,0.8])\n",
        "h.set_xlabel('x')\n",
        "h.set_ylabel('y')\n",
        "h.hist(rand,bins=x+1,range=(0,x+1),density=True)\n",
        "\n",
        "h = plt.gca()"
      ]
    }
  ]
}