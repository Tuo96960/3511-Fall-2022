{
  "nbformat": 4,
  "nbformat_minor": 0,
  "metadata": {
    "colab": {
      "provenance": [],
      "collapsed_sections": []
    },
    "kernelspec": {
      "name": "python3",
      "display_name": "Python 3"
    },
    "language_info": {
      "name": "python"
    }
  },
  "cells": [
    {
      "cell_type": "markdown",
      "source": [
        "# Week 3 2nd In-Class Assignment"
      ],
      "metadata": {
        "id": "4iXrNdCrA_UR"
      }
    },
    {
      "cell_type": "markdown",
      "source": [
        "Find the eigenvalues and eigenvectors for the equation:\n",
        "\n",
        "(\n",
        "A\n",
        "→\n",
        "−\n",
        "λ\n",
        "I\n",
        "→\n",
        ")\n",
        "v\n",
        "→\n",
        "=\n",
        "0\n",
        ",\n",
        "where \n",
        "v\n",
        "→\n",
        " are the eigenvectors and \n",
        "λ\n",
        " is the eigenvalues\n",
        "\n"
      ],
      "metadata": {
        "id": "G8AMh8nbBGXu"
      }
    },
    {
      "cell_type": "code",
      "execution_count": null,
      "metadata": {
        "colab": {
          "base_uri": "https://localhost:8080/"
        },
        "id": "0UD7tkguA-ol",
        "outputId": "497f4a16-9a88-43dc-eeac-9bf300a6ac61"
      },
      "outputs": [
        {
          "output_type": "stream",
          "name": "stdout",
          "text": [
            "E-value:\n",
            " [13. 11. 10.]\n",
            "E-vector:\n",
            " [[-4.08248290e-01 -7.07106781e-01  5.77350269e-01]\n",
            " [ 8.16496581e-01  4.32041765e-16  5.77350269e-01]\n",
            " [-4.08248290e-01  7.07106781e-01  5.77350269e-01]]\n"
          ]
        }
      ],
      "source": [
        "import numpy as np\n",
        "import matplotlib.pyplot as plt\n",
        "\n",
        "#define matrix\n",
        "#find eigenvaules and eigenvectors\n",
        "\n",
        "a = np.array([[11, -1, 0], [-1, 12, -1], [0, -1, 11]])\n",
        "b,c = np.linalg.eig(a)\n",
        "print('E-value:\\n', b)\n",
        "print('E-vector:\\n', c)"
      ]
    }
  ]
}
