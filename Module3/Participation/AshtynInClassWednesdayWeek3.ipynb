{
  "nbformat": 4,
  "nbformat_minor": 0,
  "metadata": {
    "colab": {
      "provenance": [],
      "collapsed_sections": []
    },
    "kernelspec": {
      "name": "python3",
      "display_name": "Python 3"
    },
    "language_info": {
      "name": "python"
    }
  },
  "cells": [
    {
      "cell_type": "markdown",
      "source": [
        "#In Class Assignment: Matrices - Week 3"
      ],
      "metadata": {
        "id": "EQcLYw6_yQbP"
      }
    },
    {
      "cell_type": "code",
      "execution_count": null,
      "metadata": {
        "id": "_QwC5oHLtPBE"
      },
      "outputs": [],
      "source": [
        "import numpy as np"
      ]
    },
    {
      "cell_type": "markdown",
      "source": [
        "Define the matricies as numpy arrays"
      ],
      "metadata": {
        "id": "Db-JbbqztVeH"
      }
    },
    {
      "cell_type": "code",
      "source": [
        "A = np.array([[2,4,-7],[3,-3,0],[1,7,5]])\n",
        "print(\"A:\\n\", A, \"\\n\")\n",
        "\n",
        "B = np.array([[2,4],[3,-3],[1,7]])\n",
        "print(\"B:\\n\", B, \"\\n\")\n",
        "\n",
        "C = np.array([[-1,1],[1,-1]])\n",
        "print(\"C:\\n\", C, \"\\n\")\n",
        "\n",
        "D = np.array([[2,0],[-3,6]])\n",
        "print(\"D:\\n\", D)"
      ],
      "metadata": {
        "colab": {
          "base_uri": "https://localhost:8080/"
        },
        "id": "HwX_zM6ytdr7",
        "outputId": "b739c571-b88b-4806-ee24-00e53f681e1b"
      },
      "execution_count": null,
      "outputs": [
        {
          "output_type": "stream",
          "name": "stdout",
          "text": [
            "A:\n",
            " [[ 2  4 -7]\n",
            " [ 3 -3  0]\n",
            " [ 1  7  5]] \n",
            "\n",
            "B:\n",
            " [[ 2  4]\n",
            " [ 3 -3]\n",
            " [ 1  7]] \n",
            "\n",
            "C:\n",
            " [[-1  1]\n",
            " [ 1 -1]] \n",
            "\n",
            "D:\n",
            " [[ 2  0]\n",
            " [-3  6]]\n"
          ]
        }
      ]
    },
    {
      "cell_type": "markdown",
      "source": [
        "Multiply \n",
        "A\n",
        " by 2.5"
      ],
      "metadata": {
        "id": "5Ydjn3eltiWB"
      }
    },
    {
      "cell_type": "code",
      "source": [
        "New_A = A*2.5\n",
        "\n",
        "print(\"(2.5)A:\\n\",New_A)"
      ],
      "metadata": {
        "colab": {
          "base_uri": "https://localhost:8080/"
        },
        "id": "E1QTZq9btjiw",
        "outputId": "9bedd1b2-a6c0-439c-919e-4c87d42abcb5"
      },
      "execution_count": null,
      "outputs": [
        {
          "output_type": "stream",
          "name": "stdout",
          "text": [
            "(2.5)A:\n",
            " [[  5.   10.  -17.5]\n",
            " [  7.5  -7.5   0. ]\n",
            " [  2.5  17.5  12.5]]\n"
          ]
        }
      ]
    },
    {
      "cell_type": "markdown",
      "source": [
        "Evaluate the product of \n",
        "C\n",
        "⋅\n",
        "A\n",
        "Did you get an error? Do you know why? (Hint: look at the dimensions of the matrix)"
      ],
      "metadata": {
        "id": "Gt9Ep9I-tkEX"
      }
    },
    {
      "cell_type": "code",
      "source": [
        "CA = np.matmul(C, A)\n",
        "print(CA)\n",
        "\n",
        "# These matrices do not have the same dimensions so you cannot multiply/add them"
      ],
      "metadata": {
        "colab": {
          "base_uri": "https://localhost:8080/",
          "height": 207
        },
        "id": "DPFWH2ptuyaX",
        "outputId": "7024ebab-40d9-44bd-a641-e88786f39309"
      },
      "execution_count": null,
      "outputs": [
        {
          "output_type": "error",
          "ename": "ValueError",
          "evalue": "ignored",
          "traceback": [
            "\u001b[0;31m---------------------------------------------------------------------------\u001b[0m",
            "\u001b[0;31mValueError\u001b[0m                                Traceback (most recent call last)",
            "\u001b[0;32m<ipython-input-10-903b11f7cc5e>\u001b[0m in \u001b[0;36m<module>\u001b[0;34m\u001b[0m\n\u001b[0;32m----> 1\u001b[0;31m \u001b[0mCA\u001b[0m \u001b[0;34m=\u001b[0m \u001b[0mnp\u001b[0m\u001b[0;34m.\u001b[0m\u001b[0mmatmul\u001b[0m\u001b[0;34m(\u001b[0m\u001b[0mC\u001b[0m\u001b[0;34m,\u001b[0m \u001b[0mA\u001b[0m\u001b[0;34m)\u001b[0m\u001b[0;34m\u001b[0m\u001b[0;34m\u001b[0m\u001b[0m\n\u001b[0m\u001b[1;32m      2\u001b[0m \u001b[0mprint\u001b[0m\u001b[0;34m(\u001b[0m\u001b[0mCA\u001b[0m\u001b[0;34m)\u001b[0m\u001b[0;34m\u001b[0m\u001b[0;34m\u001b[0m\u001b[0m\n",
            "\u001b[0;31mValueError\u001b[0m: matmul: Input operand 1 has a mismatch in its core dimension 0, with gufunc signature (n?,k),(k,m?)->(n?,m?) (size 3 is different from 2)"
          ]
        }
      ]
    },
    {
      "cell_type": "markdown",
      "source": [
        "Evaluate the product of \n",
        "C\n",
        "⋅\n",
        "D\n",
        " and then \n",
        "D\n",
        "⋅\n",
        "C\n",
        ". Do you get the same results?\n",
        "different answers CD != DC"
      ],
      "metadata": {
        "id": "buOvJFRUvCce"
      }
    },
    {
      "cell_type": "code",
      "source": [
        "CD = np.matmul(C, D)\n",
        "print(\"CD:\\n\",CD, \"\\n\")\n",
        "\n",
        "DC = np.matmul(D, C)\n",
        "print(\"DC:\\n\",DC)"
      ],
      "metadata": {
        "colab": {
          "base_uri": "https://localhost:8080/"
        },
        "id": "VTwm1Ze0vDBz",
        "outputId": "48974316-bf14-44a5-f09d-b99015f95231"
      },
      "execution_count": null,
      "outputs": [
        {
          "output_type": "stream",
          "name": "stdout",
          "text": [
            "CD:\n",
            " [[-5  6]\n",
            " [ 5 -6]] \n",
            "\n",
            "DC:\n",
            " [[-2  2]\n",
            " [ 9 -9]]\n"
          ]
        }
      ]
    },
    {
      "cell_type": "markdown",
      "source": [
        "Find the transpose of B"
      ],
      "metadata": {
        "id": "001PnrW7vLBK"
      }
    },
    {
      "cell_type": "code",
      "source": [
        "B_T = B.T\n",
        "print(\"Transpose of B:\\n\", B_T)"
      ],
      "metadata": {
        "colab": {
          "base_uri": "https://localhost:8080/"
        },
        "id": "9S-VWgyIvOtO",
        "outputId": "23182f34-8146-455d-9835-1d576698d229"
      },
      "execution_count": null,
      "outputs": [
        {
          "output_type": "stream",
          "name": "stdout",
          "text": [
            "Transpose of B:\n",
            " [[ 2  3  1]\n",
            " [ 4 -3  7]]\n"
          ]
        }
      ]
    },
    {
      "cell_type": "markdown",
      "source": [
        "Add C+D"
      ],
      "metadata": {
        "id": "rR3403gwvVpt"
      }
    },
    {
      "cell_type": "code",
      "source": [
        "sum_CD = C + D\n",
        "print(\"C+D:\\n\",sum_CD)"
      ],
      "metadata": {
        "colab": {
          "base_uri": "https://localhost:8080/"
        },
        "id": "iVROmkkGvdHF",
        "outputId": "7d292065-bbcb-428e-825e-a70288b1b97f"
      },
      "execution_count": null,
      "outputs": [
        {
          "output_type": "stream",
          "name": "stdout",
          "text": [
            "C+D:\n",
            " [[ 1  1]\n",
            " [-2  5]]\n"
          ]
        }
      ]
    },
    {
      "cell_type": "markdown",
      "source": [
        "Compute the determinate of C"
      ],
      "metadata": {
        "id": "cQovVpwtvd3V"
      }
    },
    {
      "cell_type": "code",
      "source": [
        "detC = np.linalg.det(C)\n",
        "print(\"Determinate of C:\", detC)"
      ],
      "metadata": {
        "colab": {
          "base_uri": "https://localhost:8080/"
        },
        "id": "hc7jsjfpvfap",
        "outputId": "123e7917-d290-44d0-91d5-383d75ba30b9"
      },
      "execution_count": null,
      "outputs": [
        {
          "output_type": "stream",
          "name": "stdout",
          "text": [
            "Determinate of C: 0.0\n"
          ]
        }
      ]
    },
    {
      "cell_type": "markdown",
      "source": [
        "Compute the determinate of A"
      ],
      "metadata": {
        "id": "JJCeEfaHvf7Y"
      }
    },
    {
      "cell_type": "code",
      "source": [
        "detA = np.linalg.det(A)\n",
        "print(\"Determinate of A:\", detA)"
      ],
      "metadata": {
        "colab": {
          "base_uri": "https://localhost:8080/"
        },
        "id": "b6M1L1nJvrHu",
        "outputId": "dd872b2f-5f08-4408-9500-053a9471f9f1"
      },
      "execution_count": null,
      "outputs": [
        {
          "output_type": "stream",
          "name": "stdout",
          "text": [
            "Determinate of A: -257.9999999999998\n"
          ]
        }
      ]
    }
  ]
}