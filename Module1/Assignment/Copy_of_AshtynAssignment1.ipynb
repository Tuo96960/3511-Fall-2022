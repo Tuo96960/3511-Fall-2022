{
  "nbformat": 4,
  "nbformat_minor": 0,
  "metadata": {
    "colab": {
      "provenance": [],
      "collapsed_sections": []
    },
    "kernelspec": {
      "name": "python3",
      "display_name": "Python 3"
    },
    "language_info": {
      "name": "python"
    }
  },
  "cells": [
    {
      "cell_type": "markdown",
      "source": [
        "#Assignment One"
      ],
      "metadata": {
        "id": "f6siGUL5jIAq"
      }
    },
    {
      "cell_type": "markdown",
      "source": [],
      "metadata": {
        "id": "byFZvaUhlpkO"
      }
    },
    {
      "cell_type": "markdown",
      "source": [
        "Write a program to output ln(n!) and its Stirling's approximation for 2 < n < 20 Plot on the same graph the exact value and the approximate value as a function of n. Be sure to lable your curves and axes. Hint: the math module (and numpy.math) provides a factorial() method.\n",
        "Now modify the program to output ln(n!), Stirling's approximation, and the relative error in the approximation, for only the first value of n for which the relative error in the approximation, (exact-approx)/exact, is less than 1%. Your out put should quote number to 3 decimal places. Hint: You may need to increase your n value and you may get an error message. Can you determine why you get an error and how to correctly make this comparison?"
      ],
      "metadata": {
        "id": "DqchAwy0lpOj"
      }
    },
    {
      "cell_type": "code",
      "execution_count": 1,
      "metadata": {
        "id": "5ZhTQ1tli_OR",
        "colab": {
          "base_uri": "https://localhost:8080/",
          "height": 590
        },
        "outputId": "62c10ea3-4859-4dee-a04d-9760f02225c4"
      },
      "outputs": [
        {
          "output_type": "stream",
          "name": "stdout",
          "text": [
            "Relative Error Values: [83.48903014 83.48903014 83.48903014 83.48903014 83.48903014 83.48903014\n",
            " 83.48903014 51.37975859 51.37975859 51.37975859 51.37975859 51.37975859\n",
            " 51.37975859 36.35102208 36.35102208 36.35102208 36.35102208 36.35102208\n",
            " 36.35102208 27.79487114 27.79487114 27.79487114 27.79487114 27.79487114\n",
            " 27.79487114 22.33142854 22.33142854 22.33142854 22.33142854 22.33142854\n",
            " 22.33142854 18.56807452 18.56807452 18.56807452 18.56807452 18.56807452\n",
            " 18.56807452 18.56807452 15.83216371 15.83216371 15.83216371 15.83216371\n",
            " 15.83216371 15.83216371 13.76128752 13.76128752 13.76128752 13.76128752\n",
            " 13.76128752 13.76128752 12.14388333 12.14388333 12.14388333 12.14388333\n",
            " 12.14388333 12.14388333 10.84860874 10.84860874 10.84860874 10.84860874\n",
            " 10.84860874 10.84860874  9.78984642  9.78984642  9.78984642  9.78984642\n",
            "  9.78984642  9.78984642  9.78984642  8.90952666  8.90952666  8.90952666\n",
            "  8.90952666  8.90952666  8.90952666  8.16694578  8.16694578  8.16694578\n",
            "  8.16694578  8.16694578  8.16694578  7.53276959  7.53276959  7.53276959\n",
            "  7.53276959  7.53276959  7.53276959  6.98534986  6.98534986  6.98534986\n",
            "  6.98534986  6.98534986  6.98534986  6.50837915  6.50837915  6.50837915\n",
            "  6.50837915  6.50837915  6.50837915  6.08935088]\n"
          ]
        },
        {
          "output_type": "display_data",
          "data": {
            "text/plain": [
              "<Figure size 432x288 with 1 Axes>"
            ],
            "image/png": "[encoded data removed]"
          },
          "metadata": {
            "needs_background": "light"
          }
        }
      ],
      "source": [
        "# I worked out the plotting of both lines and the printing of the exact, stirling approx., and the relative error to 3 decimals.\n",
        "#However, there was an issue with the original values (the factorial function gave an Error that requires me to turn our numbers into an int, but that messes with the correct values)\n",
        "#This means my graph was not correct, and I could not get a Relative Error % under 6.\n",
        "# I printed out the Relative Error values so you could see the issue of why the rest was not printing.\n",
        "\n",
        "import numpy as np\n",
        "import math as math\n",
        "import matplotlib.pyplot as plt\n",
        "import itertools \n",
        "from sys import exit\n",
        "\n",
        "numbers = np.linspace(3, 19, num=100) #creates numbers within Sterling's Approx. range\n",
        "\n",
        "n = [] \n",
        "for i in numbers: #turns each n value into an integer to fix ValueError\n",
        "  #t = i *1000\n",
        "  t = int(i)\n",
        "  n.append(t)\n",
        "b = np.log(n)\n",
        "ster = ((n * b) - n)\n",
        "\n",
        "nfactorial = []\n",
        "for i in n: #factorizes each n value\n",
        "  nf = np.math.factorial(i)\n",
        "  #nf = round(nf/1000, 3)\n",
        "  nfactorial.append(nf)\n",
        "exact = np.log(nfactorial) \n",
        "\n",
        "fig, s = plt.subplots()\n",
        "s.set_xlabel(\"n\")\n",
        "s.set_title(\"Stirling's Approximation v. Exact Value\")\n",
        "s.set_ylim(0,350)\n",
        "s.plot(exact, label = \"Exact\")\n",
        "s.plot(ster, label = \"Sterling's Approx.\")\n",
        "s.legend()\n",
        "\n",
        "for i,x in itertools.zip_longest(exact, ster):\n",
        "  relative_error = ((exact - ster)/exact) *100\n",
        "  print(\"Relative Error Values:\", relative_error)\n",
        "  for r in relative_error:\n",
        "    if r<1 and r>=0 :\n",
        "      print(\"Exact Value;\", '{:.3f}'.format(i))\n",
        "      print(\"Sterling's Approximation;\", '{:.3f}'.format(x))\n",
        "      format = '{:.3f}'.format(r)\n",
        "      print(\"Relative Error:\", format)\n",
        "      break\n",
        "    break\n",
        "  break"
      ]
    },
    {
      "cell_type": "markdown",
      "source": [
        "Problem 2 - Create a numpy array of 100 7's."
      ],
      "metadata": {
        "id": "aIljzUOblqEM"
      }
    },
    {
      "cell_type": "code",
      "source": [
        "import numpy as np\n",
        "np.ones(100) * 7"
      ],
      "metadata": {
        "colab": {
          "base_uri": "https://localhost:8080/"
        },
        "id": "dCXx5Q8RlqkL",
        "outputId": "60b71a14-2fdc-4ee7-b37e-68be78170967"
      },
      "execution_count": null,
      "outputs": [
        {
          "output_type": "execute_result",
          "data": {
            "text/plain": [
              "array([7., 7., 7., 7., 7., 7., 7., 7., 7., 7., 7., 7., 7., 7., 7., 7., 7.,\n",
              "       7., 7., 7., 7., 7., 7., 7., 7., 7., 7., 7., 7., 7., 7., 7., 7., 7.,\n",
              "       7., 7., 7., 7., 7., 7., 7., 7., 7., 7., 7., 7., 7., 7., 7., 7., 7.,\n",
              "       7., 7., 7., 7., 7., 7., 7., 7., 7., 7., 7., 7., 7., 7., 7., 7., 7.,\n",
              "       7., 7., 7., 7., 7., 7., 7., 7., 7., 7., 7., 7., 7., 7., 7., 7., 7.,\n",
              "       7., 7., 7., 7., 7., 7., 7., 7., 7., 7., 7., 7., 7., 7., 7.])"
            ]
          },
          "metadata": {},
          "execution_count": 3
        }
      ]
    },
    {
      "cell_type": "markdown",
      "source": [
        "Probelm 3 - Given the numpy array below. Write a print statement that prints the array below for all values that are larger than 5."
      ],
      "metadata": {
        "id": "Ds8s1faKl2FF"
      }
    },
    {
      "cell_type": "code",
      "source": [
        "import numpy as np\n",
        "np.random.seed(0)\n",
        "arr = np.random.randint(0,11,50)\n",
        "\n",
        "for i in arr:\n",
        "  if i>=5:\n",
        "    print(i)"
      ],
      "metadata": {
        "colab": {
          "base_uri": "https://localhost:8080/"
        },
        "id": "iIYwhnmBl1UE",
        "outputId": "9dc22cae-0afa-4c1d-c43f-eaa31686e6b8"
      },
      "execution_count": null,
      "outputs": [
        {
          "output_type": "stream",
          "name": "stdout",
          "text": [
            "5\n",
            "7\n",
            "9\n",
            "5\n",
            "7\n",
            "6\n",
            "8\n",
            "8\n",
            "10\n",
            "6\n",
            "7\n",
            "7\n",
            "8\n",
            "5\n",
            "9\n",
            "8\n",
            "9\n",
            "5\n",
            "8\n",
            "7\n",
            "9\n",
            "9\n",
            "10\n",
            "7\n",
            "7\n"
          ]
        }
      ]
    },
    {
      "cell_type": "markdown",
      "source": [
        "Probelem 4 - Problem 4\n",
        "Write a print statement that prints the below array with all values of '3' removed."
      ],
      "metadata": {
        "id": "qW1FwgBLmBUF"
      }
    },
    {
      "cell_type": "code",
      "source": [
        "import numpy as np\n",
        "np.random.seed(0)\n",
        "arr2 = np.random.randint(0,6,20)\n",
        "arrList = []\n",
        "\n",
        "for i in arr2:\n",
        "    if i!=3:\n",
        "        arrList.append(i)\n",
        "\n",
        "arr3 = np.asarray(arrList)\n",
        "\n",
        "print(arr3)"
      ],
      "metadata": {
        "colab": {
          "base_uri": "https://localhost:8080/"
        },
        "id": "mYyaq5WkmN6H",
        "outputId": "8265169d-0d6b-4421-9173-609941dbe723"
      },
      "execution_count": null,
      "outputs": [
        {
          "output_type": "stream",
          "name": "stdout",
          "text": [
            "[4 5 0 1 5 2 4 0 0 4 2 1 0 1 5 1]\n"
          ]
        }
      ]
    },
    {
      "cell_type": "markdown",
      "source": [
        "Problem 5a- Use numpy random.randn() to create a random 2D matrix array, that has 1000 entries in each dimension. When genereating the random values set the randome seed to zero."
      ],
      "metadata": {
        "id": "NO55ntCaWVzR"
      }
    },
    {
      "cell_type": "code",
      "source": [
        "import numpy as np\n",
        "np.random.seed(0)\n",
        "a = np.random.randn(1000, 1000)\n",
        "print(a)"
      ],
      "metadata": {
        "id": "LXKYuUcCU8w_",
        "colab": {
          "base_uri": "https://localhost:8080/"
        },
        "outputId": "dfc7d8c8-ddec-4197-f66b-771000b885e7"
      },
      "execution_count": null,
      "outputs": [
        {
          "output_type": "stream",
          "name": "stdout",
          "text": [
            "[[ 1.76405235  0.40015721  0.97873798 ...  0.0941923  -1.14761094\n",
            "  -0.35811408]\n",
            " [ 0.55596268  0.89247389 -0.42231482 ...  0.15843385 -1.14190142\n",
            "  -1.31097037]\n",
            " [-1.53292105 -1.71197016  0.04613506 ... -0.19240421 -1.21251574\n",
            "  -0.08059852]\n",
            " ...\n",
            " [ 0.43624889 -1.2972301   1.99717648 ... -0.42071168 -0.10894278\n",
            "  -0.45209518]\n",
            " [-0.10034023 -0.13437346 -0.15060322 ...  0.35111034  1.36105416\n",
            "  -1.41088647]\n",
            " [-1.24468854 -1.20417642  0.99255852 ... -0.79728264  0.87475609\n",
            "   1.37183066]]\n"
          ]
        }
      ]
    },
    {
      "cell_type": "markdown",
      "source": [
        "5b - Create a plot that contains two subplots (one row two plots). In each sub plot make a histogram of x and y random values from your matrix created in part a. Be sure to label your axes. The histograms will allow us to see how our data is distributed."
      ],
      "metadata": {
        "id": "JxABGxQ3pYOp"
      }
    },
    {
      "cell_type": "code",
      "source": [
        "# I realize the graph looks incorrect. There is an issue with the np.random.randn making multiple small arrays when really I need one big array, so the graph is reading it as 50 data sets. \n",
        "\n",
        "import numpy as np\n",
        "import matplotlib.pyplot as plt\n",
        "np.random.seed(0)\n",
        "a = np.random.randn(1000, 1000)\n",
        "\n",
        "fig, h = plt.subplots(1,2)\n",
        "a1,a2=np.split(a,2,axis=0)\n",
        "\n",
        "\n",
        "# a1_ar = []\n",
        "# for i in a1:\n",
        "#   ai = i\n",
        "#   a1_ar.append(ai)\n",
        "# a2_ar = []\n",
        "# for i in a2:\n",
        "#   a2_ar.append(i)\n",
        "\n",
        "\n",
        "h[0].set_xlabel('X Random Values')\n",
        "h[0].hist(a1, bins=10)\n",
        "h[0].set_ylim(0,100)\n",
        "h[0].set_xlim(-4,4)\n",
        "\n",
        "h[1].set_xlabel('Y Random Values')\n",
        "h[1].hist(a2, bins=10)\n",
        "h[1].set_ylim(0,120)\n",
        "h[1].set_xlim(-4,4)\n",
        "\n",
        "plt.tight_layout()\n",
        "\n",
        "\n"
      ],
      "metadata": {
        "id": "MVs7CEnEVJ_o",
        "colab": {
          "base_uri": "https://localhost:8080/",
          "height": 297
        },
        "outputId": "27c54a24-c32d-4379-cb73-6ff40b7b7315"
      },
      "execution_count": 8,
      "outputs": [
        {
          "output_type": "display_data",
          "data": {
            "text/plain": [
              "<Figure size 432x288 with 2 Axes>"
            ],
            "image/png": "[encoded data removed]"
          },
          "metadata": {
            "needs_background": "light"
          }
        }
      ]
    },
    {
      "cell_type": "markdown",
      "source": [
        "5c - Now make a x-y scatter plot of your 2D matrix from part a. Each axis should contain one matrix dimension. Be sure to label your axes. This will allow us to see if there are any obious correlations or dependencies on one another in our data."
      ],
      "metadata": {
        "id": "0b2xYUNVpd7j"
      }
    },
    {
      "cell_type": "code",
      "source": [
        "import numpy as np\n",
        "import matplotlib.pyplot as plt\n",
        "np.random.seed(0)\n",
        "a = np.random.randn(1000, 1000)\n",
        "a1,a2=np.split(a,2,axis=1)\n",
        "\n",
        "\n",
        "fig = plt.figure()\n",
        "s = fig.add_axes([0.1,0.1,0.8,0.8])\n",
        "s.scatter(a1, a2, marker='o')\n",
        "s.set_xlabel('x')\n",
        "s.set_ylabel('y')\n",
        "s.set_title('Scatter 1')"
      ],
      "metadata": {
        "colab": {
          "base_uri": "https://localhost:8080/",
          "height": 325
        },
        "id": "i-KiEMVbpg4G",
        "outputId": "81296aef-78a4-4c87-d874-1d8b887f4f30"
      },
      "execution_count": null,
      "outputs": [
        {
          "output_type": "execute_result",
          "data": {
            "text/plain": [
              "Text(0.5, 1.0, 'Scatter 1')"
            ]
          },
          "metadata": {},
          "execution_count": 17
        },
        {
          "output_type": "display_data",
          "data": {
            "text/plain": [
              "<Figure size 432x288 with 1 Axes>"
            ],
            "image/png": "[encoded data removed]"
          },
          "metadata": {
            "needs_background": "light"
          }
        }
      ]
    },
    {
      "cell_type": "markdown",
      "source": [
        "Problem 5d - The scatter plot form part c is good for investigating dependencies, but it is often hard to judge the density of the data, i.e. how much of our data is at a particular x-y range. To see this more clearly we can make a 2D histogram plot, where color corresponding to a 2D bin changes based on the number of counts in it.\n",
        "Make a 2D histogram of your 2D matrix from part a."
      ],
      "metadata": {
        "id": "QQMRv8mrpkC5"
      }
    },
    {
      "cell_type": "code",
      "source": [
        "#keeps throwing error \"too many values to unpack (expected 2)\" and cannot get to accept same array as above\n",
        "\n",
        "import numpy as np\n",
        "import matplotlib.pyplot as plt\n",
        "\n",
        "np.random.seed(0)\n",
        "a = np.random.randn(1000, 1000)\n",
        "a1,a2=np.split(a,2,axis=1)\n",
        "\n",
        "fig = plt.figure()\n",
        "h = fig.add_axes([0.15,0.1,0.8,0.8])\n",
        "h.hist2d(a1, a2, bins=100)\n",
        "h.set_xlabel('x')\n",
        "h.set_ylabel('y')\n",
        "h.set_title('2D Histogram')\n",
        "\n"
      ],
      "metadata": {
        "colab": {
          "base_uri": "https://localhost:8080/",
          "height": 767
        },
        "id": "_CmYxn0-poep",
        "outputId": "cba385b3-78b9-4a85-81bf-6b8a61e94c2e"
      },
      "execution_count": null,
      "outputs": [
        {
          "output_type": "error",
          "ename": "ValueError",
          "evalue": "ignored",
          "traceback": [
            "\u001b[0;31m---------------------------------------------------------------------------\u001b[0m",
            "\u001b[0;31mAttributeError\u001b[0m                            Traceback (most recent call last)",
            "\u001b[0;32m/usr/local/lib/python3.7/dist-packages/numpy/lib/histograms.py\u001b[0m in \u001b[0;36mhistogramdd\u001b[0;34m(sample, bins, range, normed, weights, density)\u001b[0m\n\u001b[1;32m   1015\u001b[0m         \u001b[0;31m# Sample is an ND-array.\u001b[0m\u001b[0;34m\u001b[0m\u001b[0;34m\u001b[0m\u001b[0;34m\u001b[0m\u001b[0m\n\u001b[0;32m-> 1016\u001b[0;31m         \u001b[0mN\u001b[0m\u001b[0;34m,\u001b[0m \u001b[0mD\u001b[0m \u001b[0;34m=\u001b[0m \u001b[0msample\u001b[0m\u001b[0;34m.\u001b[0m\u001b[0mshape\u001b[0m\u001b[0;34m\u001b[0m\u001b[0;34m\u001b[0m\u001b[0m\n\u001b[0m\u001b[1;32m   1017\u001b[0m     \u001b[0;32mexcept\u001b[0m \u001b[0;34m(\u001b[0m\u001b[0mAttributeError\u001b[0m\u001b[0;34m,\u001b[0m \u001b[0mValueError\u001b[0m\u001b[0;34m)\u001b[0m\u001b[0;34m:\u001b[0m\u001b[0;34m\u001b[0m\u001b[0;34m\u001b[0m\u001b[0m\n",
            "\u001b[0;31mAttributeError\u001b[0m: 'list' object has no attribute 'shape'",
            "\nDuring handling of the above exception, another exception occurred:\n",
            "\u001b[0;31mValueError\u001b[0m                                Traceback (most recent call last)",
            "\u001b[0;32m<ipython-input-22-39b736e9afa8>\u001b[0m in \u001b[0;36m<module>\u001b[0;34m\u001b[0m\n\u001b[1;32m      8\u001b[0m \u001b[0mfig\u001b[0m \u001b[0;34m=\u001b[0m \u001b[0mplt\u001b[0m\u001b[0;34m.\u001b[0m\u001b[0mfigure\u001b[0m\u001b[0;34m(\u001b[0m\u001b[0;34m)\u001b[0m\u001b[0;34m\u001b[0m\u001b[0;34m\u001b[0m\u001b[0m\n\u001b[1;32m      9\u001b[0m \u001b[0mh\u001b[0m \u001b[0;34m=\u001b[0m \u001b[0mfig\u001b[0m\u001b[0;34m.\u001b[0m\u001b[0madd_axes\u001b[0m\u001b[0;34m(\u001b[0m\u001b[0;34m[\u001b[0m\u001b[0;36m0.15\u001b[0m\u001b[0;34m,\u001b[0m\u001b[0;36m0.1\u001b[0m\u001b[0;34m,\u001b[0m\u001b[0;36m0.8\u001b[0m\u001b[0;34m,\u001b[0m\u001b[0;36m0.8\u001b[0m\u001b[0;34m]\u001b[0m\u001b[0;34m)\u001b[0m\u001b[0;34m\u001b[0m\u001b[0;34m\u001b[0m\u001b[0m\n\u001b[0;32m---> 10\u001b[0;31m \u001b[0mh\u001b[0m\u001b[0;34m.\u001b[0m\u001b[0mhist2d\u001b[0m\u001b[0;34m(\u001b[0m\u001b[0ma1\u001b[0m\u001b[0;34m,\u001b[0m \u001b[0ma2\u001b[0m\u001b[0;34m,\u001b[0m \u001b[0mbins\u001b[0m\u001b[0;34m=\u001b[0m\u001b[0;36m100\u001b[0m\u001b[0;34m)\u001b[0m\u001b[0;34m\u001b[0m\u001b[0;34m\u001b[0m\u001b[0m\n\u001b[0m\u001b[1;32m     11\u001b[0m \u001b[0mh\u001b[0m\u001b[0;34m.\u001b[0m\u001b[0mset_xlabel\u001b[0m\u001b[0;34m(\u001b[0m\u001b[0;34m'x'\u001b[0m\u001b[0;34m)\u001b[0m\u001b[0;34m\u001b[0m\u001b[0;34m\u001b[0m\u001b[0m\n\u001b[1;32m     12\u001b[0m \u001b[0mh\u001b[0m\u001b[0;34m.\u001b[0m\u001b[0mset_ylabel\u001b[0m\u001b[0;34m(\u001b[0m\u001b[0;34m'y'\u001b[0m\u001b[0;34m)\u001b[0m\u001b[0;34m\u001b[0m\u001b[0;34m\u001b[0m\u001b[0m\n",
            "\u001b[0;32m/usr/local/lib/python3.7/dist-packages/matplotlib/__init__.py\u001b[0m in \u001b[0;36minner\u001b[0;34m(ax, data, *args, **kwargs)\u001b[0m\n\u001b[1;32m   1563\u001b[0m     \u001b[0;32mdef\u001b[0m \u001b[0minner\u001b[0m\u001b[0;34m(\u001b[0m\u001b[0max\u001b[0m\u001b[0;34m,\u001b[0m \u001b[0;34m*\u001b[0m\u001b[0margs\u001b[0m\u001b[0;34m,\u001b[0m \u001b[0mdata\u001b[0m\u001b[0;34m=\u001b[0m\u001b[0;32mNone\u001b[0m\u001b[0;34m,\u001b[0m \u001b[0;34m**\u001b[0m\u001b[0mkwargs\u001b[0m\u001b[0;34m)\u001b[0m\u001b[0;34m:\u001b[0m\u001b[0;34m\u001b[0m\u001b[0;34m\u001b[0m\u001b[0m\n\u001b[1;32m   1564\u001b[0m         \u001b[0;32mif\u001b[0m \u001b[0mdata\u001b[0m \u001b[0;32mis\u001b[0m \u001b[0;32mNone\u001b[0m\u001b[0;34m:\u001b[0m\u001b[0;34m\u001b[0m\u001b[0;34m\u001b[0m\u001b[0m\n\u001b[0;32m-> 1565\u001b[0;31m             \u001b[0;32mreturn\u001b[0m \u001b[0mfunc\u001b[0m\u001b[0;34m(\u001b[0m\u001b[0max\u001b[0m\u001b[0;34m,\u001b[0m \u001b[0;34m*\u001b[0m\u001b[0mmap\u001b[0m\u001b[0;34m(\u001b[0m\u001b[0msanitize_sequence\u001b[0m\u001b[0;34m,\u001b[0m \u001b[0margs\u001b[0m\u001b[0;34m)\u001b[0m\u001b[0;34m,\u001b[0m \u001b[0;34m**\u001b[0m\u001b[0mkwargs\u001b[0m\u001b[0;34m)\u001b[0m\u001b[0;34m\u001b[0m\u001b[0;34m\u001b[0m\u001b[0m\n\u001b[0m\u001b[1;32m   1566\u001b[0m \u001b[0;34m\u001b[0m\u001b[0m\n\u001b[1;32m   1567\u001b[0m         \u001b[0mbound\u001b[0m \u001b[0;34m=\u001b[0m \u001b[0mnew_sig\u001b[0m\u001b[0;34m.\u001b[0m\u001b[0mbind\u001b[0m\u001b[0;34m(\u001b[0m\u001b[0max\u001b[0m\u001b[0;34m,\u001b[0m \u001b[0;34m*\u001b[0m\u001b[0margs\u001b[0m\u001b[0;34m,\u001b[0m \u001b[0;34m**\u001b[0m\u001b[0mkwargs\u001b[0m\u001b[0;34m)\u001b[0m\u001b[0;34m\u001b[0m\u001b[0;34m\u001b[0m\u001b[0m\n",
            "\u001b[0;32m/usr/local/lib/python3.7/dist-packages/matplotlib/cbook/deprecation.py\u001b[0m in \u001b[0;36mwrapper\u001b[0;34m(*args, **kwargs)\u001b[0m\n\u001b[1;32m    294\u001b[0m                 f\"for the old name will be dropped %(removal)s.\")\n\u001b[1;32m    295\u001b[0m             \u001b[0mkwargs\u001b[0m\u001b[0;34m[\u001b[0m\u001b[0mnew\u001b[0m\u001b[0;34m]\u001b[0m \u001b[0;34m=\u001b[0m \u001b[0mkwargs\u001b[0m\u001b[0;34m.\u001b[0m\u001b[0mpop\u001b[0m\u001b[0;34m(\u001b[0m\u001b[0mold\u001b[0m\u001b[0;34m)\u001b[0m\u001b[0;34m\u001b[0m\u001b[0;34m\u001b[0m\u001b[0m\n\u001b[0;32m--> 296\u001b[0;31m         \u001b[0;32mreturn\u001b[0m \u001b[0mfunc\u001b[0m\u001b[0;34m(\u001b[0m\u001b[0;34m*\u001b[0m\u001b[0margs\u001b[0m\u001b[0;34m,\u001b[0m \u001b[0;34m**\u001b[0m\u001b[0mkwargs\u001b[0m\u001b[0;34m)\u001b[0m\u001b[0;34m\u001b[0m\u001b[0;34m\u001b[0m\u001b[0m\n\u001b[0m\u001b[1;32m    297\u001b[0m \u001b[0;34m\u001b[0m\u001b[0m\n\u001b[1;32m    298\u001b[0m     \u001b[0;31m# wrapper() must keep the same documented signature as func(): if we\u001b[0m\u001b[0;34m\u001b[0m\u001b[0;34m\u001b[0m\u001b[0;34m\u001b[0m\u001b[0m\n",
            "\u001b[0;32m/usr/local/lib/python3.7/dist-packages/matplotlib/axes/_axes.py\u001b[0m in \u001b[0;36mhist2d\u001b[0;34m(self, x, y, bins, range, density, weights, cmin, cmax, **kwargs)\u001b[0m\n\u001b[1;32m   6924\u001b[0m \u001b[0;34m\u001b[0m\u001b[0m\n\u001b[1;32m   6925\u001b[0m         h, xedges, yedges = np.histogram2d(x, y, bins=bins, range=range,\n\u001b[0;32m-> 6926\u001b[0;31m                                            normed=density, weights=weights)\n\u001b[0m\u001b[1;32m   6927\u001b[0m \u001b[0;34m\u001b[0m\u001b[0m\n\u001b[1;32m   6928\u001b[0m         \u001b[0;32mif\u001b[0m \u001b[0mcmin\u001b[0m \u001b[0;32mis\u001b[0m \u001b[0;32mnot\u001b[0m \u001b[0;32mNone\u001b[0m\u001b[0;34m:\u001b[0m\u001b[0;34m\u001b[0m\u001b[0;34m\u001b[0m\u001b[0m\n",
            "\u001b[0;32m<__array_function__ internals>\u001b[0m in \u001b[0;36mhistogram2d\u001b[0;34m(*args, **kwargs)\u001b[0m\n",
            "\u001b[0;32m/usr/local/lib/python3.7/dist-packages/numpy/lib/twodim_base.py\u001b[0m in \u001b[0;36mhistogram2d\u001b[0;34m(x, y, bins, range, normed, weights, density)\u001b[0m\n\u001b[1;32m    749\u001b[0m         \u001b[0mxedges\u001b[0m \u001b[0;34m=\u001b[0m \u001b[0myedges\u001b[0m \u001b[0;34m=\u001b[0m \u001b[0masarray\u001b[0m\u001b[0;34m(\u001b[0m\u001b[0mbins\u001b[0m\u001b[0;34m)\u001b[0m\u001b[0;34m\u001b[0m\u001b[0;34m\u001b[0m\u001b[0m\n\u001b[1;32m    750\u001b[0m         \u001b[0mbins\u001b[0m \u001b[0;34m=\u001b[0m \u001b[0;34m[\u001b[0m\u001b[0mxedges\u001b[0m\u001b[0;34m,\u001b[0m \u001b[0myedges\u001b[0m\u001b[0;34m]\u001b[0m\u001b[0;34m\u001b[0m\u001b[0;34m\u001b[0m\u001b[0m\n\u001b[0;32m--> 751\u001b[0;31m     \u001b[0mhist\u001b[0m\u001b[0;34m,\u001b[0m \u001b[0medges\u001b[0m \u001b[0;34m=\u001b[0m \u001b[0mhistogramdd\u001b[0m\u001b[0;34m(\u001b[0m\u001b[0;34m[\u001b[0m\u001b[0mx\u001b[0m\u001b[0;34m,\u001b[0m \u001b[0my\u001b[0m\u001b[0;34m]\u001b[0m\u001b[0;34m,\u001b[0m \u001b[0mbins\u001b[0m\u001b[0;34m,\u001b[0m \u001b[0mrange\u001b[0m\u001b[0;34m,\u001b[0m \u001b[0mnormed\u001b[0m\u001b[0;34m,\u001b[0m \u001b[0mweights\u001b[0m\u001b[0;34m,\u001b[0m \u001b[0mdensity\u001b[0m\u001b[0;34m)\u001b[0m\u001b[0;34m\u001b[0m\u001b[0;34m\u001b[0m\u001b[0m\n\u001b[0m\u001b[1;32m    752\u001b[0m     \u001b[0;32mreturn\u001b[0m \u001b[0mhist\u001b[0m\u001b[0;34m,\u001b[0m \u001b[0medges\u001b[0m\u001b[0;34m[\u001b[0m\u001b[0;36m0\u001b[0m\u001b[0;34m]\u001b[0m\u001b[0;34m,\u001b[0m \u001b[0medges\u001b[0m\u001b[0;34m[\u001b[0m\u001b[0;36m1\u001b[0m\u001b[0;34m]\u001b[0m\u001b[0;34m\u001b[0m\u001b[0;34m\u001b[0m\u001b[0m\n\u001b[1;32m    753\u001b[0m \u001b[0;34m\u001b[0m\u001b[0m\n",
            "\u001b[0;32m<__array_function__ internals>\u001b[0m in \u001b[0;36mhistogramdd\u001b[0;34m(*args, **kwargs)\u001b[0m\n",
            "\u001b[0;32m/usr/local/lib/python3.7/dist-packages/numpy/lib/histograms.py\u001b[0m in \u001b[0;36mhistogramdd\u001b[0;34m(sample, bins, range, normed, weights, density)\u001b[0m\n\u001b[1;32m   1018\u001b[0m         \u001b[0;31m# Sample is a sequence of 1D arrays.\u001b[0m\u001b[0;34m\u001b[0m\u001b[0;34m\u001b[0m\u001b[0;34m\u001b[0m\u001b[0m\n\u001b[1;32m   1019\u001b[0m         \u001b[0msample\u001b[0m \u001b[0;34m=\u001b[0m \u001b[0mnp\u001b[0m\u001b[0;34m.\u001b[0m\u001b[0matleast_2d\u001b[0m\u001b[0;34m(\u001b[0m\u001b[0msample\u001b[0m\u001b[0;34m)\u001b[0m\u001b[0;34m.\u001b[0m\u001b[0mT\u001b[0m\u001b[0;34m\u001b[0m\u001b[0;34m\u001b[0m\u001b[0m\n\u001b[0;32m-> 1020\u001b[0;31m         \u001b[0mN\u001b[0m\u001b[0;34m,\u001b[0m \u001b[0mD\u001b[0m \u001b[0;34m=\u001b[0m \u001b[0msample\u001b[0m\u001b[0;34m.\u001b[0m\u001b[0mshape\u001b[0m\u001b[0;34m\u001b[0m\u001b[0;34m\u001b[0m\u001b[0m\n\u001b[0m\u001b[1;32m   1021\u001b[0m \u001b[0;34m\u001b[0m\u001b[0m\n\u001b[1;32m   1022\u001b[0m     \u001b[0mnbin\u001b[0m \u001b[0;34m=\u001b[0m \u001b[0mnp\u001b[0m\u001b[0;34m.\u001b[0m\u001b[0mempty\u001b[0m\u001b[0;34m(\u001b[0m\u001b[0mD\u001b[0m\u001b[0;34m,\u001b[0m \u001b[0mint\u001b[0m\u001b[0;34m)\u001b[0m\u001b[0;34m\u001b[0m\u001b[0;34m\u001b[0m\u001b[0m\n",
            "\u001b[0;31mValueError\u001b[0m: too many values to unpack (expected 2)"
          ]
        },
        {
          "output_type": "display_data",
          "data": {
            "text/plain": [
              "<Figure size 432x288 with 1 Axes>"
            ],
            "image/png": "[encoded data removed]"
          },
          "metadata": {
            "needs_background": "light"
          }
        }
      ]
    },
    {
      "cell_type": "markdown",
      "source": [
        "Problem 6 - Using linspace Generate 100 equally spaced points from 0 to 1. Then plot the cube of the values generated from linespace vs the linspace generated values."
      ],
      "metadata": {
        "id": "orPT92Y0po5o"
      }
    },
    {
      "cell_type": "code",
      "source": [
        "import numpy as np\n",
        "import matplotlib.pyplot as plt\n",
        "\n",
        "lin = np.linspace(0, 1, num=100)\n",
        "\n",
        "fig = plt.figure()\n",
        "l = fig.add_axes([0.15,0.1,0.8,0.8])\n",
        "l.plot(lin)\n",
        "l.set_xlabel('x')\n",
        "l.set_ylabel('y')\n",
        "l.set_title('Regular Linspace Values')\n",
        "\n",
        "fig = plt.figure()\n",
        "l2 = fig.add_axes([0.15,0.1,0.8,0.8])\n",
        "l2.plot(lin**3)\n",
        "l2.set_xlabel('x')\n",
        "l2.set_ylabel('y')\n",
        "l2.set_title('Cubed Linspace Values')\n",
        "\n"
      ],
      "metadata": {
        "id": "YQfsH4uopsv4",
        "colab": {
          "base_uri": "https://localhost:8080/",
          "height": 617
        },
        "outputId": "d28f22c3-bc16-42d8-a0b1-a1aaed99c1c1"
      },
      "execution_count": null,
      "outputs": [
        {
          "output_type": "execute_result",
          "data": {
            "text/plain": [
              "Text(0.5, 1.0, 'Cubed Linspace Values')"
            ]
          },
          "metadata": {},
          "execution_count": 4
        },
        {
          "output_type": "display_data",
          "data": {
            "text/plain": [
              "<Figure size 432x288 with 1 Axes>"
            ],
            "image/png": "[encoded data removed]"
          },
          "metadata": {
            "needs_background": "light"
          }
        },
        {
          "output_type": "display_data",
          "data": {
            "text/plain": [
              "<Figure size 432x288 with 1 Axes>"
            ],
            "image/png": "[encoded data removed]"
          },
          "metadata": {
            "needs_background": "light"
          }
        }
      ]
    }
  ]
}