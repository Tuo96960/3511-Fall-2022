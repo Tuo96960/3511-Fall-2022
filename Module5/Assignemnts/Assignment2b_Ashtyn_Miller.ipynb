{
  "cells": [
    {
      "cell_type": "markdown",
      "metadata": {
        "id": "_Pvg-PgrAKcH"
      },
      "source": [
        "# Assignment 5 Due: Wednesday 9/28"
      ]
    },
    {
      "cell_type": "markdown",
      "metadata": {
        "id": "6bR1CUXBAKcN"
      },
      "source": [
        "Please submit this assignment as Assignment2b_FirstName_LastName\n",
        "\n",
        "In this assignment you will explore fitting data and assessing how well your fit describes the different data sets.\n",
        "\n",
        "Assignment Overview:\n",
        "* Fit data and use $\\chi^2$ and the $\\chi^2$ test to assess \n",
        "* Analyze the efficiency of your data provided differnt threshold levels using your fit results \n",
        "\n",
        "For this assingment you can make use of the numpy, matplotlib, and the scipy packages."
      ]
    },
    {
      "cell_type": "code",
      "source": [
        "import numpy as np\n",
        "import matplotlib.pyplot as plt\n",
        "from scipy import optimize\n",
        "from scipy.optimize import curve_fit \n",
        "import scipy.special as sf \n",
        "import scipy.integrate as si\n",
        "import scipy.stats as st"
      ],
      "metadata": {
        "id": "AiHoeAPUCC6W"
      },
      "execution_count": null,
      "outputs": []
    },
    {
      "cell_type": "markdown",
      "metadata": {
        "id": "oZSBzgzbAKcW"
      },
      "source": [
        "# Problem 1: W Boson Mass\n",
        "\n",
        "Finding the *true* values of a quantity relies on analyzing results for many experiments. One quantity that has been measured many times is the W boson mass see Wikipedia https://en.wikipedia.org/wiki/W_and_Z_bosons and the particle data group (PDG) https://pdg.lbl.gov/2018/listings/rpp2018-list-w-boson.pdf \n",
        "\n",
        "**a)** In this problem you will analyze measurements of the W boson from various experiments and determine if the values are consistnet and given this data set, what the best fit value is. Start by reading in the data file Wmass_data.txt, which contains an experiment number, W mass in units of $GeV/c^2$ and its uncertainty.\n"
      ]
    },
    {
      "cell_type": "code",
      "execution_count": null,
      "metadata": {
        "colab": {
          "base_uri": "https://localhost:8080/",
          "height": 150
        },
        "id": "mURyhcoRAKcX",
        "outputId": "fb930538-88cb-4878-f1be-2586895ebe14"
      },
      "outputs": [
        {
          "output_type": "display_data",
          "data": {
            "text/plain": [
              "<IPython.core.display.HTML object>"
            ],
            "text/html": [
              "\n",
              "     <input type=\"file\" id=\"files-c538b3ca-c37c-4411-935b-5ca1692c75b1\" name=\"files[]\" multiple disabled\n",
              "        style=\"border:none\" />\n",
              "     <output id=\"result-c538b3ca-c37c-4411-935b-5ca1692c75b1\">\n",
              "      Upload widget is only available when the cell has been executed in the\n",
              "      current browser session. Please rerun this cell to enable.\n",
              "      </output>\n",
              "      <script>// Copyright 2017 Google LLC\n",
              "//\n",
              "// Licensed under the Apache License, Version 2.0 (the \"License\");\n",
              "// you may not use this file except in compliance with the License.\n",
              "// You may obtain a copy of the License at\n",
              "//\n",
              "//      http://www.apache.org/licenses/LICENSE-2.0\n",
              "//\n",
              "// Unless required by applicable law or agreed to in writing, software\n",
              "// distributed under the License is distributed on an \"AS IS\" BASIS,\n",
              "// WITHOUT WARRANTIES OR CONDITIONS OF ANY KIND, either express or implied.\n",
              "// See the License for the specific language governing permissions and\n",
              "// limitations under the License.\n",
              "\n",
              "/**\n",
              " * @fileoverview Helpers for google.colab Python module.\n",
              " */\n",
              "(function(scope) {\n",
              "function span(text, styleAttributes = {}) {\n",
              "  const element = document.createElement('span');\n",
              "  element.textContent = text;\n",
              "  for (const key of Object.keys(styleAttributes)) {\n",
              "    element.style[key] = styleAttributes[key];\n",
              "  }\n",
              "  return element;\n",
              "}\n",
              "\n",
              "// Max number of bytes which will be uploaded at a time.\n",
              "const MAX_PAYLOAD_SIZE = 100 * 1024;\n",
              "\n",
              "function _uploadFiles(inputId, outputId) {\n",
              "  const steps = uploadFilesStep(inputId, outputId);\n",
              "  const outputElement = document.getElementById(outputId);\n",
              "  // Cache steps on the outputElement to make it available for the next call\n",
              "  // to uploadFilesContinue from Python.\n",
              "  outputElement.steps = steps;\n",
              "\n",
              "  return _uploadFilesContinue(outputId);\n",
              "}\n",
              "\n",
              "// This is roughly an async generator (not supported in the browser yet),\n",
              "// where there are multiple asynchronous steps and the Python side is going\n",
              "// to poll for completion of each step.\n",
              "// This uses a Promise to block the python side on completion of each step,\n",
              "// then passes the result of the previous step as the input to the next step.\n",
              "function _uploadFilesContinue(outputId) {\n",
              "  const outputElement = document.getElementById(outputId);\n",
              "  const steps = outputElement.steps;\n",
              "\n",
              "  const next = steps.next(outputElement.lastPromiseValue);\n",
              "  return Promise.resolve(next.value.promise).then((value) => {\n",
              "    // Cache the last promise value to make it available to the next\n",
              "    // step of the generator.\n",
              "    outputElement.lastPromiseValue = value;\n",
              "    return next.value.response;\n",
              "  });\n",
              "}\n",
              "\n",
              "/**\n",
              " * Generator function which is called between each async step of the upload\n",
              " * process.\n",
              " * @param {string} inputId Element ID of the input file picker element.\n",
              " * @param {string} outputId Element ID of the output display.\n",
              " * @return {!Iterable<!Object>} Iterable of next steps.\n",
              " */\n",
              "function* uploadFilesStep(inputId, outputId) {\n",
              "  const inputElement = document.getElementById(inputId);\n",
              "  inputElement.disabled = false;\n",
              "\n",
              "  const outputElement = document.getElementById(outputId);\n",
              "  outputElement.innerHTML = '';\n",
              "\n",
              "  const pickedPromise = new Promise((resolve) => {\n",
              "    inputElement.addEventListener('change', (e) => {\n",
              "      resolve(e.target.files);\n",
              "    });\n",
              "  });\n",
              "\n",
              "  const cancel = document.createElement('button');\n",
              "  inputElement.parentElement.appendChild(cancel);\n",
              "  cancel.textContent = 'Cancel upload';\n",
              "  const cancelPromise = new Promise((resolve) => {\n",
              "    cancel.onclick = () => {\n",
              "      resolve(null);\n",
              "    };\n",
              "  });\n",
              "\n",
              "  // Wait for the user to pick the files.\n",
              "  const files = yield {\n",
              "    promise: Promise.race([pickedPromise, cancelPromise]),\n",
              "    response: {\n",
              "      action: 'starting',\n",
              "    }\n",
              "  };\n",
              "\n",
              "  cancel.remove();\n",
              "\n",
              "  // Disable the input element since further picks are not allowed.\n",
              "  inputElement.disabled = true;\n",
              "\n",
              "  if (!files) {\n",
              "    return {\n",
              "      response: {\n",
              "        action: 'complete',\n",
              "      }\n",
              "    };\n",
              "  }\n",
              "\n",
              "  for (const file of files) {\n",
              "    const li = document.createElement('li');\n",
              "    li.append(span(file.name, {fontWeight: 'bold'}));\n",
              "    li.append(span(\n",
              "        `(${file.type || 'n/a'}) - ${file.size} bytes, ` +\n",
              "        `last modified: ${\n",
              "            file.lastModifiedDate ? file.lastModifiedDate.toLocaleDateString() :\n",
              "                                    'n/a'} - `));\n",
              "    const percent = span('0% done');\n",
              "    li.appendChild(percent);\n",
              "\n",
              "    outputElement.appendChild(li);\n",
              "\n",
              "    const fileDataPromise = new Promise((resolve) => {\n",
              "      const reader = new FileReader();\n",
              "      reader.onload = (e) => {\n",
              "        resolve(e.target.result);\n",
              "      };\n",
              "      reader.readAsArrayBuffer(file);\n",
              "    });\n",
              "    // Wait for the data to be ready.\n",
              "    let fileData = yield {\n",
              "      promise: fileDataPromise,\n",
              "      response: {\n",
              "        action: 'continue',\n",
              "      }\n",
              "    };\n",
              "\n",
              "    // Use a chunked sending to avoid message size limits. See b/62115660.\n",
              "    let position = 0;\n",
              "    do {\n",
              "      const length = Math.min(fileData.byteLength - position, MAX_PAYLOAD_SIZE);\n",
              "      const chunk = new Uint8Array(fileData, position, length);\n",
              "      position += length;\n",
              "\n",
              "      const base64 = btoa(String.fromCharCode.apply(null, chunk));\n",
              "      yield {\n",
              "        response: {\n",
              "          action: 'append',\n",
              "          file: file.name,\n",
              "          data: base64,\n",
              "        },\n",
              "      };\n",
              "\n",
              "      let percentDone = fileData.byteLength === 0 ?\n",
              "          100 :\n",
              "          Math.round((position / fileData.byteLength) * 100);\n",
              "      percent.textContent = `${percentDone}% done`;\n",
              "\n",
              "    } while (position < fileData.byteLength);\n",
              "  }\n",
              "\n",
              "  // All done.\n",
              "  yield {\n",
              "    response: {\n",
              "      action: 'complete',\n",
              "    }\n",
              "  };\n",
              "}\n",
              "\n",
              "scope.google = scope.google || {};\n",
              "scope.google.colab = scope.google.colab || {};\n",
              "scope.google.colab._files = {\n",
              "  _uploadFiles,\n",
              "  _uploadFilesContinue,\n",
              "};\n",
              "})(self);\n",
              "</script> "
            ]
          },
          "metadata": {}
        },
        {
          "output_type": "stream",
          "name": "stdout",
          "text": [
            "Saving wmass_data.txt to wmass_data (1).txt\n",
            "{'wmass_data.txt': b'0 80.370 0.018\\n1 80.375 0.023\\n2 80.387 0.019\\n3 80.336 0.067\\n4 80.415 0.052\\n5 80.270 0.055\\n6 80.440 0.051\\n7 80.483 0.084\\n8 80.433 0.079'}\n",
            "['0 80.370 0.018\\n', '1 80.375 0.023\\n', '2 80.387 0.019\\n', '3 80.336 0.067\\n', '4 80.415 0.052\\n', '5 80.270 0.055\\n', '6 80.440 0.051\\n', '7 80.483 0.084\\n', '8 80.433 0.079']\n",
            "9\n"
          ]
        }
      ],
      "source": [
        "\n",
        "from google.colab import files\n",
        "wmass_data = files.upload()\n",
        "print(wmass_data)\n",
        "text = wmass_data['wmass_data.txt']\n",
        "\n",
        "wmass_matrix = []\n",
        "\n",
        "with open('wmass_data.txt', 'r') as linesFile:\n",
        "  rows = linesFile.readlines()\n",
        "  if rows[len(rows)-1] == '\\n':\n",
        "    rows.remove(rows[9])\n",
        "  print(rows)\n",
        "  print(len(rows))\n",
        "  for i in rows:\n",
        "    m = i.split()\n",
        "    wmass_matrix.append(m)"
      ]
    },
    {
      "cell_type": "markdown",
      "metadata": {
        "id": "rSbzSk74AKca"
      },
      "source": [
        "**b)** Compute the error weighted mean of the W mass and its uncertainty. How does the weighted mean compare to the bold faced average of the PDG?"
      ]
    },
    {
      "cell_type": "code",
      "execution_count": null,
      "metadata": {
        "colab": {
          "base_uri": "https://localhost:8080/"
        },
        "id": "OJ4t82kJAKcb",
        "outputId": "164f33a9-aae2-430f-c09e-ea27ffc3d68b"
      },
      "outputs": [
        {
          "output_type": "stream",
          "name": "stdout",
          "text": [
            "80.38683468417555\n",
            "My error weighted mean values were very close to the bold faced amount in the PDG.\n"
          ]
        }
      ],
      "source": [
        "xi_sum = 0\n",
        "xi_array = []\n",
        "unc_array = []\n",
        "num_array = []\n",
        "for i in wmass_matrix:\n",
        "  #print(i)\n",
        "  xi = i[1]\n",
        "  num = i[0]\n",
        "  num = float(num)\n",
        "  unc = i[2]\n",
        "  unc = float(unc)\n",
        "  unc_array.append(unc)\n",
        "  num_array.append(num)\n",
        "  xi = float(xi)\n",
        "  xi_sum += xi\n",
        "  xi_array.append(xi)\n",
        "mean = xi_sum/9\n",
        "mean_sum = mean*9\n",
        "\n",
        "#uncertainty = np.sqrt((1/8)*(xi_sum - mean_sum)**2)\n",
        "\n",
        "wi_sum = 0\n",
        "xiwi_sum = 0\n",
        "xi_array = []\n",
        "wi_array = []\n",
        "for i in wmass_matrix:\n",
        "  xi = i[1]\n",
        "  xi = float(xi)\n",
        "  xi_array.append(xi)\n",
        "  uncertainty_xi = np.sqrt((1/8)*(xi - mean)**2)\n",
        "  wi = 1/(uncertainty_xi ** 2)\n",
        "  wi_array.append(wi)\n",
        "  wi_sum += wi\n",
        "  xiwi = xi * wi\n",
        "  xiwi_sum += xiwi\n",
        "\n",
        "error_weighted_mean = (xiwi_sum)/(wi_sum)\n",
        "print(error_weighted_mean)\n",
        "\n",
        "uncertainty_error_weighted_mean = np.sqrt(1/wi_sum)\n",
        "\n",
        "\n",
        "print(\"My error weighted mean values were very close to the bold faced amount in the PDG.\")"
      ]
    },
    {
      "cell_type": "markdown",
      "metadata": {
        "id": "lxpJAaOPAKcc"
      },
      "source": [
        "**c)** Calculate the $\\chi^2$, degrees of freedom, reduced $\\chi^2$, and p-value. The p-value can be calculated using *gammaincc(dof / 2.0, chisq / 2.0)* from *scipy.special*. Based on the p-value are the data consistant?"
      ]
    },
    {
      "cell_type": "code",
      "execution_count": null,
      "metadata": {
        "id": "BC_dBo0YAKce",
        "colab": {
          "base_uri": "https://localhost:8080/"
        },
        "outputId": "f2bc00d0-80d7-4375-e7ee-30389debd482"
      },
      "outputs": [
        {
          "output_type": "stream",
          "name": "stdout",
          "text": [
            "\n",
            " chi squared = 80.38683468417555\n",
            "\n",
            " dof = 8\n",
            "\n",
            " p = 4.08632009948275e-14\n",
            "\n",
            " reduced chi squared = 8.93187052046399\n"
          ]
        }
      ],
      "source": [
        "fit_parameter = 1\n",
        "chisq_array =[]\n",
        "i = 0\n",
        "mult_xiwi = 0\n",
        "while i<9:\n",
        "  c = xi_array[i] * wi_array[i]\n",
        "  mult_xiwi += c\n",
        "  c2 = (mult_xiwi)/wi_sum\n",
        "  chisq_array.append(c2)\n",
        "  i += 1\n",
        "#print(mult_xiwi)\n",
        "chisq = (mult_xiwi)/wi_sum\n",
        "#chisq=st.chisquare(wi_array)\n",
        "print('\\n chi squared =', chisq)\n",
        "\n",
        "dof = len(wi_array) - fit_parameter\n",
        "print('\\n dof =', dof)\n",
        "\n",
        "p = sf.gammaincc(dof/2.0, chisq / 2.0)\n",
        "\n",
        "rchisq = chisq/(9-p)\n",
        "\n",
        "print('\\n p =', p)\n",
        "print('\\n reduced chi squared =', rchisq)\n",
        "\n",
        "#p_array= np.full(shape=9, fill_value=4.08632009948275e-14, dtype=np.int)\n",
        "#print(p_array)\n"
      ]
    },
    {
      "cell_type": "markdown",
      "metadata": {
        "id": "AbOLQPIcAKch"
      },
      "source": [
        "**d)** Plot the measurement number vs. the W mass. Don't forget to include the error bars on the W mass measurements. Then Fit a line of the form $y = p_0$, where $p_0$ is a constant parameter.\n",
        "\n",
        "How does your $p_0$ value compare to the weighted mean you calculated earlier in part b)?"
      ]
    },
    {
      "cell_type": "code",
      "execution_count": null,
      "metadata": {
        "id": "3Hw0591SAKci",
        "colab": {
          "base_uri": "https://localhost:8080/",
          "height": 326
        },
        "outputId": "8c7be27c-6e0f-4200-e493-c3479c851343"
      },
      "outputs": [
        {
          "output_type": "execute_result",
          "data": {
            "text/plain": [
              "Text(0.5, 1.0, 'Wmass Measurements')"
            ]
          },
          "metadata": {},
          "execution_count": 52
        },
        {
          "output_type": "display_data",
          "data": {
            "text/plain": [
              "<Figure size 432x288 with 1 Axes>"
            ],
            "image/png": "[encoded data removed]"
          },
          "metadata": {
            "needs_background": "light"
          }
        }
      ],
      "source": [
        "\n",
        "#def fun_exp(t,a,b):\n",
        "  #return a*np.exp(-t/b)\n",
        "\n",
        "#p0, p1 = curve_fit(fun_exp, num_array, xi_array, sigma=unc_array, absolute_sigma=True)\n",
        "\n",
        "fig = plt.figure()\n",
        "wm = fig.add_axes([0.1,0.1,0.8,0.8])\n",
        "wm.errorbar(num_array, xi_array, yerr = unc_array, fmt='.')\n",
        "wm.plot(num_array, xi_array)\n",
        "#wm.plot(num_array, fun_exp(num_array, *p0), 'r-')\n",
        "wm.set_ylabel('Wmass')\n",
        "wm.set_xlabel('Measurement Number')\n",
        "wm.set_title('Wmass Measurements')"
      ]
    },
    {
      "cell_type": "markdown",
      "metadata": {
        "id": "apUP4P-QAKck"
      },
      "source": [
        "# Problem 2: Proton Charge Radius\n",
        "\n",
        "We will carry an identical analysis as we did in Problem 1, but on a different quantity, the proton charge radius. The proton charge radius has been a recent hot topic in the nuclear physics field, as new designed experiments using muonic hydorgen have made very percise measurements of it. See https://www.nature.com/articles/s41586-019-1721-2\n",
        "\n",
        "There is an approchable video that reviews the history of the proton size and its measurements: https://www.youtube.com/watch?v=C5B_ZfGy4d0\n",
        "\n",
        "**a)** Import the data set proton_radius_data.txt, which includes the experiment number, the proton charge radius, and its uncertainty measured in $fm$. "
      ]
    },
    {
      "cell_type": "code",
      "execution_count": null,
      "metadata": {
        "colab": {
          "base_uri": "https://localhost:8080/",
          "height": 150
        },
        "id": "arzGuA9iAKcl",
        "outputId": "6464570d-ba77-4425-d0b1-da0e7848312d"
      },
      "outputs": [
        {
          "output_type": "display_data",
          "data": {
            "text/plain": [
              "<IPython.core.display.HTML object>"
            ],
            "text/html": [
              "\n",
              "     <input type=\"file\" id=\"files-eeac9416-a0b3-41f8-a567-2c5ab153fb75\" name=\"files[]\" multiple disabled\n",
              "        style=\"border:none\" />\n",
              "     <output id=\"result-eeac9416-a0b3-41f8-a567-2c5ab153fb75\">\n",
              "      Upload widget is only available when the cell has been executed in the\n",
              "      current browser session. Please rerun this cell to enable.\n",
              "      </output>\n",
              "      <script>// Copyright 2017 Google LLC\n",
              "//\n",
              "// Licensed under the Apache License, Version 2.0 (the \"License\");\n",
              "// you may not use this file except in compliance with the License.\n",
              "// You may obtain a copy of the License at\n",
              "//\n",
              "//      http://www.apache.org/licenses/LICENSE-2.0\n",
              "//\n",
              "// Unless required by applicable law or agreed to in writing, software\n",
              "// distributed under the License is distributed on an \"AS IS\" BASIS,\n",
              "// WITHOUT WARRANTIES OR CONDITIONS OF ANY KIND, either express or implied.\n",
              "// See the License for the specific language governing permissions and\n",
              "// limitations under the License.\n",
              "\n",
              "/**\n",
              " * @fileoverview Helpers for google.colab Python module.\n",
              " */\n",
              "(function(scope) {\n",
              "function span(text, styleAttributes = {}) {\n",
              "  const element = document.createElement('span');\n",
              "  element.textContent = text;\n",
              "  for (const key of Object.keys(styleAttributes)) {\n",
              "    element.style[key] = styleAttributes[key];\n",
              "  }\n",
              "  return element;\n",
              "}\n",
              "\n",
              "// Max number of bytes which will be uploaded at a time.\n",
              "const MAX_PAYLOAD_SIZE = 100 * 1024;\n",
              "\n",
              "function _uploadFiles(inputId, outputId) {\n",
              "  const steps = uploadFilesStep(inputId, outputId);\n",
              "  const outputElement = document.getElementById(outputId);\n",
              "  // Cache steps on the outputElement to make it available for the next call\n",
              "  // to uploadFilesContinue from Python.\n",
              "  outputElement.steps = steps;\n",
              "\n",
              "  return _uploadFilesContinue(outputId);\n",
              "}\n",
              "\n",
              "// This is roughly an async generator (not supported in the browser yet),\n",
              "// where there are multiple asynchronous steps and the Python side is going\n",
              "// to poll for completion of each step.\n",
              "// This uses a Promise to block the python side on completion of each step,\n",
              "// then passes the result of the previous step as the input to the next step.\n",
              "function _uploadFilesContinue(outputId) {\n",
              "  const outputElement = document.getElementById(outputId);\n",
              "  const steps = outputElement.steps;\n",
              "\n",
              "  const next = steps.next(outputElement.lastPromiseValue);\n",
              "  return Promise.resolve(next.value.promise).then((value) => {\n",
              "    // Cache the last promise value to make it available to the next\n",
              "    // step of the generator.\n",
              "    outputElement.lastPromiseValue = value;\n",
              "    return next.value.response;\n",
              "  });\n",
              "}\n",
              "\n",
              "/**\n",
              " * Generator function which is called between each async step of the upload\n",
              " * process.\n",
              " * @param {string} inputId Element ID of the input file picker element.\n",
              " * @param {string} outputId Element ID of the output display.\n",
              " * @return {!Iterable<!Object>} Iterable of next steps.\n",
              " */\n",
              "function* uploadFilesStep(inputId, outputId) {\n",
              "  const inputElement = document.getElementById(inputId);\n",
              "  inputElement.disabled = false;\n",
              "\n",
              "  const outputElement = document.getElementById(outputId);\n",
              "  outputElement.innerHTML = '';\n",
              "\n",
              "  const pickedPromise = new Promise((resolve) => {\n",
              "    inputElement.addEventListener('change', (e) => {\n",
              "      resolve(e.target.files);\n",
              "    });\n",
              "  });\n",
              "\n",
              "  const cancel = document.createElement('button');\n",
              "  inputElement.parentElement.appendChild(cancel);\n",
              "  cancel.textContent = 'Cancel upload';\n",
              "  const cancelPromise = new Promise((resolve) => {\n",
              "    cancel.onclick = () => {\n",
              "      resolve(null);\n",
              "    };\n",
              "  });\n",
              "\n",
              "  // Wait for the user to pick the files.\n",
              "  const files = yield {\n",
              "    promise: Promise.race([pickedPromise, cancelPromise]),\n",
              "    response: {\n",
              "      action: 'starting',\n",
              "    }\n",
              "  };\n",
              "\n",
              "  cancel.remove();\n",
              "\n",
              "  // Disable the input element since further picks are not allowed.\n",
              "  inputElement.disabled = true;\n",
              "\n",
              "  if (!files) {\n",
              "    return {\n",
              "      response: {\n",
              "        action: 'complete',\n",
              "      }\n",
              "    };\n",
              "  }\n",
              "\n",
              "  for (const file of files) {\n",
              "    const li = document.createElement('li');\n",
              "    li.append(span(file.name, {fontWeight: 'bold'}));\n",
              "    li.append(span(\n",
              "        `(${file.type || 'n/a'}) - ${file.size} bytes, ` +\n",
              "        `last modified: ${\n",
              "            file.lastModifiedDate ? file.lastModifiedDate.toLocaleDateString() :\n",
              "                                    'n/a'} - `));\n",
              "    const percent = span('0% done');\n",
              "    li.appendChild(percent);\n",
              "\n",
              "    outputElement.appendChild(li);\n",
              "\n",
              "    const fileDataPromise = new Promise((resolve) => {\n",
              "      const reader = new FileReader();\n",
              "      reader.onload = (e) => {\n",
              "        resolve(e.target.result);\n",
              "      };\n",
              "      reader.readAsArrayBuffer(file);\n",
              "    });\n",
              "    // Wait for the data to be ready.\n",
              "    let fileData = yield {\n",
              "      promise: fileDataPromise,\n",
              "      response: {\n",
              "        action: 'continue',\n",
              "      }\n",
              "    };\n",
              "\n",
              "    // Use a chunked sending to avoid message size limits. See b/62115660.\n",
              "    let position = 0;\n",
              "    do {\n",
              "      const length = Math.min(fileData.byteLength - position, MAX_PAYLOAD_SIZE);\n",
              "      const chunk = new Uint8Array(fileData, position, length);\n",
              "      position += length;\n",
              "\n",
              "      const base64 = btoa(String.fromCharCode.apply(null, chunk));\n",
              "      yield {\n",
              "        response: {\n",
              "          action: 'append',\n",
              "          file: file.name,\n",
              "          data: base64,\n",
              "        },\n",
              "      };\n",
              "\n",
              "      let percentDone = fileData.byteLength === 0 ?\n",
              "          100 :\n",
              "          Math.round((position / fileData.byteLength) * 100);\n",
              "      percent.textContent = `${percentDone}% done`;\n",
              "\n",
              "    } while (position < fileData.byteLength);\n",
              "  }\n",
              "\n",
              "  // All done.\n",
              "  yield {\n",
              "    response: {\n",
              "      action: 'complete',\n",
              "    }\n",
              "  };\n",
              "}\n",
              "\n",
              "scope.google = scope.google || {};\n",
              "scope.google.colab = scope.google.colab || {};\n",
              "scope.google.colab._files = {\n",
              "  _uploadFiles,\n",
              "  _uploadFilesContinue,\n",
              "};\n",
              "})(self);\n",
              "</script> "
            ]
          },
          "metadata": {}
        },
        {
          "output_type": "stream",
          "name": "stdout",
          "text": [
            "Saving proton_radius_data.txt to proton_radius_data (1).txt\n",
            "{'proton_radius_data.txt': b'0 0.83350 0.00950\\n1 0.89500 0.01980\\n2 0.91600 0.02400\\n3 0.87750 0.00510\\n4 0.87500 0.01000\\n5 0.87900 0.00781\\n6 0.91200 0.01140\\n7 0.87100 0.00949\\n8 0.84148 0.00067\\n9 0.87680 0.00690\\n10 0.84400 0.00600\\n11 0.89700 0.01800\\n12 0.87500 0.00680\\n13 0.89500 0.01640\\n14 0.84087 0.00039'}\n",
            "['0 0.83350 0.00950\\n', '1 0.89500 0.01980\\n', '2 0.91600 0.02400\\n', '3 0.87750 0.00510\\n', '4 0.87500 0.01000\\n', '5 0.87900 0.00781\\n', '6 0.91200 0.01140\\n', '7 0.87100 0.00949\\n', '8 0.84148 0.00067\\n', '9 0.87680 0.00690\\n', '10 0.84400 0.00600\\n', '11 0.89700 0.01800\\n', '12 0.87500 0.00680\\n', '13 0.89500 0.01640\\n', '14 0.84087 0.00039']\n",
            "15\n"
          ]
        }
      ],
      "source": [
        "\n",
        "from google.colab import files\n",
        "proton_radius_data = files.upload()\n",
        "print(proton_radius_data)\n",
        "text = proton_radius_data['proton_radius_data.txt']\n",
        "\n",
        "prad_matrix = []\n",
        "\n",
        "with open('proton_radius_data.txt', 'r') as linesFile:\n",
        "  prows = linesFile.readlines()\n",
        "  #if prows[len(prows)-1] == '\\n':\n",
        "    #prows.remove(prows[9])\n",
        "  print(prows)\n",
        "  print(len(prows))\n",
        "  for i in prows:\n",
        "    r = i.split()\n",
        "    prad_matrix.append(r)"
      ]
    },
    {
      "cell_type": "markdown",
      "metadata": {
        "id": "xrCvEfHvAKcm"
      },
      "source": [
        "**b)** Compute the error weighted mean of the proton charge radius and its uncertainty. \n",
        "\n",
        "You can also compare this to the PDG value (pgs. 6 and 7): https://pdg.lbl.gov/2018/listings/rpp2018-list-p.pdf "
      ]
    },
    {
      "cell_type": "code",
      "execution_count": null,
      "metadata": {
        "id": "64N42Zc0AKcn",
        "colab": {
          "base_uri": "https://localhost:8080/"
        },
        "outputId": "f459c531-cf51-4680-f4e4-db9212ea7a56"
      },
      "outputs": [
        {
          "output_type": "stream",
          "name": "stdout",
          "text": [
            "0.8773928117634271\n",
            "My error weighted mean values were fairly close.\n"
          ]
        }
      ],
      "source": [
        "pi_sum = 0\n",
        "pi_array = []\n",
        "for i in prad_matrix:\n",
        "  #print(i)\n",
        "  pi = i[1]\n",
        "  pi = float(pi)\n",
        "  pi_sum += pi\n",
        "  pi_array.append(pi)\n",
        "pmean = pi_sum/9\n",
        "pmean_sum = pmean*9\n",
        "\n",
        "#uncertainty = np.sqrt((1/8)*(xi_sum - mean_sum)**2)\n",
        "\n",
        "wpi_sum = 0\n",
        "piwi_sum = 0\n",
        "uncp_array = []\n",
        "pi_array = []\n",
        "wpi_array = []\n",
        "pnum_array = []\n",
        "\n",
        "for i in prad_matrix:\n",
        "  pnum = i[0]\n",
        "  pi = i[1]\n",
        "  uncp = i[2]\n",
        "  pnum = float(pnum)\n",
        "  uncp = float(uncp)\n",
        "  pi = float(pi)\n",
        "  uncp_array.append(uncp)\n",
        "  pnum_array.append(pnum)\n",
        "  pi_array.append(pi)\n",
        "  uncertainty_pi = np.sqrt((1/8)*(pi - pmean)**2)\n",
        "  wpi = 1/(uncertainty_pi ** 2)\n",
        "  wpi_array.append(wpi)\n",
        "  wpi_sum += wpi\n",
        "  piwi = pi * wpi\n",
        "  piwi_sum += piwi\n",
        "\n",
        "perror_weighted_mean = (piwi_sum)/(wpi_sum)\n",
        "print(perror_weighted_mean)\n",
        "\n",
        "uncertainty_perror_weighted_mean = np.sqrt(1/wpi_sum)\n",
        "\n",
        "\n",
        "print(\"My error weighted mean values were fairly close.\")\n",
        "\n",
        "#print(len(uncp_array), len(pi_array), len(pnum_array))"
      ]
    },
    {
      "cell_type": "markdown",
      "metadata": {
        "id": "dSbPWHVLAKcn"
      },
      "source": [
        "**c)** Calculate the  $\\chi^2$, degrees of freedom, reduced $\\chi^2$ and p-value. Based on the p-value are the data consistant? Do you see what all of the fuss is about."
      ]
    },
    {
      "cell_type": "code",
      "execution_count": null,
      "metadata": {
        "id": "ZbuQqv3IAKcq",
        "colab": {
          "base_uri": "https://localhost:8080/"
        },
        "outputId": "df2afd29-196d-4757-f506-6cf29e7e7cb8"
      },
      "outputs": [
        {
          "output_type": "stream",
          "name": "stdout",
          "text": [
            "\n",
            " chi squared = 80.38683468417555\n",
            "\n",
            " dof = 14\n",
            "\n",
            " p = 0.9999999849650527\n",
            "\n",
            " reduced chi squared = 0.06664164145223817\n"
          ]
        }
      ],
      "source": [
        "fit_parameter = 1\n",
        "\n",
        "i=0\n",
        "pi = 0\n",
        "mult_piwi = 0\n",
        "while i<9:\n",
        "  pc = pi_array[i] * wpi_array[i]\n",
        "  mult_piwi += pc\n",
        "  i += 1\n",
        "#print(mult_piwi)\n",
        "pchisq = (mult_piwi)/wpi_sum\n",
        "print('\\n chi squared =', chisq)\n",
        "\n",
        "dof = len(pi_array) - fit_parameter\n",
        "print('\\n dof =', dof)\n",
        "\n",
        "p2 = sf.gammaincc(dof/2.0, pchisq / 2.0)\n",
        "\n",
        "prchisq = pchisq/(9-p2)\n",
        "\n",
        "print('\\n p =', p2)\n",
        "print('\\n reduced chi squared =', prchisq)\n",
        "\n"
      ]
    },
    {
      "cell_type": "markdown",
      "metadata": {
        "id": "Gi3D1WhDAKcr"
      },
      "source": [
        "**d)** Plot the measurement number vs. the proton charge radius. Don't forget to include the error bars on the proton charge radius measurements. Then Fit a line of the form  $y = p_0$ , where $p_0$ is a constant parameter.\n",
        "\n",
        "How does your $p_0$ value compare to the weighted mean you calculated earlier in part b)?"
      ]
    },
    {
      "cell_type": "code",
      "execution_count": null,
      "metadata": {
        "id": "EPMntpPPAKcs",
        "colab": {
          "base_uri": "https://localhost:8080/",
          "height": 326
        },
        "outputId": "d00e1a69-ab44-4d58-99d6-0650a502bbb8"
      },
      "outputs": [
        {
          "output_type": "execute_result",
          "data": {
            "text/plain": [
              "Text(0.5, 1.0, 'Proton Charge Radius Measurements')"
            ]
          },
          "metadata": {},
          "execution_count": 56
        },
        {
          "output_type": "display_data",
          "data": {
            "text/plain": [
              "<Figure size 432x288 with 1 Axes>"
            ],
            "image/png": "[encoded data removed]"
          },
          "metadata": {
            "needs_background": "light"
          }
        }
      ],
      "source": [
        "fig = plt.figure()\n",
        "pm = fig.add_axes([0.1,0.1,0.8,0.8])\n",
        "pm.errorbar(pnum_array, pi_array, yerr = uncp_array, fmt='.')\n",
        "pm.plot(pnum_array, pi_array)\n",
        "pm.set_xlabel('Measurement Number')\n",
        "pm.set_xlabel('Proton Charge Radius Data')\n",
        "pm.set_title('Proton Charge Radius Measurements')"
      ]
    },
    {
      "cell_type": "markdown",
      "metadata": {
        "id": "c56Ds0FgAKcs"
      },
      "source": [
        "# Problem 3: Selecting Data\n",
        "\n",
        "In particle physics we sometimes want to measure a particlular particle that is created from many which result from a collision in a particle collider. In recording these collision events we typically measure other particles which are not the ones we are intersted in. The events we are interested in we refer to as our signal, whereas the ones we are not interested in we refer to as a background. \n",
        "\n",
        "**a)** The provided data set (Ep_data.txt) contains values of particle energy/momentum (E/p), the number of particles, and the uncertainty on the number of particles. Import the data and plot the number of particles vs. E/p and be sure to include the error bars on the particle counts. "
      ]
    },
    {
      "cell_type": "code",
      "execution_count": null,
      "metadata": {
        "colab": {
          "base_uri": "https://localhost:8080/",
          "height": 150
        },
        "id": "2uccicZJAKct",
        "outputId": "316359e7-5a75-4d2c-a9f7-54b2371c691a"
      },
      "outputs": [
        {
          "output_type": "display_data",
          "data": {
            "text/plain": [
              "<IPython.core.display.HTML object>"
            ],
            "text/html": [
              "\n",
              "     <input type=\"file\" id=\"files-528c630d-d836-4b68-887d-b06ba187cb02\" name=\"files[]\" multiple disabled\n",
              "        style=\"border:none\" />\n",
              "     <output id=\"result-528c630d-d836-4b68-887d-b06ba187cb02\">\n",
              "      Upload widget is only available when the cell has been executed in the\n",
              "      current browser session. Please rerun this cell to enable.\n",
              "      </output>\n",
              "      <script>// Copyright 2017 Google LLC\n",
              "//\n",
              "// Licensed under the Apache License, Version 2.0 (the \"License\");\n",
              "// you may not use this file except in compliance with the License.\n",
              "// You may obtain a copy of the License at\n",
              "//\n",
              "//      http://www.apache.org/licenses/LICENSE-2.0\n",
              "//\n",
              "// Unless required by applicable law or agreed to in writing, software\n",
              "// distributed under the License is distributed on an \"AS IS\" BASIS,\n",
              "// WITHOUT WARRANTIES OR CONDITIONS OF ANY KIND, either express or implied.\n",
              "// See the License for the specific language governing permissions and\n",
              "// limitations under the License.\n",
              "\n",
              "/**\n",
              " * @fileoverview Helpers for google.colab Python module.\n",
              " */\n",
              "(function(scope) {\n",
              "function span(text, styleAttributes = {}) {\n",
              "  const element = document.createElement('span');\n",
              "  element.textContent = text;\n",
              "  for (const key of Object.keys(styleAttributes)) {\n",
              "    element.style[key] = styleAttributes[key];\n",
              "  }\n",
              "  return element;\n",
              "}\n",
              "\n",
              "// Max number of bytes which will be uploaded at a time.\n",
              "const MAX_PAYLOAD_SIZE = 100 * 1024;\n",
              "\n",
              "function _uploadFiles(inputId, outputId) {\n",
              "  const steps = uploadFilesStep(inputId, outputId);\n",
              "  const outputElement = document.getElementById(outputId);\n",
              "  // Cache steps on the outputElement to make it available for the next call\n",
              "  // to uploadFilesContinue from Python.\n",
              "  outputElement.steps = steps;\n",
              "\n",
              "  return _uploadFilesContinue(outputId);\n",
              "}\n",
              "\n",
              "// This is roughly an async generator (not supported in the browser yet),\n",
              "// where there are multiple asynchronous steps and the Python side is going\n",
              "// to poll for completion of each step.\n",
              "// This uses a Promise to block the python side on completion of each step,\n",
              "// then passes the result of the previous step as the input to the next step.\n",
              "function _uploadFilesContinue(outputId) {\n",
              "  const outputElement = document.getElementById(outputId);\n",
              "  const steps = outputElement.steps;\n",
              "\n",
              "  const next = steps.next(outputElement.lastPromiseValue);\n",
              "  return Promise.resolve(next.value.promise).then((value) => {\n",
              "    // Cache the last promise value to make it available to the next\n",
              "    // step of the generator.\n",
              "    outputElement.lastPromiseValue = value;\n",
              "    return next.value.response;\n",
              "  });\n",
              "}\n",
              "\n",
              "/**\n",
              " * Generator function which is called between each async step of the upload\n",
              " * process.\n",
              " * @param {string} inputId Element ID of the input file picker element.\n",
              " * @param {string} outputId Element ID of the output display.\n",
              " * @return {!Iterable<!Object>} Iterable of next steps.\n",
              " */\n",
              "function* uploadFilesStep(inputId, outputId) {\n",
              "  const inputElement = document.getElementById(inputId);\n",
              "  inputElement.disabled = false;\n",
              "\n",
              "  const outputElement = document.getElementById(outputId);\n",
              "  outputElement.innerHTML = '';\n",
              "\n",
              "  const pickedPromise = new Promise((resolve) => {\n",
              "    inputElement.addEventListener('change', (e) => {\n",
              "      resolve(e.target.files);\n",
              "    });\n",
              "  });\n",
              "\n",
              "  const cancel = document.createElement('button');\n",
              "  inputElement.parentElement.appendChild(cancel);\n",
              "  cancel.textContent = 'Cancel upload';\n",
              "  const cancelPromise = new Promise((resolve) => {\n",
              "    cancel.onclick = () => {\n",
              "      resolve(null);\n",
              "    };\n",
              "  });\n",
              "\n",
              "  // Wait for the user to pick the files.\n",
              "  const files = yield {\n",
              "    promise: Promise.race([pickedPromise, cancelPromise]),\n",
              "    response: {\n",
              "      action: 'starting',\n",
              "    }\n",
              "  };\n",
              "\n",
              "  cancel.remove();\n",
              "\n",
              "  // Disable the input element since further picks are not allowed.\n",
              "  inputElement.disabled = true;\n",
              "\n",
              "  if (!files) {\n",
              "    return {\n",
              "      response: {\n",
              "        action: 'complete',\n",
              "      }\n",
              "    };\n",
              "  }\n",
              "\n",
              "  for (const file of files) {\n",
              "    const li = document.createElement('li');\n",
              "    li.append(span(file.name, {fontWeight: 'bold'}));\n",
              "    li.append(span(\n",
              "        `(${file.type || 'n/a'}) - ${file.size} bytes, ` +\n",
              "        `last modified: ${\n",
              "            file.lastModifiedDate ? file.lastModifiedDate.toLocaleDateString() :\n",
              "                                    'n/a'} - `));\n",
              "    const percent = span('0% done');\n",
              "    li.appendChild(percent);\n",
              "\n",
              "    outputElement.appendChild(li);\n",
              "\n",
              "    const fileDataPromise = new Promise((resolve) => {\n",
              "      const reader = new FileReader();\n",
              "      reader.onload = (e) => {\n",
              "        resolve(e.target.result);\n",
              "      };\n",
              "      reader.readAsArrayBuffer(file);\n",
              "    });\n",
              "    // Wait for the data to be ready.\n",
              "    let fileData = yield {\n",
              "      promise: fileDataPromise,\n",
              "      response: {\n",
              "        action: 'continue',\n",
              "      }\n",
              "    };\n",
              "\n",
              "    // Use a chunked sending to avoid message size limits. See b/62115660.\n",
              "    let position = 0;\n",
              "    do {\n",
              "      const length = Math.min(fileData.byteLength - position, MAX_PAYLOAD_SIZE);\n",
              "      const chunk = new Uint8Array(fileData, position, length);\n",
              "      position += length;\n",
              "\n",
              "      const base64 = btoa(String.fromCharCode.apply(null, chunk));\n",
              "      yield {\n",
              "        response: {\n",
              "          action: 'append',\n",
              "          file: file.name,\n",
              "          data: base64,\n",
              "        },\n",
              "      };\n",
              "\n",
              "      let percentDone = fileData.byteLength === 0 ?\n",
              "          100 :\n",
              "          Math.round((position / fileData.byteLength) * 100);\n",
              "      percent.textContent = `${percentDone}% done`;\n",
              "\n",
              "    } while (position < fileData.byteLength);\n",
              "  }\n",
              "\n",
              "  // All done.\n",
              "  yield {\n",
              "    response: {\n",
              "      action: 'complete',\n",
              "    }\n",
              "  };\n",
              "}\n",
              "\n",
              "scope.google = scope.google || {};\n",
              "scope.google.colab = scope.google.colab || {};\n",
              "scope.google.colab._files = {\n",
              "  _uploadFiles,\n",
              "  _uploadFilesContinue,\n",
              "};\n",
              "})(self);\n",
              "</script> "
            ]
          },
          "metadata": {}
        },
        {
          "output_type": "stream",
          "name": "stdout",
          "text": [
            "Saving ep_data.txt to ep_data (1).txt\n",
            "{'ep_data.txt': b'0.00 0.89 0.50\\n0.02 0.20 0.50\\n0.04 0.50 0.50\\n0.06 1.13 0.50\\n0.08 0.95 0.50\\n0.10 -0.47 0.50\\n0.12 0.50 0.50\\n0.14 -0.05 0.50\\n0.16 -0.01 0.50\\n0.18 0.26 0.50\\n0.20 0.14 0.50\\n0.22 0.82 0.50\\n0.24 0.52 0.50\\n0.26 0.26 0.50\\n0.28 0.52 0.50\\n0.30 0.62 0.50\\n0.32 1.44 0.50\\n0.34 0.96 0.50\\n0.36 1.77 0.50\\n0.38 1.99 0.50\\n0.40 2.24 0.50\\n0.42 5.30 0.50\\n0.44 7.24 0.50\\n0.46 8.64 0.50\\n0.48 12.64 0.50\\n0.51 13.42 0.50\\n0.53 16.80 0.50\\n0.55 19.06 0.50\\n0.57 21.83 0.50\\n0.59 23.07 0.50\\n0.61 22.93 0.50\\n0.63 22.78 0.50\\n0.65 21.19 0.50\\n0.67 19.14 0.50\\n0.69 18.10 0.50\\n0.71 16.39 0.50\\n0.73 15.03 0.50\\n0.75 13.35 0.50\\n0.77 11.20 0.50\\n0.79 10.25 0.50\\n0.81 9.22 0.50\\n0.83 8.67 0.50\\n0.85 8.38 0.50\\n0.87 10.23 0.50\\n0.89 9.11 0.50\\n0.91 9.31 0.50\\n0.93 9.07 0.50\\n0.95 10.23 0.50\\n0.97 9.14 0.50\\n0.99 9.90 0.50\\n1.01 9.55 0.50\\n1.03 10.12 0.50\\n1.05 9.54 0.50\\n1.07 9.02 0.50\\n1.09 9.35 0.50\\n1.11 9.27 0.50\\n1.13 8.74 0.50\\n1.15 8.47 0.50\\n1.17 7.58 0.50\\n1.19 7.27 0.50\\n1.21 6.64 0.50\\n1.23 6.31 0.50\\n1.25 5.60 0.50\\n1.27 4.65 0.50\\n1.29 5.12 0.50\\n1.31 4.36 0.50\\n1.33 3.30 0.50\\n1.35 3.91 0.50\\n1.37 2.82 0.50\\n1.39 2.92 0.50\\n1.41 2.90 0.50\\n1.43 2.28 0.50\\n1.45 2.48 0.50\\n1.47 1.03 0.50\\n1.49 1.61 0.50\\n1.52 0.85 0.50\\n1.54 0.57 0.50\\n1.56 0.56 0.50\\n1.58 0.55 0.50\\n1.60 0.61 0.50\\n1.62 -0.10 0.50\\n1.64 0.84 0.50\\n1.66 0.55 0.50\\n1.68 -0.51 0.50\\n1.70 0.95 0.50\\n1.72 1.11 0.50\\n1.74 0.72 0.50\\n1.76 0.01 0.50\\n1.78 -0.46 0.50\\n1.80 0.59 0.50\\n1.82 -0.15 0.50\\n1.84 0.65 0.50\\n1.86 0.13 0.50\\n1.88 0.51 0.50\\n1.90 0.19 0.50\\n1.92 0.36 0.50\\n1.94 0.01 0.50\\n1.96 0.90 0.50\\n1.98 0.07 0.50\\n2.00 0.20 0.50'}\n",
            "['0.00 0.89 0.50\\n', '0.02 0.20 0.50\\n', '0.04 0.50 0.50\\n', '0.06 1.13 0.50\\n', '0.08 0.95 0.50\\n', '0.10 -0.47 0.50\\n', '0.12 0.50 0.50\\n', '0.14 -0.05 0.50\\n', '0.16 -0.01 0.50\\n', '0.18 0.26 0.50\\n', '0.20 0.14 0.50\\n', '0.22 0.82 0.50\\n', '0.24 0.52 0.50\\n', '0.26 0.26 0.50\\n', '0.28 0.52 0.50\\n', '0.30 0.62 0.50\\n', '0.32 1.44 0.50\\n', '0.34 0.96 0.50\\n', '0.36 1.77 0.50\\n', '0.38 1.99 0.50\\n', '0.40 2.24 0.50\\n', '0.42 5.30 0.50\\n', '0.44 7.24 0.50\\n', '0.46 8.64 0.50\\n', '0.48 12.64 0.50\\n', '0.51 13.42 0.50\\n', '0.53 16.80 0.50\\n', '0.55 19.06 0.50\\n', '0.57 21.83 0.50\\n', '0.59 23.07 0.50\\n', '0.61 22.93 0.50\\n', '0.63 22.78 0.50\\n', '0.65 21.19 0.50\\n', '0.67 19.14 0.50\\n', '0.69 18.10 0.50\\n', '0.71 16.39 0.50\\n', '0.73 15.03 0.50\\n', '0.75 13.35 0.50\\n', '0.77 11.20 0.50\\n', '0.79 10.25 0.50\\n', '0.81 9.22 0.50\\n', '0.83 8.67 0.50\\n', '0.85 8.38 0.50\\n', '0.87 10.23 0.50\\n', '0.89 9.11 0.50\\n', '0.91 9.31 0.50\\n', '0.93 9.07 0.50\\n', '0.95 10.23 0.50\\n', '0.97 9.14 0.50\\n', '0.99 9.90 0.50\\n', '1.01 9.55 0.50\\n', '1.03 10.12 0.50\\n', '1.05 9.54 0.50\\n', '1.07 9.02 0.50\\n', '1.09 9.35 0.50\\n', '1.11 9.27 0.50\\n', '1.13 8.74 0.50\\n', '1.15 8.47 0.50\\n', '1.17 7.58 0.50\\n', '1.19 7.27 0.50\\n', '1.21 6.64 0.50\\n', '1.23 6.31 0.50\\n', '1.25 5.60 0.50\\n', '1.27 4.65 0.50\\n', '1.29 5.12 0.50\\n', '1.31 4.36 0.50\\n', '1.33 3.30 0.50\\n', '1.35 3.91 0.50\\n', '1.37 2.82 0.50\\n', '1.39 2.92 0.50\\n', '1.41 2.90 0.50\\n', '1.43 2.28 0.50\\n', '1.45 2.48 0.50\\n', '1.47 1.03 0.50\\n', '1.49 1.61 0.50\\n', '1.52 0.85 0.50\\n', '1.54 0.57 0.50\\n', '1.56 0.56 0.50\\n', '1.58 0.55 0.50\\n', '1.60 0.61 0.50\\n', '1.62 -0.10 0.50\\n', '1.64 0.84 0.50\\n', '1.66 0.55 0.50\\n', '1.68 -0.51 0.50\\n', '1.70 0.95 0.50\\n', '1.72 1.11 0.50\\n', '1.74 0.72 0.50\\n', '1.76 0.01 0.50\\n', '1.78 -0.46 0.50\\n', '1.80 0.59 0.50\\n', '1.82 -0.15 0.50\\n', '1.84 0.65 0.50\\n', '1.86 0.13 0.50\\n', '1.88 0.51 0.50\\n', '1.90 0.19 0.50\\n', '1.92 0.36 0.50\\n', '1.94 0.01 0.50\\n', '1.96 0.90 0.50\\n', '1.98 0.07 0.50\\n', '2.00 0.20 0.50']\n",
            "100\n"
          ]
        }
      ],
      "source": [
        " from google.colab import files\n",
        "Ep_data = files.upload()\n",
        "print(Ep_data)\n",
        "text = Ep_data['ep_data.txt']\n",
        "\n",
        "ep_matrix = []\n",
        "\n",
        "with open('ep_data.txt', 'r') as linesFile:\n",
        "  eprows = linesFile.readlines()\n",
        "  print(eprows)\n",
        "  print(len(eprows))\n",
        "  for i in eprows:\n",
        "    ep_r = i.split()\n",
        "    ep_matrix.append(ep_r)\n"
      ]
    },
    {
      "cell_type": "code",
      "source": [
        "ep_array = []\n",
        "particles_array = []\n",
        "unce_array = []\n",
        "epwi_array = []\n",
        "epwi_sum = 0\n",
        "\n",
        "for i in ep_matrix:\n",
        "  ep = i[0]\n",
        "  particles = i[1]\n",
        "  unce = i[2]\n",
        "\n",
        "  unce = float(unce)\n",
        "  ep = float(ep)\n",
        "  \n",
        "  unce_array.append(unce)\n",
        "  ep_array.append(ep)\n",
        "  particles_array.append(particles)\n",
        "  \n",
        "  uncertainty_ep = np.sqrt((1/8)*(pi - pmean)**2)\n",
        "  epwi = 1/(uncertainty_ep ** 2)\n",
        "  epwi_array.append(epwi)\n",
        "  ep_wi = ep*epwi\n",
        "  epwi_sum += ep_wi\n",
        "\n",
        "# def func_exp(t,a,b):\n",
        "#     return a*np.exp(-t/b)\n",
        "# f, l = curve_fit(func_exp, t, N, sigma=N_error, absolute_sigma=True)\n",
        "\n",
        "fig = plt.figure()\n",
        "ep = fig.add_axes([0.1,0.1,0.8,0.8])\n",
        "ep.errorbar(particles_array, ep_array, yerr=unce_array, fmt='.')\n",
        "ep.set_xlabel('Number of Particles')\n",
        "ep.set_ylabel('E/P')\n",
        "ep.set_title('Energy/Momentum Measurements')"
      ],
      "metadata": {
        "id": "QzXCw_7fiQj8",
        "colab": {
          "base_uri": "https://localhost:8080/",
          "height": 326
        },
        "outputId": "c65a8bf3-b09f-48a3-cc9f-01374709c5fe"
      },
      "execution_count": null,
      "outputs": [
        {
          "output_type": "execute_result",
          "data": {
            "text/plain": [
              "Text(0.5, 1.0, 'Energy/Momentum Measurements')"
            ]
          },
          "metadata": {},
          "execution_count": 58
        },
        {
          "output_type": "display_data",
          "data": {
            "text/plain": [
              "<Figure size 432x288 with 1 Axes>"
            ],
            "image/png": "[encoded data removed]"
          },
          "metadata": {
            "needs_background": "light"
          }
        }
      ]
    },
    {
      "cell_type": "markdown",
      "metadata": {
        "id": "cRjsiQniAKcu"
      },
      "source": [
        "**b)** You should notice that there appear to be two clear distributions here. One which seems to be centered E/p = 0.6 and another around E/p = 1. The population at the lower E/p represent pions, whereas the population around E/p = 1 are electrons. For this exersice we will treat the pions as a background and the electrons as our signal. We will model each particle type to have a Gaussian distribution. Define two python functions, one that returns a value computed from a Gaussian functions, and another python function that returns a value computed from the sum of two Gaussian functions. Then make a fit to the data using the sum of two Gaussian functions. Each of your Gaussian functions can take the form of:\n",
        "\n",
        "$G_1(x) = p_1 e^{-(x-p_2)^2/(2p_3)}$\n",
        "\n",
        "where the $p_1, p_2,$ and $p_3$ are three parameters for the one Gaussian function. You will have 3 more different parameters for the other Gaussian function $G_2(x)$. So we want to fit our E/p distribution with function $G_1(x) + G_2(x)$. The image below shows my fit, with the $G_1(x) + G_2(x)$ fit being the black curve. From this fit I can use the fit parameters to draw $G_1(x)$ (blue curve) and $G_2(x)$ (red curve). \n",
        "\n",
        "Note: Did you get a negative value for the gaussian widths from your fit? We know that a negative value is not physical. Try to give some initial parameters for the fit to start with.\n"
      ]
    },
    {
      "cell_type": "code",
      "execution_count": null,
      "metadata": {
        "id": "v6SR4lwlAKcu"
      },
      "outputs": [],
      "source": [
        "fit_parameter = 1\n",
        "p_data_points = 9\n",
        "\n",
        "pi = 0\n",
        "mult_piwi = 0\n",
        "i = 0\n",
        "while i<9:\n",
        "  pc = pi_array[i] * wpi_array[i]\n",
        "  mult_piwi += pc\n",
        "  i += 1\n",
        "pchisq = (mult_piwi)/wpi_sum\n",
        "\n",
        "dof = p_data_points - fit_parameter\n",
        "\n",
        "\n",
        "p2 = sf.gammaincc(dof/2.0, pchisq / 2.0)\n",
        "\n",
        "prchisq = pchisq/(9-p2)\n",
        "\n",
        "\n",
        "def g1():\n",
        "  e = np.exp((0-(x-p2)**2)/(2*p3))\n",
        "  eq1 = p1 * e\n",
        "  return eq1\n",
        "\n",
        "\n",
        "def gsum():\n",
        "  e = np.exp((0-(x-p4)**2)/(2*p5))\n",
        "  eq2 = p6 * e\n",
        "  return g1() + eq2"
      ]
    },
    {
      "cell_type": "markdown",
      "metadata": {
        "id": "k5DN3jMtAKcv"
      },
      "source": [
        "**c)** Calculate your $\\chi^2$, degrees of freedom, reduced $\\chi^2$, and p-value for the fit to the data.\n",
        "Based on those statistics above is this a good fit? Explain."
      ]
    },
    {
      "cell_type": "code",
      "source": [
        "fit_parameter = 1\n",
        "epchisq_array =[]\n",
        "i = 0\n",
        "mult_epwi = 0\n",
        "while i<9:\n",
        "  c = ep_array[i] * epwi_array[i]\n",
        "  mult_epwi += c\n",
        "  c2 = (mult_epwi)/epwi_sum\n",
        "  epchisq_array.append(c2)\n",
        "  i += 1\n",
        "#print(mult_xiwi)\n",
        "epchisq = (mult_epwi)/epwi_sum\n",
        "#chisq=st.chisquare(wi_array)\n",
        "print('\\n chi squared =', chisq)\n",
        "\n",
        "dof = len(epwi_array) - fit_parameter\n",
        "print('\\n dof =', dof)\n",
        "\n",
        "epp = sf.gammaincc(dof/2.0, epchisq / 2.0)\n",
        "\n",
        "eprchisq = epchisq/(9-epp)\n",
        "\n",
        "print('\\n p =', epp)\n",
        "print('\\n reduced chi squared =', eprchisq)\n",
        "\n",
        "#p_array= np.full(shape=9, fill_value=4.08632009948275e-14, dtype=np.int)\n",
        "#print(p_array)"
      ],
      "metadata": {
        "id": "yP2_I447m0_k",
        "colab": {
          "base_uri": "https://localhost:8080/"
        },
        "outputId": "2edc1e76-9330-4349-a7e8-4af96f7e5426"
      },
      "execution_count": null,
      "outputs": [
        {
          "output_type": "stream",
          "name": "stdout",
          "text": [
            "\n",
            " chi squared = 80.38683468417555\n",
            "\n",
            " dof = 99\n",
            "\n",
            " p = 1.0\n",
            "\n",
            " reduced chi squared = 0.0009000000000000004\n"
          ]
        }
      ]
    },
    {
      "cell_type": "markdown",
      "metadata": {
        "id": "6n_p8YkFAKcw"
      },
      "source": [
        "**d)** On the same graph, plot your data, the total fit to it, and the single Gaussian functions computed using the parameter results from your 2 Gaussian function fit (e.g. reproduce my fit figure). "
      ]
    },
    {
      "cell_type": "code",
      "execution_count": null,
      "metadata": {
        "id": "_sinxQNxAKcx",
        "colab": {
          "base_uri": "https://localhost:8080/",
          "height": 326
        },
        "outputId": "f1e0fe3b-80f5-4f39-b050-303689c290e0"
      },
      "outputs": [
        {
          "output_type": "execute_result",
          "data": {
            "text/plain": [
              "Text(0.5, 1.0, 'Energy/Momentum Measurements, Fit, and Gaussian Functions')"
            ]
          },
          "metadata": {},
          "execution_count": 64
        },
        {
          "output_type": "display_data",
          "data": {
            "text/plain": [
              "<Figure size 432x288 with 1 Axes>"
            ],
            "image/png": "[encoded data removed]"
          },
          "metadata": {
            "needs_background": "light"
          }
        }
      ],
      "source": [
        "fig = plt.figure()\n",
        "ep2 = fig.add_axes([0.1,0.1,0.8,0.8])\n",
        "#ep2.errorbar(particles_array, ep_array, yerr=unce_array, fmt='.')\n",
        "ep2.set_xlabel('E/p')\n",
        "ep2.set_ylabel('')\n",
        "ep2.set_title('Energy/Momentum Measurements, Fit, and Gaussian Functions')"
      ]
    },
    {
      "cell_type": "markdown",
      "metadata": {
        "id": "Al68Ru4OAKcy"
      },
      "source": [
        "**e)** We can use the $E/p$ distribution to try to select the maximum number of electrons while minimizing the number of pions that *leak* into our electron signal. We can do this by requireing our selected sample to be larger than some $E/p$ threshold value. Any data that has an $E/p$ value lower then the threshold we throw it out. In a physics analysis this is called a cut. However we need to be careful, if we place a cut at $E/p$ that is too large we will have a really clean electron sample, but throw away a lot of good electrons. On the other hand if we make the $E/p$ cut too low we will keep most of our electrons, but let in a lot of background (pions). So we must compormise between clean data and statistics. To do this lets calculat the total number of electrons we have from $0.0 < E/p < 2$. This can be obtained by integrating (you can use scipy integrators, I used *integrate.quad* when doing this exersise)the electron contribution from our fit. We will call this number e_tot. Do a similar thing for the total pions and call that number pi_tot. \n",
        "\n",
        "For 10 equally spaced E/p thresholds between 0.3 and 0.8, calculate the number of electrons that are above each of the thresholds, we can call this array e_sig and can be obtained by integrating from the E/p threshold value to the E/p = 2. Do a similar thing for the pion distribution. \n",
        "\n",
        "Below is the your graph in part f) should look like.\n",
        "\n",
        "\n"
      ]
    },
    {
      "cell_type": "code",
      "execution_count": null,
      "metadata": {
        "id": "JgKrDdAZAKcz",
        "colab": {
          "base_uri": "https://localhost:8080/"
        },
        "outputId": "8eede320-c28e-4773-e5d5-c329e080f769"
      },
      "outputs": [
        {
          "output_type": "stream",
          "name": "stdout",
          "text": [
            "I am having a difficult time with this section in particular, but also the fitting aspects of the assignment as a whole. I will email you right after this regarding getting extra help next week to better understand the material.\n"
          ]
        }
      ],
      "source": [
        "e_tot = si.quad\n",
        "pi_tot = si.quad\n",
        "\n",
        "ep_values = np.linspace(0.3, 0.8, num=10)\n",
        "pi_values = np.linspace(0.3, 0.8, num=10)\n",
        "\n",
        "print(\"I am having a difficult time with this section in particular, but also the fitting aspects of the assignment as a whole. I will email you right after this regarding getting extra help next week to better understand the material.\")"
      ]
    },
    {
      "cell_type": "markdown",
      "metadata": {
        "id": "hEghSVbhAKcz"
      },
      "source": [
        "**f)** Plot the ratios e_sig/e_tot and pi_sig/pi_tot as a function of E/p threshold on the same graph. "
      ]
    },
    {
      "cell_type": "code",
      "execution_count": null,
      "metadata": {
        "id": "D0MO8uhFAKc1",
        "colab": {
          "base_uri": "https://localhost:8080/",
          "height": 314
        },
        "outputId": "1fd51630-3598-4cd3-f95d-484a86cbc685"
      },
      "outputs": [
        {
          "output_type": "execute_result",
          "data": {
            "text/plain": [
              "Text(0.5, 0, 'E/p Cut Threshold')"
            ]
          },
          "metadata": {},
          "execution_count": 67
        },
        {
          "output_type": "display_data",
          "data": {
            "text/plain": [
              "<Figure size 432x288 with 1 Axes>"
            ],
            "image/png": "[encoded data removed]"
          },
          "metadata": {
            "needs_background": "light"
          }
        }
      ],
      "source": [
        "fig = plt.figure()\n",
        "sc = fig.add_axes([0.1,0.1,0.8,0.8])\n",
        "#sc.scatter()\n",
        "#sc.scatter()\n",
        "sc.set_ylabel('Ratio (%)')\n",
        "sc.set_xlabel('E/p Cut Threshold')"
      ]
    },
    {
      "cell_type": "markdown",
      "metadata": {
        "id": "9t8qK5CkAKc1"
      },
      "source": [
        "**g)** When the e_sig/etot ratio is 90%, how what percentage of the pion distribution is contaminating our electron sample?"
      ]
    },
    {
      "cell_type": "code",
      "execution_count": null,
      "metadata": {
        "id": "-Q5hWXEvAKc2",
        "colab": {
          "base_uri": "https://localhost:8080/"
        },
        "outputId": "b287b639-e637-4b13-a766-d96165c80c87"
      },
      "outputs": [
        {
          "output_type": "stream",
          "name": "stdout",
          "text": [
            "currently unable to answer\n"
          ]
        }
      ],
      "source": [
        "print('currently unable to answer')"
      ]
    }
  ],
  "metadata": {
    "kernelspec": {
      "display_name": "Python 3 (ipykernel)",
      "language": "python",
      "name": "python3"
    },
    "language_info": {
      "codemirror_mode": {
        "name": "ipython",
        "version": 3
      },
      "file_extension": ".py",
      "mimetype": "text/x-python",
      "name": "python",
      "nbconvert_exporter": "python",
      "pygments_lexer": "ipython3",
      "version": "3.9.12"
    },
    "colab": {
      "provenance": [],
      "collapsed_sections": []
    }
  },
  "nbformat": 4,
  "nbformat_minor": 0
}